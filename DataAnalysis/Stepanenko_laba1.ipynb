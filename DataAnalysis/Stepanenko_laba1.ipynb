{
 "cells": [
  {
   "cell_type": "code",
   "execution_count": 1,
   "metadata": {},
   "outputs": [],
   "source": [
    "import numpy as np"
   ]
  },
  {
   "cell_type": "markdown",
   "metadata": {},
   "source": [
    "# 1st part. NumPy presentation"
   ]
  },
  {
   "cell_type": "code",
   "execution_count": 2,
   "metadata": {},
   "outputs": [
    {
     "data": {
      "text/plain": [
       "array([[ 1.05013627e+00, -1.45398694e-01,  1.02013865e+00, ...,\n",
       "        -3.19126668e-01, -6.11974292e-02, -8.96082007e-01],\n",
       "       [-1.80493829e-03,  7.52074347e-01,  1.94070262e+00, ...,\n",
       "        -5.88211394e-01,  9.42047841e-01,  3.08796191e-01],\n",
       "       [ 1.23311338e+00, -6.42263406e-01, -4.18879792e-01, ...,\n",
       "        -3.29413125e-01, -1.79316692e-01, -7.61991720e-01],\n",
       "       ...,\n",
       "       [-2.21755634e-01, -7.75385927e-01,  5.59220251e-03, ...,\n",
       "        -1.77175736e-01, -8.29331451e-01,  1.73254335e+00],\n",
       "       [-7.36558254e-01, -1.34945075e+00, -3.10398080e+00, ...,\n",
       "         8.11193919e-01, -2.32866264e+00, -1.08754046e+00],\n",
       "       [ 1.70015540e-01,  8.14350398e-01,  1.25910784e+00, ...,\n",
       "        -1.69877872e-01, -6.34116287e-01,  1.79465383e+00]])"
      ]
     },
     "execution_count": 2,
     "metadata": {},
     "output_type": "execute_result"
    }
   ],
   "source": [
    "# Generate a matrix with size of 100 x 100 that contains random values with normal distribution with E = 0 and D = 1\n",
    "A_m = np.random.normal(0, 1, (100, 100))\n",
    "A_m"
   ]
  },
  {
   "cell_type": "code",
   "execution_count": 3,
   "metadata": {},
   "outputs": [
    {
     "data": {
      "text/plain": [
       "2.39680476657378"
      ]
     },
     "execution_count": 3,
     "metadata": {},
     "output_type": "execute_result"
    }
   ],
   "source": [
    "# Max value of 1st row of the matrix\n",
    "np.max(A_m[0, :])"
   ]
  },
  {
   "cell_type": "code",
   "execution_count": 4,
   "metadata": {},
   "outputs": [
    {
     "data": {
      "text/plain": [
       "-0.00668426185505846"
      ]
     },
     "execution_count": 4,
     "metadata": {},
     "output_type": "execute_result"
    }
   ],
   "source": [
    "# Mean value of the matrix\n",
    "np.mean(A_m)"
   ]
  },
  {
   "cell_type": "code",
   "execution_count": 5,
   "metadata": {},
   "outputs": [
    {
     "data": {
      "text/plain": [
       "1.0010143624444523"
      ]
     },
     "execution_count": 5,
     "metadata": {},
     "output_type": "execute_result"
    }
   ],
   "source": [
    "# Standard deviation of the matrix\n",
    "np.std(A_m)"
   ]
  },
  {
   "cell_type": "code",
   "execution_count": 6,
   "metadata": {},
   "outputs": [
    {
     "data": {
      "text/plain": [
       "(array([[-1.11101859e-01, -2.94060258e-03,  7.97859388e-02, ...,\n",
       "         -5.81178737e-02,  8.53032972e-02, -3.53506518e-02],\n",
       "        [ 1.90958074e-04, -7.48370124e-02,  1.95852395e-01, ...,\n",
       "          2.22993309e-01,  1.44281027e-01,  1.10580755e-01],\n",
       "        [-1.30460391e-01,  4.34865700e-02, -7.02705376e-02, ...,\n",
       "          2.11159984e-02, -1.70380232e-01,  1.84807218e-01],\n",
       "        ...,\n",
       "        [ 2.34612058e-02,  8.08649714e-02,  1.02501060e-02, ...,\n",
       "          4.75219684e-03,  2.15502816e-01, -6.55801064e-02],\n",
       "        [ 7.79260687e-02,  1.46548642e-01, -2.94115787e-01, ...,\n",
       "         -1.32503425e-01,  8.45962844e-02,  3.05573381e-03],\n",
       "        [-1.79872299e-02, -8.38857604e-02,  1.21063597e-01, ...,\n",
       "         -7.51229240e-02, -7.67692393e-02, -3.40764274e-02]]),\n",
       " array([[ -9.4520135 ,   1.57457723,  -2.19465196, ...,   0.15878554,\n",
       "           0.4762008 ,   0.07171315],\n",
       "        [  0.        , -10.04547943,  -0.52498299, ...,  -0.66903624,\n",
       "          -0.67249198,  -0.41035384],\n",
       "        [  0.        ,   0.        ,   9.71054525, ...,  -0.42461884,\n",
       "          -0.86444724,   1.25437771],\n",
       "        ...,\n",
       "        [  0.        ,   0.        ,   0.        , ...,  -2.28126578,\n",
       "          -0.21762559,   0.12872807],\n",
       "        [  0.        ,   0.        ,   0.        , ...,   0.        ,\n",
       "          -3.05129346,   0.60826952],\n",
       "        [  0.        ,   0.        ,   0.        , ...,   0.        ,\n",
       "           0.        ,  -0.3889634 ]]))"
      ]
     },
     "execution_count": 6,
     "metadata": {},
     "output_type": "execute_result"
    }
   ],
   "source": [
    "# QR decomposition\n",
    "np.linalg.qr(A_m)"
   ]
  },
  {
   "cell_type": "code",
   "execution_count": 7,
   "metadata": {},
   "outputs": [
    {
     "data": {
      "text/plain": [
       "146.6702889732221"
      ]
     },
     "execution_count": 7,
     "metadata": {},
     "output_type": "execute_result"
    }
   ],
   "source": [
    "# Max value of scalar multiplication among all rows\n",
    "np.max([np.dot(A_m[i, :], A_m[i, :]) for i in range(A_m.shape[0])])"
   ]
  },
  {
   "cell_type": "code",
   "execution_count": 8,
   "metadata": {},
   "outputs": [
    {
     "data": {
      "text/plain": [
       "0.6617406577656161"
      ]
     },
     "execution_count": 8,
     "metadata": {},
     "output_type": "execute_result"
    }
   ],
   "source": [
    "# Standard deviation of sin(A_m)\n",
    "np.std(np.sin(A_m))"
   ]
  },
  {
   "cell_type": "code",
   "execution_count": 9,
   "metadata": {},
   "outputs": [
    {
     "data": {
      "text/plain": [
       "array([[ 2.52609108e+00, -6.84502264e+00,  8.94662372e+00, ...,\n",
       "         1.56479761e+00,  2.36001620e+01, -4.75026738e+00],\n",
       "       [-6.90448181e-01,  9.38021912e-01, -9.95685135e+00, ...,\n",
       "        -9.86794079e+00, -5.27661374e+00, -1.91726193e+01],\n",
       "       [ 1.08546223e+01, -6.02534975e+00, -1.55209196e+01, ...,\n",
       "        -8.60089838e+00, -2.69727911e+00,  2.89853238e+01],\n",
       "       ...,\n",
       "       [ 1.05023137e+01,  3.75115416e+00,  1.50796824e+00, ...,\n",
       "         1.96560879e+01, -1.69837552e+00,  4.78669032e+00],\n",
       "       [ 9.28849017e+00,  1.71020343e+01, -8.85117885e+00, ...,\n",
       "         4.04689653e+00,  3.77527287e-03,  4.35439154e-01],\n",
       "       [-4.11659603e-01,  3.77323726e+00,  1.38573279e+01, ...,\n",
       "         1.23679513e+01,  3.20631625e+00,  2.13812285e+01]])"
      ]
     },
     "execution_count": 9,
     "metadata": {},
     "output_type": "execute_result"
    }
   ],
   "source": [
    "# Matrix multiplication\n",
    "np.dot(A_m, A_m)"
   ]
  },
  {
   "cell_type": "code",
   "execution_count": 10,
   "metadata": {},
   "outputs": [
    {
     "data": {
      "text/plain": [
       "array([[-1.19553496,  1.16553734, -2.06851697, ...,  0.19540064,\n",
       "         0.25792924, -0.83488458],\n",
       "       [ 0.75387929,  1.18862827, -2.05739111, ..., -1.82453381,\n",
       "         1.53025924, -0.63325165],\n",
       "       [-1.87537679,  0.22338361, -0.59762821, ..., -2.270755  ,\n",
       "         0.15009643, -0.58267503],\n",
       "       ...,\n",
       "       [-0.55363029,  0.78097813,  0.35607271, ..., -0.26232587,\n",
       "        -0.65215572,  2.5618748 ],\n",
       "       [-0.6128925 , -1.75453005,  3.82028182, ...,  0.4290316 ,\n",
       "        -3.13985656,  1.24112218],\n",
       "       [ 0.64433486,  0.44475744, -1.59325699, ...,  0.236443  ,\n",
       "        -0.46423841,  2.42877012]])"
      ]
     },
     "execution_count": 10,
     "metadata": {},
     "output_type": "execute_result"
    }
   ],
   "source": [
    "# Difference of the matrix o[i] = A_m[i + 1] - A_m[i]\n",
    "np.diff(A_m)"
   ]
  },
  {
   "cell_type": "code",
   "execution_count": 11,
   "metadata": {},
   "outputs": [
    {
     "data": {
      "text/plain": [
       "array([[ -1.86614222 +0.j        ,   8.37102099 +9.35235572j,\n",
       "         -0.71878043 -5.36614507j, ...,  -4.97688983 +3.4633313j ,\n",
       "         -0.71878043 +5.36614507j,   8.37102099 -9.35235572j],\n",
       "       [-15.91211466 +0.j        ,  10.52404329 +3.40331092j,\n",
       "         11.86097165 +5.48619222j, ...,  -6.05168444 -5.82208424j,\n",
       "         11.86097165 -5.48619222j,  10.52404329 -3.40331092j],\n",
       "       [  2.42721926 +0.j        ,  -5.52203641-10.65282742j,\n",
       "         -3.23673105 +2.31932766j, ...,  -5.67915258-15.47028276j,\n",
       "         -3.23673105 -2.31932766j,  -5.52203641+10.65282742j],\n",
       "       ...,\n",
       "       [  3.88824683 +0.j        ,   5.31953602 -7.86404299j,\n",
       "         -1.15382498+10.20844629j, ...,   3.87027161 +5.5014955j ,\n",
       "         -1.15382498-10.20844629j,   5.31953602 +7.86404299j],\n",
       "       [-18.8952174  +0.j        ,  -1.07795815 -4.39752743j,\n",
       "        -10.07804324 +3.21483731j, ...,  -7.94128727-10.26147683j,\n",
       "        -10.07804324 -3.21483731j,  -1.07795815 +4.39752743j],\n",
       "       [ -1.7073665  +0.j        ,   5.06316885-12.75904918j,\n",
       "         -5.1933153  +2.36759316j, ...,  12.87164651 +5.8232035j ,\n",
       "         -5.1933153  -2.36759316j,   5.06316885+12.75904918j]])"
      ]
     },
     "execution_count": 11,
     "metadata": {},
     "output_type": "execute_result"
    }
   ],
   "source": [
    "# Fourier transformation of the matrix\n",
    "np.fft.fft(A_m)"
   ]
  },
  {
   "cell_type": "code",
   "execution_count": 12,
   "metadata": {},
   "outputs": [
    {
     "data": {
      "text/plain": [
       "array([ 0.        ,  1.11111111,  2.22222222,  3.33333333,  4.44444444,\n",
       "        5.55555556,  6.66666667,  7.77777778,  8.88888889, 10.        ])"
      ]
     },
     "execution_count": 12,
     "metadata": {},
     "output_type": "execute_result"
    }
   ],
   "source": [
    "# A vector from 0 to 10 that contains 10 elements\n",
    "np.linspace(0, 10, 10)"
   ]
  },
  {
   "cell_type": "code",
   "execution_count": 13,
   "metadata": {},
   "outputs": [
    {
     "data": {
      "text/plain": [
       "array([[0., 0., 0., 0., 0., 0., 0., 0., 0., 0.],\n",
       "       [0., 0., 0., 0., 0., 0., 0., 0., 0., 0.],\n",
       "       [0., 0., 0., 0., 0., 0., 0., 0., 0., 0.],\n",
       "       [0., 0., 0., 0., 0., 0., 0., 0., 0., 0.],\n",
       "       [0., 0., 0., 0., 0., 0., 0., 0., 0., 0.],\n",
       "       [0., 0., 0., 0., 0., 0., 0., 0., 0., 0.],\n",
       "       [0., 0., 0., 0., 0., 0., 0., 0., 0., 0.],\n",
       "       [0., 0., 0., 0., 0., 0., 0., 0., 0., 0.],\n",
       "       [0., 0., 0., 0., 0., 0., 0., 0., 0., 0.],\n",
       "       [0., 0., 0., 0., 0., 0., 0., 0., 0., 0.]])"
      ]
     },
     "execution_count": 13,
     "metadata": {},
     "output_type": "execute_result"
    }
   ],
   "source": [
    "# A matrix with size of 10 x 10 that contains 0s\n",
    "np.zeros((10, 10))"
   ]
  },
  {
   "cell_type": "markdown",
   "metadata": {},
   "source": [
    "# 2nd part. Olap cube generation"
   ]
  },
  {
   "cell_type": "code",
   "execution_count": 14,
   "metadata": {},
   "outputs": [],
   "source": [
    "shops = 100\n",
    "goods = 20\n",
    "days = 30"
   ]
  },
  {
   "cell_type": "code",
   "execution_count": 15,
   "metadata": {},
   "outputs": [],
   "source": [
    "def fill_cube(E_s, D_s, shops, goods, days):\n",
    "    assert len(E_s) == goods\n",
    "    assert len(D_s) == goods\n",
    "    cube = np.zeros((shops, goods, days))\n",
    "    for good in range(goods):\n",
    "        cube[:, good, :] = np.random.normal(E_s[good], D_s[good], (shops, days))\n",
    "    return cube"
   ]
  },
  {
   "cell_type": "code",
   "execution_count": 16,
   "metadata": {},
   "outputs": [],
   "source": [
    "E_s = np.random.randint(2, 10000, goods)\n",
    "D_s = [np.random.randint(1, E_s[i] / 100) for i in range(goods)]"
   ]
  },
  {
   "cell_type": "code",
   "execution_count": 17,
   "metadata": {},
   "outputs": [],
   "source": [
    "cube = fill_cube(E_s, D_s, shops, goods, days)"
   ]
  },
  {
   "cell_type": "markdown",
   "metadata": {},
   "source": [
    "# 3rd part. Olap cube using."
   ]
  },
  {
   "cell_type": "markdown",
   "metadata": {},
   "source": [
    "## Looking for a day on which max count of product 1 was sold"
   ]
  },
  {
   "cell_type": "code",
   "execution_count": 18,
   "metadata": {},
   "outputs": [
    {
     "name": "stdout",
     "output_type": "stream",
     "text": [
      "The day for good 1 is 20. Amount is 2082.3437862040196\n"
     ]
    }
   ],
   "source": [
    "amount = 0\n",
    "maxDay = 0\n",
    "for i in range(cube.shape[2]):\n",
    "    if amount < np.max(cube[:, 1, i]):\n",
    "        amount = np.max(cube[:, 1, i])\n",
    "        maxDay = i\n",
    "print('The day for good 1 is {}. Amount is {}'.format(maxDay, amount))"
   ]
  },
  {
   "cell_type": "markdown",
   "metadata": {},
   "source": [
    "## Looking for max amount of money"
   ]
  },
  {
   "cell_type": "code",
   "execution_count": 19,
   "metadata": {},
   "outputs": [
    {
     "name": "stdout",
     "output_type": "stream",
     "text": [
      "Money amount = 10047.754467536299\n"
     ]
    }
   ],
   "source": [
    "print(\"Money amount = {}\".format(np.max(cube)))"
   ]
  },
  {
   "cell_type": "markdown",
   "metadata": {},
   "source": [
    "## Looking for correlation between stores 1, 2 for product 1"
   ]
  },
  {
   "cell_type": "code",
   "execution_count": 20,
   "metadata": {},
   "outputs": [
    {
     "name": "stdout",
     "output_type": "stream",
     "text": [
      "Correlation is -0.015904787674997627\n"
     ]
    }
   ],
   "source": [
    "R = np.mean((cube[1, 1, :] - np.mean(cube[1, 1, :])) * (cube[2, 1, :] - np.mean(cube[2, 1, :]))) / np.std(cube[1, 1, :]) / np.std(cube[2, 1, :])\n",
    "print('Correlation is {}' .format(R))"
   ]
  },
  {
   "cell_type": "markdown",
   "metadata": {},
   "source": [
    "## Looking for amount of money from 1 day to 10 for 1 shop for 1 - 5 products"
   ]
  },
  {
   "cell_type": "code",
   "execution_count": 21,
   "metadata": {},
   "outputs": [
    {
     "name": "stdout",
     "output_type": "stream",
     "text": [
      "Amount of money = 221018.15957206246\n"
     ]
    }
   ],
   "source": [
    "print('Amount of money = {}'.format(np.sum(cube[1, 1:6, 1:11])))"
   ]
  },
  {
   "cell_type": "markdown",
   "metadata": {},
   "source": [
    "## Looking for minimum amount of money from day 20 to 29 in shops 1 - 10 for products 1 - 10"
   ]
  },
  {
   "cell_type": "code",
   "execution_count": 22,
   "metadata": {},
   "outputs": [
    {
     "name": "stdout",
     "output_type": "stream",
     "text": [
      "Minimum = 285.27352290263826\n"
     ]
    }
   ],
   "source": [
    "print('Minimum = {}'.format(cube[1: 11, 1: 11, 20: 30].min()))"
   ]
  },
  {
   "cell_type": "markdown",
   "metadata": {},
   "source": [
    "## Looking for mean amount of money for each product among all days"
   ]
  },
  {
   "cell_type": "code",
   "execution_count": 27,
   "metadata": {},
   "outputs": [
    {
     "name": "stdout",
     "output_type": "stream",
     "text": [
      "Mean amount of money for product0 = 9385.264517075635\n",
      "Mean amount of money for product1 = 2074.926640416493\n",
      "Mean amount of money for product2 = 6637.044245456827\n",
      "Mean amount of money for product3 = 3150.667130207214\n",
      "Mean amount of money for product4 = 1682.8514108774466\n",
      "Mean amount of money for product5 = 8572.906723707863\n",
      "Mean amount of money for product6 = 9693.394070494829\n",
      "Mean amount of money for product7 = 2722.0047281548186\n",
      "Mean amount of money for product8 = 8566.023662516567\n",
      "Mean amount of money for product9 = 5730.4828769552\n",
      "Mean amount of money for product10 = 289.9635605053082\n",
      "Mean amount of money for product11 = 522.0368895306559\n",
      "Mean amount of money for product12 = 8388.320373967788\n",
      "Mean amount of money for product13 = 4714.044137648128\n",
      "Mean amount of money for product14 = 4498.051488305954\n",
      "Mean amount of money for product15 = 8793.007330520233\n",
      "Mean amount of money for product16 = 9326.770296100764\n",
      "Mean amount of money for product17 = 9591.160051055462\n",
      "Mean amount of money for product18 = 1954.001144372469\n",
      "Mean amount of money for product19 = 4527.6032744602635\n"
     ]
    }
   ],
   "source": [
    "products = np.zeros(cube.shape[1])\n",
    "for index in range(products.shape[0]):\n",
    "    products[index] = cube[:, index, :].mean()\n",
    "for product in range(products.shape[0]):\n",
    "    print('Mean amount of money for product {} = {}'.format(product, products[product]))"
   ]
  },
  {
   "cell_type": "code",
   "execution_count": null,
   "metadata": {},
   "outputs": [],
   "source": []
  }
 ],
 "metadata": {
  "kernelspec": {
   "display_name": "Python 3",
   "language": "python",
   "name": "python3"
  },
  "language_info": {
   "codemirror_mode": {
    "name": "ipython",
    "version": 3
   },
   "file_extension": ".py",
   "mimetype": "text/x-python",
   "name": "python",
   "nbconvert_exporter": "python",
   "pygments_lexer": "ipython3",
   "version": "3.6.10"
  }
 },
 "nbformat": 4,
 "nbformat_minor": 2
}
