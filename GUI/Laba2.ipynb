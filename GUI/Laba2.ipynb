{
 "cells": [
  {
   "cell_type": "code",
   "execution_count": 1,
   "metadata": {},
   "outputs": [],
   "source": [
    "from PyQt5.QtGui import *\n",
    "from PyQt5.QtWidgets import *\n",
    "from PyQt5.QtCore import *\n",
    "import sys"
   ]
  },
  {
   "cell_type": "code",
   "execution_count": 2,
   "metadata": {},
   "outputs": [],
   "source": [
    "class Window(QMainWindow):\n",
    "    def __init__(self):\n",
    "        init_dollar = 49\n",
    "        init_ruble = init_dollar * 73\n",
    "        def createRuble():\n",
    "            self.ruble = Ruble(init_ruble, 2)\n",
    "            self.ruble.set_ruble.connect(self.ruble.update)\n",
    "            self.rubleLabel = QLabel(self)\n",
    "            self.rubleEdit = QLineEdit(self)\n",
    "            self.rubleEdit.move(40, 0)\n",
    "            self.rubleLabel.setText('Ruble')\n",
    "            self.rubleEdit.setText(str(self.ruble.get_ruble()))\n",
    "            \n",
    "        def createDollar():\n",
    "            self.dollar = Dollar(init_dollar, 2)\n",
    "            self.dollar.set_dollar.connect(self.dollar.update)\n",
    "            self.dollarLabel = QLabel(self)\n",
    "            self.dollarLabel.setText('Dollar')\n",
    "            self.dollarEdit = QLineEdit(self)\n",
    "            self.dollarEdit.move(40, 40)\n",
    "            self.dollarLabel.move(0, 40)\n",
    "            self.dollarEdit.setText(str(self.dollar.get_dollar()))\n",
    "            \n",
    "        def createOil():\n",
    "            self.oil = Oil(1)\n",
    "            self.oilLabel = QLabel(self)\n",
    "            self.oilLabel.setText('Oil')\n",
    "            self.oilEdit = QLineEdit(self)\n",
    "            self.oilEdit.move(40, 80)\n",
    "            self.oilLabel.move(0, 80)\n",
    "            self.oilEdit.setText(str(self.oil.get_oil()))\n",
    "            \n",
    "        def createButton():\n",
    "            self.button = QPushButton(self)\n",
    "            self.button.setText('Process')\n",
    "            self.button.move(40, 120)\n",
    "            self.button.clicked.connect(self.onClick)\n",
    "            \n",
    "        super().__init__()\n",
    "        \n",
    "        title = 'Laba 2'\n",
    "        self.setWindowTitle(title)\n",
    "        \n",
    "        self.setGeometry(200, 200, 200, 200)\n",
    "        self.setFixedSize(200, 200)\n",
    "        \n",
    "        createRuble()\n",
    "        createDollar()\n",
    "        createOil()\n",
    "        createButton()\n",
    "    \n",
    "    def onClick(self):\n",
    "        old = float(self.oil.get_oil())\n",
    "        new = float(self.oilEdit.text())\n",
    "        self.oil.set_oil(new)\n",
    "        \n",
    "        def increase(value):\n",
    "            self.ruble.set_ruble.emit(value)\n",
    "            self.rubleEdit.setText(str(self.ruble.get_ruble()))\n",
    "            \n",
    "            self.dollar.set_dollar.emit(-value)\n",
    "            self.dollarEdit.setText(str(self.dollar.get_dollar()))\n",
    "        if new > old:\n",
    "            increase(1)\n",
    "        if new < old:\n",
    "            increase(-1)\n",
    "        \n",
    "    "
   ]
  },
  {
   "cell_type": "code",
   "execution_count": 3,
   "metadata": {},
   "outputs": [],
   "source": [
    "class Ruble(QObject):\n",
    "    set_ruble = pyqtSignal(int)\n",
    "    \n",
    "    def __init__(self, ruble, mult):\n",
    "        super().__init__()\n",
    "        self.ruble = ruble\n",
    "        self.mult = mult\n",
    "    \n",
    "    def update(self, value):\n",
    "        if value > 0:\n",
    "            self.ruble = self.ruble * self.mult\n",
    "        else:\n",
    "            self.ruble = self.ruble / self.mult\n",
    "    \n",
    "    def get_ruble(self):\n",
    "        return self.ruble"
   ]
  },
  {
   "cell_type": "code",
   "execution_count": 4,
   "metadata": {},
   "outputs": [],
   "source": [
    "class Dollar(QObject):\n",
    "    set_dollar = pyqtSignal(int)\n",
    "    \n",
    "    def __init__(self, dollar, mult):\n",
    "        super().__init__()\n",
    "        self.dollar = dollar\n",
    "        self.mult = mult\n",
    "    \n",
    "    def update(self, value):\n",
    "        if value > 0:\n",
    "            self.dollar = self.dollar * self.mult\n",
    "        else:\n",
    "            self.dollar = self.dollar / self.mult\n",
    "    \n",
    "    def get_dollar(self):\n",
    "        return self.dollar"
   ]
  },
  {
   "cell_type": "code",
   "execution_count": 5,
   "metadata": {},
   "outputs": [],
   "source": [
    "class Oil():\n",
    "    def __init__(self, oil):\n",
    "        self.oil = oil\n",
    "    \n",
    "    def set_oil(self, oil):\n",
    "        self.oil = oil\n",
    "    \n",
    "    def get_oil(self):\n",
    "        return self.oil"
   ]
  },
  {
   "cell_type": "code",
   "execution_count": 6,
   "metadata": {},
   "outputs": [],
   "source": [
    "if __name__ == \"__main__\":\n",
    "    app = QApplication(sys.argv)\n",
    "    window = Window()\n",
    "    window.show()\n",
    "    app.exec()"
   ]
  },
  {
   "cell_type": "code",
   "execution_count": null,
   "metadata": {},
   "outputs": [],
   "source": []
  }
 ],
 "metadata": {
  "kernelspec": {
   "display_name": "Python 3",
   "language": "python",
   "name": "python3"
  },
  "language_info": {
   "codemirror_mode": {
    "name": "ipython",
    "version": 3
   },
   "file_extension": ".py",
   "mimetype": "text/x-python",
   "name": "python",
   "nbconvert_exporter": "python",
   "pygments_lexer": "ipython3",
   "version": "3.7.6"
  }
 },
 "nbformat": 4,
 "nbformat_minor": 4
}
