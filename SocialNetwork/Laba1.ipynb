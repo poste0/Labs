{
 "cells": [
  {
   "cell_type": "markdown",
   "metadata": {},
   "source": [
    "# Vk part"
   ]
  },
  {
   "cell_type": "code",
   "execution_count": null,
   "metadata": {},
   "outputs": [],
   "source": [
    "import vk_api\n",
    "import json"
   ]
  },
  {
   "cell_type": "code",
   "execution_count": null,
   "metadata": {},
   "outputs": [],
   "source": [
    "def auth_handler():\n",
    "    return Input(\"Enter the auth code\")"
   ]
  },
  {
   "cell_type": "code",
   "execution_count": null,
   "metadata": {},
   "outputs": [],
   "source": [
    "def auth(login, password):\n",
    "    vk_session = vk_api.VkApi(\n",
    "        login,\n",
    "        password,\n",
    "        auth_handler = auth_handler\n",
    "    )\n",
    "    \n",
    "    try:\n",
    "        vk_session.auth()\n",
    "    except vk_api.AuthError as error_msg:\n",
    "        print(error_msg)\n",
    "        \n",
    "    return vk_session"
   ]
  },
  {
   "cell_type": "code",
   "execution_count": null,
   "metadata": {},
   "outputs": [],
   "source": [
    "def get_posts_from_group(group_id):\n",
    "    login = None\n",
    "    password = None\n",
    "    \n",
    "    vk_session = auth(login, password)\n",
    "    \n",
    "    tools = vk_api.VkTools(vk_session)\n",
    "    wall = tools.get_all('wall.get', 100, {'owner_id': group_id})\n",
    "    \n",
    "    print('Posts count: ', wall['count'])\n",
    "    \n",
    "    f = open(r'wall_asp.txt', 'a')\n",
    "    f.write(json.dumps(wall))\n",
    "    f.close()"
   ]
  },
  {
   "cell_type": "code",
   "execution_count": null,
   "metadata": {},
   "outputs": [],
   "source": [
    "vk_session = auth(login, password)"
   ]
  },
  {
   "cell_type": "code",
   "execution_count": null,
   "metadata": {},
   "outputs": [],
   "source": [
    "get_posts_from_group(-57078572)"
   ]
  },
  {
   "cell_type": "markdown",
   "metadata": {},
   "source": [
    "# Telegram part"
   ]
  },
  {
   "cell_type": "code",
   "execution_count": null,
   "metadata": {},
   "outputs": [],
   "source": [
    "from telethon import TelegramClient, sync"
   ]
  },
  {
   "cell_type": "code",
   "execution_count": null,
   "metadata": {
    "scrolled": true
   },
   "outputs": [],
   "source": [
    "api_id = None\n",
    "api_hash = None\n",
    "\n",
    "async with TelegramClient('Laba1', api_id, api_hash) as client:\n",
    "    async for message in client.iter_messages('habr_com'):\n",
    "        print(message)\n",
    "    "
   ]
  },
  {
   "cell_type": "code",
   "execution_count": null,
   "metadata": {},
   "outputs": [],
   "source": []
  },
  {
   "cell_type": "code",
   "execution_count": null,
   "metadata": {},
   "outputs": [],
   "source": []
  }
 ],
 "metadata": {
  "kernelspec": {
   "display_name": "Python 3",
   "language": "python",
   "name": "python3"
  },
  "language_info": {
   "codemirror_mode": {
    "name": "ipython",
    "version": 3
   },
   "file_extension": ".py",
   "mimetype": "text/x-python",
   "name": "python",
   "nbconvert_exporter": "python",
   "pygments_lexer": "ipython3",
   "version": "3.7.6"
  }
 },
 "nbformat": 4,
 "nbformat_minor": 4
}
