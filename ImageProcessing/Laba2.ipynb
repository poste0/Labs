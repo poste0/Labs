{
 "cells": [
  {
   "cell_type": "code",
   "execution_count": 1,
   "metadata": {},
   "outputs": [],
   "source": [
    "import numpy as np\n",
    "import cv2"
   ]
  },
  {
   "cell_type": "code",
   "execution_count": 2,
   "metadata": {},
   "outputs": [],
   "source": [
    "def erod(image, size, type_of_mask = 'square'):\n",
    "    assert type_of_mask == 'square' or type_of_mask == 'cross' or type_of_mask == 'vertline' or type_of_mask == 'horizline'\n",
    "    result = image.copy()\n",
    "    if type_of_mask == 'square':\n",
    "        result = erod_square(result, size)\n",
    "    elif type_of_mask == 'cross':\n",
    "        result = erod_cross(result, size)\n",
    "    elif type_of_mask == 'vertline':\n",
    "        result = erod_vert_line(result, size)\n",
    "    elif type_of_mask == 'horizline':\n",
    "        result = erod_horiz_line(result, size)\n",
    "    return result"
   ]
  },
  {
   "cell_type": "code",
   "execution_count": 3,
   "metadata": {},
   "outputs": [],
   "source": [
    "def process_operation(image, i, j, mask, operation):\n",
    "    offset = int(mask.shape[0] / 2)\n",
    "    mask_i = 0\n",
    "    mask_j = 0\n",
    "    right_border = offset\n",
    "    if mask.shape[0] % 2 != 0:\n",
    "        right_border += 1\n",
    "    if operation == 'erod':\n",
    "        for k in range(i - offset, i + right_border):\n",
    "            mask_j = 0\n",
    "            for l in range(j - offset, j + right_border):\n",
    "                if mask[mask_i, mask_j] == 1 and image[k, l] != 0:\n",
    "                    return 255\n",
    "                mask_j += 1\n",
    "            mask_i += 1\n",
    "    elif operation == 'dilat':\n",
    "        for k in range(i - offset, i + right_border):\n",
    "            mask_j = 0\n",
    "            for l in range(j - offset, j + right_border):\n",
    "                if mask[mask_i, mask_j] == 1 and image[k, l] == 0:\n",
    "                    return 0\n",
    "                mask_j += 1\n",
    "            mask_i += 1\n",
    "        return 255\n",
    "    return 0\n",
    "    "
   ]
  },
  {
   "cell_type": "code",
   "execution_count": 4,
   "metadata": {},
   "outputs": [],
   "source": [
    "def erod_square(image, size):\n",
    "    result = image.copy()\n",
    "    status = True\n",
    "    for i in range(size - 1, result.shape[0] - size):\n",
    "        for j in range(size - 1, result.shape[1] - size):\n",
    "            result[i, j] = process_operation(image, i, j, np.ones((size, size)), 'erod')\n",
    "    return result"
   ]
  },
  {
   "cell_type": "code",
   "execution_count": 5,
   "metadata": {},
   "outputs": [],
   "source": [
    "def erod_cross(image, size):\n",
    "    result = image.copy()\n",
    "    status = True\n",
    "    mask = create_cross(size)\n",
    "    for i in range(size - 1, result.shape[0] - size):\n",
    "        for j in range(size - 1, result.shape[1] - size):\n",
    "            result[i, j] = process_operation(image, i, j, mask, 'erod')\n",
    "    return result"
   ]
  },
  {
   "cell_type": "code",
   "execution_count": 6,
   "metadata": {},
   "outputs": [],
   "source": [
    "def create_cross(size):\n",
    "    mask = np.zeros((size, size))\n",
    "    center_point = int(size / 2)\n",
    "    for i in range(size):\n",
    "        mask[center_point, i] = 1\n",
    "        mask[i, center_point] = 1\n",
    "        \n",
    "    return mask"
   ]
  },
  {
   "cell_type": "code",
   "execution_count": 7,
   "metadata": {},
   "outputs": [],
   "source": [
    "def dilat(image, size, type_of_mask = 'square'):\n",
    "    assert type_of_mask == 'square' or type_of_mask == 'cross'\n",
    "    \n",
    "    result = image.copy()\n",
    "    if type_of_mask == 'square':\n",
    "        result = dilat_square(result, size)\n",
    "    elif type_of_mask == 'cross':\n",
    "        result = dilat_cross(result, size)\n",
    "    return result"
   ]
  },
  {
   "cell_type": "code",
   "execution_count": 8,
   "metadata": {},
   "outputs": [],
   "source": [
    "def dilat_square(image, size):\n",
    "    result = image.copy()\n",
    "    status = False\n",
    "    for i in range(size - 1, result.shape[0] - size):\n",
    "        for j in range(size - 1, result.shape[1] - size):\n",
    "            result[i, j] = process_operation(image, i, j, np.ones((size, size)), 'dilat')\n",
    "    return result"
   ]
  },
  {
   "cell_type": "code",
   "execution_count": 9,
   "metadata": {},
   "outputs": [],
   "source": [
    "def dilat_cross(image, size):\n",
    "    result = image.copy()\n",
    "    status = False\n",
    "    mask = create_cross(size)\n",
    "    for i in range(size - 1, result.shape[0] - size):\n",
    "        for j in range(size - 1, result.shape[1] - size):\n",
    "            result[i, j] = process_operation(image, i, j, mask, 'dilat')\n",
    "    return result"
   ]
  },
  {
   "cell_type": "code",
   "execution_count": 10,
   "metadata": {},
   "outputs": [],
   "source": [
    "def opening(image, size, type_of_mask = 'square'):\n",
    "    assert type_of_mask == 'square' or type_of_mask == 'cross'\n",
    "    \n",
    "    result = image.copy()\n",
    "    result = erod(result, size, type_of_mask)\n",
    "    result = dilat(result, size, type_of_mask)\n",
    "    return result"
   ]
  },
  {
   "cell_type": "code",
   "execution_count": 11,
   "metadata": {},
   "outputs": [],
   "source": [
    "def closing(image, size, type_of_mask = 'square'):\n",
    "    assert type_of_mask == 'square' or type_of_mask == 'cross'\n",
    "    \n",
    "    result = image.copy()\n",
    "    result = dilat(result, size, type_of_mask)\n",
    "    result = erod(result, size, type_of_mask)\n",
    "    return result"
   ]
  },
  {
   "cell_type": "code",
   "execution_count": 12,
   "metadata": {},
   "outputs": [],
   "source": [
    "def filter(image):\n",
    "    result = image.copy()\n",
    "    for i in range(3, image.shape[0] - 3):\n",
    "        for j in range(3, image.shape[1] - 3):\n",
    "            if image[i, j] == 0:\n",
    "                if image[i, j + 1] == 255 and image[i, j - 1] == 255 and image[i + 1, j] == 255 and image[i - 1, j] == 255:\n",
    "                    result[i, j] = 255\n",
    "            elif image[i, j] == 255:\n",
    "                if image[i, j + 1] == 0 and image[i, j - 1] == 0 and image[i + 1, j] == 0 and image[i - 1, j] == 0:\n",
    "                    result[i, j] = 0\n",
    "    return result"
   ]
  },
  {
   "cell_type": "code",
   "execution_count": 13,
   "metadata": {},
   "outputs": [],
   "source": [
    "def make_noise(image, prob):\n",
    "    result = image.copy()\n",
    "    for i in range(image.shape[0]):\n",
    "        for j in range(image.shape[1]):\n",
    "            p = np.random.randint(0, 101)\n",
    "            if p < prob :\n",
    "                p_color = np.random.randint(0, 101)\n",
    "                if p_color < 50:\n",
    "                    result[i, j] = 0\n",
    "                else:\n",
    "                    result[i, j] = 255\n",
    "    return result"
   ]
  },
  {
   "cell_type": "code",
   "execution_count": 14,
   "metadata": {},
   "outputs": [],
   "source": [
    "def circle(image, centre, radius):\n",
    "    circle = [centre, radius]\n",
    "    for i in range(circle[0][0] - circle[1], circle[0][0] + circle[1]):\n",
    "        for j in range(circle[0][1] - circle[1], circle[0][1] + circle[1]):\n",
    "            if (i - circle[0][0]) ** 2 + (j - circle[0][1]) ** 2 < circle[1] ** 2:\n",
    "                image[i, j] = 0"
   ]
  },
  {
   "cell_type": "code",
   "execution_count": 15,
   "metadata": {},
   "outputs": [],
   "source": [
    "def triangle(image, A, B, C):\n",
    "    triangle = [A, B, C]\n",
    "    x_a = triangle[0][1]\n",
    "    y_a = triangle[0][0]\n",
    "    x_b = triangle[1][1]\n",
    "    y_b = triangle[1][0]\n",
    "    x_c = triangle[2][1]\n",
    "    y_c = triangle[2][0]\n",
    "\n",
    "    left = triangle[0][0]\n",
    "    right = triangle[0][0]\n",
    "    above = triangle[0][1]\n",
    "    below = triangle[0][1]\n",
    "    for i in triangle:\n",
    "        if left > i[0]:\n",
    "            left = i[0]\n",
    "        if right < i[0]:\n",
    "            right = i[0]\n",
    "        if above > i[1]:\n",
    "            above = i[1]\n",
    "        if below < i[1]:\n",
    "            below = i[1]\n",
    "    for i in range(above, below):\n",
    "        for j in range(left, right):\n",
    "            coord_1 = (x_a - i) * (y_b - y_a) - (x_b - x_a) * (y_a - j)\n",
    "            coord_2 = (x_b - i) * (y_c - y_b) - (x_c - x_b) * (y_b - j)\n",
    "            coord_3 = (x_c - i) * (y_a - y_c) - (x_a - x_c) * (y_c - j)\n",
    "            if coord_1 >= 0 and coord_2 >= 0 and coord_3 >= 0:\n",
    "                image[i, j] = 0"
   ]
  },
  {
   "cell_type": "code",
   "execution_count": 16,
   "metadata": {},
   "outputs": [],
   "source": [
    "def square(image, A, B):\n",
    "    square = [A, B]\n",
    "    for i in range(square[0][0], square[1][0]):\n",
    "        for j in range(square[0][1], square[1][1]):\n",
    "            image[i, j] = 0"
   ]
  },
  {
   "cell_type": "code",
   "execution_count": 17,
   "metadata": {},
   "outputs": [],
   "source": [
    "def noise_reduce(image, filter_image, noised_image):\n",
    "    assert image.shape == filter_image.shape and image.shape == noised_image.shape\n",
    "    count_noised = 0\n",
    "    count_filtered = 0\n",
    "    for i in range(image.shape[0]):\n",
    "        for j in range(image.shape[1]):\n",
    "            if image[i, j] - noised_image[i, j] != 0:\n",
    "                count_noised += 1\n",
    "            if image[i, j] - filter_image[i, j] != 0:\n",
    "                count_filtered += 1\n",
    "    return count_noised / count_filtered"
   ]
  },
  {
   "cell_type": "markdown",
   "metadata": {},
   "source": [
    "# 1. Фильтрация бинарных изображений"
   ]
  },
  {
   "cell_type": "markdown",
   "metadata": {},
   "source": [
    "## 1.1. Создать или выбрать бинарное изображение с любым простым рисунком, состоящим из примитивных фигур (круги, квадраты, полигоны)."
   ]
  },
  {
   "cell_type": "code",
   "execution_count": 18,
   "metadata": {},
   "outputs": [],
   "source": [
    "image = np.zeros((500, 500))\n",
    "image.fill(255)"
   ]
  },
  {
   "cell_type": "code",
   "execution_count": 19,
   "metadata": {},
   "outputs": [],
   "source": [
    "square(image, (10, 10), (50, 50))\n",
    "triangle(image, (100, 100), (100, 200), (200, 100))\n",
    "circle(image, (400, 400), 40)\n",
    "circle(image, (200, 250), 1)"
   ]
  },
  {
   "cell_type": "code",
   "execution_count": 20,
   "metadata": {},
   "outputs": [
    {
     "data": {
      "text/plain": [
       "True"
      ]
     },
     "execution_count": 20,
     "metadata": {},
     "output_type": "execute_result"
    }
   ],
   "source": [
    "path = 'laba2/'\n",
    "cv2.imwrite(path + 'image.png', image)"
   ]
  },
  {
   "cell_type": "markdown",
   "metadata": {},
   "source": [
    "## 1.2. На полученное изображение наложить шум (1%, 2%, 5%, 10%, 20%, 50%)."
   ]
  },
  {
   "cell_type": "code",
   "execution_count": 48,
   "metadata": {},
   "outputs": [],
   "source": [
    "noised = []\n",
    "for i in [1, 2, 5, 10, 20, 50]:\n",
    "    noise = make_noise(image, i)\n",
    "    noised.append(noise)\n",
    "    cv2.imwrite(path + 'noise/image_noise_' + str(i) + '%' + '.png', noise)"
   ]
  },
  {
   "cell_type": "markdown",
   "metadata": {},
   "source": [
    "## 1.3. Выполнить операции эрозии и дилатации для различных структурных элементов (крест, квадрат). Визуально оценить результаты эрозии и дилатации."
   ]
  },
  {
   "cell_type": "code",
   "execution_count": 31,
   "metadata": {},
   "outputs": [],
   "source": [
    "for i in range(3, 6):\n",
    "    erod_image = erod(image, i, type_of_mask = 'square')\n",
    "    cv2.imwrite(path + 'erod/erod_image_square_size' + str(i) + '.png', erod_image)"
   ]
  },
  {
   "cell_type": "code",
   "execution_count": 32,
   "metadata": {},
   "outputs": [],
   "source": [
    "for i in range(3, 6):\n",
    "    erod_image = erod(image, i, type_of_mask = 'cross')\n",
    "    cv2.imwrite(path + 'erod/erod_image_cross_size'+ str(i) + '.png', erod_image)"
   ]
  },
  {
   "cell_type": "code",
   "execution_count": 33,
   "metadata": {},
   "outputs": [],
   "source": [
    "for i in range(3, 6):\n",
    "    dilat_image = dilat(image, i, type_of_mask = 'square')\n",
    "    cv2.imwrite(path + 'dilat/dilat_image_square_size' + str(i) + '.png', dilat_image)"
   ]
  },
  {
   "cell_type": "code",
   "execution_count": 34,
   "metadata": {},
   "outputs": [],
   "source": [
    "for i in range(3, 6):\n",
    "    dilat_image= dilat(image, i, type_of_mask = 'cross')\n",
    "    cv2.imwrite(path + 'dilat/dilat_image_cross_size' + str(i) + '.png', dilat_image)"
   ]
  },
  {
   "cell_type": "markdown",
   "metadata": {},
   "source": [
    "## 1.4. Провести фильтрацию шумов на изображении при помощи морфологических операций вскрытия и закрытия с различными размерами (от 3 до 5) и формами структурного элемента (крест, квадрат), а также алгоритма фильтрации шумов, которому соответствует логическая таблица истинности, представленная в табл. 1 со крестообразным структурным элементом размером 3."
   ]
  },
  {
   "cell_type": "code",
   "execution_count": 21,
   "metadata": {},
   "outputs": [],
   "source": [
    "noise_index = [1, 2, 5, 10, 20, 50]"
   ]
  },
  {
   "cell_type": "code",
   "execution_count": 25,
   "metadata": {},
   "outputs": [],
   "source": [
    "opened_image_square = np.zeros((3, len(noised), noised[0].shape[0], noised[0].shape[1]))\n",
    "for i in range(3, 6):\n",
    "    for j in range(len(noised)):\n",
    "        open_image = opening(noised[j], i, type_of_mask = 'square')\n",
    "        opened_image_square[i - 3, j] = open_image\n",
    "        cv2.imwrite(path + 'open/open_image_square_noise' + str(noise_index[j]) + '%_size' + str(i) + '.png', open_image)"
   ]
  },
  {
   "cell_type": "code",
   "execution_count": 26,
   "metadata": {},
   "outputs": [],
   "source": [
    "closed_image_square = np.zeros((3, len(noised), noised[0].shape[0], noised[0].shape[1]))\n",
    "for i in range(3, 6):\n",
    "    for j in range(len(noised)):\n",
    "        close_image = closing(noised[j], i, type_of_mask = 'square')\n",
    "        closed_image_square[i - 3, j] = close_image\n",
    "        cv2.imwrite(path + 'close/close_image_square' + str(noise_index[j]) + '%_size' + str(i) + '.png', close_image)"
   ]
  },
  {
   "cell_type": "code",
   "execution_count": 27,
   "metadata": {},
   "outputs": [],
   "source": [
    "opened_image_cross = np.zeros((3, len(noised), noised[0].shape[0], noised[0].shape[1]))\n",
    "for i in range(3, 6):\n",
    "    for j in range(len(noised)):\n",
    "        open_image = opening(noised[j], i, type_of_mask = 'cross')\n",
    "        opened_image_cross[i - 3, j] = open_image\n",
    "        cv2.imwrite(path + 'open/open_image_cross' + str(noise_index[j]) + '%_size' + str(i) + '.png', open_image)"
   ]
  },
  {
   "cell_type": "code",
   "execution_count": 28,
   "metadata": {},
   "outputs": [],
   "source": [
    "closed_image_cross = np.zeros((3, len(noised), noised[0].shape[0], noised[0].shape[1]))\n",
    "for i in range(3, 6):\n",
    "    for j in range(len(noised)):\n",
    "        close_image = closing(noised[j], i, type_of_mask = 'cross')\n",
    "        closed_image_cross[i - 3, j] = close_image\n",
    "        cv2.imwrite(path + 'close/close_image_cross' + str(noise_index[j]) + '%_size' + str(i) + '.png', close_image)"
   ]
  },
  {
   "cell_type": "code",
   "execution_count": 35,
   "metadata": {},
   "outputs": [],
   "source": [
    "filtered_image = np.zeros((len(noised), noised[0].shape[0], noised[0].shape[1]))\n",
    "for i in range(len(noised)):\n",
    "    filter_image = filter(noised[i])\n",
    "    filtered_image[i] = filter_image\n",
    "    cv2.imwrite(path + 'filter_image_' + str(i) + '.png', filter_image)"
   ]
  },
  {
   "cell_type": "markdown",
   "metadata": {},
   "source": [
    "## 1.5. Рассчитать коэффициент снижения шума для различных методов фильтрации, для различной интенсивности шума и различных размеров и форм структурного элемента (окна)."
   ]
  },
  {
   "cell_type": "code",
   "execution_count": 30,
   "metadata": {},
   "outputs": [
    {
     "name": "stdout",
     "output_type": "stream",
     "text": [
      "Size 3 Noised 0 reduce 7.68125\n",
      "Size 3 Noised 1 reduce 8.243243243243244\n",
      "Size 3 Noised 2 reduce 8.566433566433567\n",
      "Size 3 Noised 3 reduce 7.376506024096385\n",
      "Size 3 Noised 4 reduce 6.5333509793541555\n",
      "Size 3 Noised 5 reduce 5.936137372178275\n",
      "Size 4 Noised 0 reduce 1.2896117523609654\n",
      "Size 4 Noised 1 reduce 2.0926243567753002\n",
      "Size 4 Noised 2 reduce 3.656716417910448\n",
      "Size 4 Noised 3 reduce 3.799255352156376\n",
      "Size 4 Noised 4 reduce 3.533715103793844\n",
      "Size 4 Noised 5 reduce 4.264310464310464\n",
      "Size 5 Noised 0 reduce 4.083056478405315\n",
      "Size 5 Noised 1 reduce 3.3936022253129345\n",
      "Size 5 Noised 2 reduce 3.0655655655655654\n",
      "Size 5 Noised 3 reduce 2.467257707032037\n",
      "Size 5 Noised 4 reduce 2.463373253493014\n",
      "Size 5 Noised 5 reduce 3.5884068112899463\n"
     ]
    }
   ],
   "source": [
    "for i in range(opened_image_square.shape[0]):\n",
    "    for j in range(opened_image_square.shape[1]):\n",
    "        print('Size {} Noised {} reduce {}'.format(i + 3, j, noise_reduce(image, opened_image_square[i, j], noised[j])))"
   ]
  },
  {
   "cell_type": "code",
   "execution_count": 31,
   "metadata": {},
   "outputs": [
    {
     "name": "stdout",
     "output_type": "stream",
     "text": [
      "Size 3 Noised 0 reduce 1.0165425971877584\n",
      "Size 3 Noised 1 reduce 0.9791332263242376\n",
      "Size 3 Noised 2 reduce 0.872382851445663\n",
      "Size 3 Noised 3 reduce 0.7302600190839694\n",
      "Size 3 Noised 4 reduce 0.5403577136101929\n",
      "Size 3 Noised 5 reduce 0.39593856369801755\n",
      "Size 4 Noised 0 reduce 0.6075135936727633\n",
      "Size 4 Noised 1 reduce 0.710334788937409\n",
      "Size 4 Noised 2 reduce 0.6474630021141649\n",
      "Size 4 Noised 3 reduce 0.4673129031026982\n",
      "Size 4 Noised 4 reduce 0.3032272330806747\n",
      "Size 4 Noised 5 reduce 0.2952403800019192\n",
      "Size 5 Noised 0 reduce 0.9233658903080391\n",
      "Size 5 Noised 1 reduce 0.7598878853939582\n",
      "Size 5 Noised 2 reduce 0.4804298376343243\n",
      "Size 5 Noised 3 reduce 0.28838907206782854\n",
      "Size 5 Noised 4 reduce 0.19361645382950018\n",
      "Size 5 Noised 5 reduce 0.27381423848279485\n"
     ]
    }
   ],
   "source": [
    "for i in range(closed_image_square.shape[0]):\n",
    "    for j in range(closed_image_square.shape[1]):\n",
    "        print('Size {} Noised {} reduce {}'.format(i + 3, j, noise_reduce(image, closed_image_square[i, j], noised[j])))"
   ]
  },
  {
   "cell_type": "code",
   "execution_count": 32,
   "metadata": {},
   "outputs": [
    {
     "name": "stdout",
     "output_type": "stream",
     "text": [
      "Size 3 Noised 0 reduce 9.67716535433071\n",
      "Size 3 Noised 1 reduce 10.608695652173912\n",
      "Size 3 Noised 2 reduce 11.600378787878787\n",
      "Size 3 Noised 3 reduce 10.537865748709121\n",
      "Size 3 Noised 4 reduce 10.327615062761506\n",
      "Size 3 Noised 5 reduce 7.917395779722079\n",
      "Size 4 Noised 0 reduce 1.6905089408528198\n",
      "Size 4 Noised 1 reduce 3.080808080808081\n",
      "Size 4 Noised 2 reduce 6.340579710144928\n",
      "Size 4 Noised 3 reduce 8.574929971988796\n",
      "Size 4 Noised 4 reduce 9.152020763811642\n",
      "Size 4 Noised 5 reduce 7.173467008626719\n",
      "Size 5 Noised 0 reduce 6.865921787709497\n",
      "Size 5 Noised 1 reduce 6.759002770083103\n",
      "Size 5 Noised 2 reduce 7.08912037037037\n",
      "Size 5 Noised 3 reduce 7.001143510577473\n",
      "Size 5 Noised 4 reduce 7.002269503546099\n",
      "Size 5 Noised 5 reduce 5.6917953935806125\n"
     ]
    }
   ],
   "source": [
    "for i in range(opened_image_cross.shape[0]):\n",
    "    for j in range(opened_image_cross.shape[1]):\n",
    "        print('Size {} Noised {} reduce {}'.format(i + 3, j, noise_reduce(image, opened_image_cross[i, j], noised[j])))"
   ]
  },
  {
   "cell_type": "code",
   "execution_count": 33,
   "metadata": {},
   "outputs": [
    {
     "name": "stdout",
     "output_type": "stream",
     "text": [
      "Size 3 Noised 0 reduce 1.0522260273972603\n",
      "Size 3 Noised 1 reduce 1.0517241379310345\n",
      "Size 3 Noised 2 reduce 1.0337552742616034\n",
      "Size 3 Noised 3 reduce 1.005089058524173\n",
      "Size 3 Noised 4 reduce 0.8961949023309854\n",
      "Size 3 Noised 5 reduce 0.6473651541771432\n",
      "Size 4 Noised 0 reduce 1.7658045977011494\n",
      "Size 4 Noised 1 reduce 3.100381194409149\n",
      "Size 4 Noised 2 reduce 4.57089552238806\n",
      "Size 4 Noised 3 reduce 3.3910274162281917\n",
      "Size 4 Noised 4 reduce 1.5294008302868827\n",
      "Size 4 Noised 5 reduce 0.5711925294024821\n",
      "Size 5 Noised 0 reduce 1.056749785038693\n",
      "Size 5 Noised 1 reduce 1.0604085180356366\n",
      "Size 5 Noised 2 reduce 1.0299310576761391\n",
      "Size 5 Noised 3 reduce 0.9933479354263\n",
      "Size 5 Noised 4 reduce 0.8019428831346047\n",
      "Size 5 Noised 5 reduce 0.45667678469382456\n"
     ]
    }
   ],
   "source": [
    "for i in range(closed_image_cross.shape[0]):\n",
    "    for j in range(closed_image_cross.shape[1]):\n",
    "        print('Size {} Noised {} reduce {}'.format(i + 3, j, noise_reduce(image, closed_image_cross[i, j], noised[j])))"
   ]
  },
  {
   "cell_type": "code",
   "execution_count": 52,
   "metadata": {},
   "outputs": [
    {
     "name": "stdout",
     "output_type": "stream",
     "text": [
      "Noised 0 reduce 20.475409836065573\n",
      "Noised 1 reduce 16.065359477124183\n",
      "Noised 2 reduce 8.707801418439717\n",
      "Noised 3 reduce 4.931709265175719\n",
      "Noised 4 reduce 2.775897088693297\n",
      "Noised 5 reduce 1.4120362889263371\n"
     ]
    }
   ],
   "source": [
    "for i in range(filtered_image.shape[0]):\n",
    "        print('Noised {} reduce {}'.format(i, noise_reduce(image, filtered_image[i], noised[i])))"
   ]
  },
  {
   "cell_type": "markdown",
   "metadata": {},
   "source": [
    "# 2. Выделение контуров на бинарных изображениях"
   ]
  },
  {
   "cell_type": "markdown",
   "metadata": {},
   "source": [
    "## 2.1. Создать или выбрать бинарное изображение, содержащее простой рисунок, состоящий из примитивных фигур (полосы, круги, квадраты)."
   ]
  },
  {
   "cell_type": "code",
   "execution_count": 53,
   "metadata": {},
   "outputs": [],
   "source": [
    "image = np.zeros((500, 500))\n",
    "image.fill(255)"
   ]
  },
  {
   "cell_type": "code",
   "execution_count": 54,
   "metadata": {},
   "outputs": [],
   "source": [
    "square(image, (10, 10), (50, 50))\n",
    "triangle(image, (100, 100), (100, 200), (200, 100))\n",
    "circle(image, (400, 400), 40)\n",
    "circle(image, (200, 250), 1)"
   ]
  },
  {
   "cell_type": "code",
   "execution_count": 55,
   "metadata": {},
   "outputs": [
    {
     "data": {
      "text/plain": [
       "True"
      ]
     },
     "execution_count": 55,
     "metadata": {},
     "output_type": "execute_result"
    }
   ],
   "source": [
    "cv2.imwrite(path + 'image.png', image)"
   ]
  },
  {
   "cell_type": "markdown",
   "metadata": {},
   "source": [
    "## 2.2. С помощью морфологических операций выделить контур объекта. Выяснить, когда контур получается внешним, внутренним, четырёхсвязным, восьмисвязным."
   ]
  },
  {
   "cell_type": "code",
   "execution_count": 60,
   "metadata": {},
   "outputs": [],
   "source": [
    "def border(image, mask_type):\n",
    "    assert mask_type == 'square' or mask_type == 'cross' or mask_type == 'vertline' or mask_type == 'horizline'\n",
    "    \n",
    "    result = image.copy()\n",
    "    erod_image = erod(image, 3, mask_type)\n",
    "    for i in range(result.shape[0]):\n",
    "        for j in range(result.shape[1]):\n",
    "            if image[i, j] - erod_image[i, j] != 0:\n",
    "                result[i, j] = 0\n",
    "            else:\n",
    "                result[i, j] = 255\n",
    "    return result"
   ]
  },
  {
   "cell_type": "code",
   "execution_count": 61,
   "metadata": {},
   "outputs": [
    {
     "data": {
      "text/plain": [
       "True"
      ]
     },
     "execution_count": 61,
     "metadata": {},
     "output_type": "execute_result"
    }
   ],
   "source": [
    "b = border(image, 'horizline')\n",
    "cv2.imwrite(path + 'border_horiz.png', b)"
   ]
  },
  {
   "cell_type": "code",
   "execution_count": 62,
   "metadata": {},
   "outputs": [],
   "source": [
    "def erod_vert_line(image, size):\n",
    "    result = image.copy()\n",
    "    status = True\n",
    "    \n",
    "    mask = np.zeros((size, size))\n",
    "    center_point = int(size / 2)\n",
    "    for i in range(size):\n",
    "        mask[i, center_point] = 1\n",
    "\n",
    "    for i in range(size - 1, result.shape[0] - size):\n",
    "        for j in range(size - 1, result.shape[1] - size):\n",
    "            result[i, j] = process_operation(image, i, j, mask, 'erod')\n",
    "    return result"
   ]
  },
  {
   "cell_type": "code",
   "execution_count": 63,
   "metadata": {},
   "outputs": [
    {
     "data": {
      "text/plain": [
       "True"
      ]
     },
     "execution_count": 63,
     "metadata": {},
     "output_type": "execute_result"
    }
   ],
   "source": [
    "b = border(image, 'vertline')\n",
    "cv2.imwrite(path + 'border_vert.png', b)"
   ]
  },
  {
   "cell_type": "code",
   "execution_count": 64,
   "metadata": {},
   "outputs": [],
   "source": [
    "def erod_horiz_line(image, size):\n",
    "    result = image.copy()\n",
    "    status = True\n",
    "    \n",
    "    mask = np.zeros((size, size))\n",
    "    center_point = int(size / 2)\n",
    "    for i in range(size):\n",
    "        mask[center_point, i] = 1\n",
    "\n",
    "    for i in range(size - 1, result.shape[0] - size):\n",
    "        for j in range(size - 1, result.shape[1] - size):\n",
    "            result[i, j] = process_operation(image, i, j, mask, 'erod')\n",
    "    return result"
   ]
  },
  {
   "cell_type": "code",
   "execution_count": null,
   "metadata": {},
   "outputs": [],
   "source": []
  },
  {
   "cell_type": "code",
   "execution_count": null,
   "metadata": {},
   "outputs": [],
   "source": []
  }
 ],
 "metadata": {
  "kernelspec": {
   "display_name": "Python 3",
   "language": "python",
   "name": "python3"
  },
  "language_info": {
   "codemirror_mode": {
    "name": "ipython",
    "version": 3
   },
   "file_extension": ".py",
   "mimetype": "text/x-python",
   "name": "python",
   "nbconvert_exporter": "python",
   "pygments_lexer": "ipython3",
   "version": "3.7.6"
  }
 },
 "nbformat": 4,
 "nbformat_minor": 4
}
