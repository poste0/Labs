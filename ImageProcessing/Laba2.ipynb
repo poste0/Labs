{
 "cells": [
  {
   "cell_type": "code",
   "execution_count": 1,
   "metadata": {},
   "outputs": [],
   "source": [
    "import numpy as np\n",
    "import cv2"
   ]
  },
  {
   "cell_type": "code",
   "execution_count": 2,
   "metadata": {},
   "outputs": [],
   "source": [
    "def erod(image, size, type_of_mask = 'square'):\n",
    "    assert type_of_mask == 'square' or type_of_mask == 'cross' or type_of_mask == 'vertline' or type_of_mask == 'horizline'\n",
    "    result = image.copy()\n",
    "    if type_of_mask == 'square':\n",
    "        result = erod_square(result, size)\n",
    "    elif type_of_mask == 'cross':\n",
    "        result = erod_cross(result, size)\n",
    "    elif type_of_mask == 'vertline':\n",
    "        result = erod_vert_line(result, size)\n",
    "    elif type_of_mask == 'horizline':\n",
    "        result = erod_horiz_line(result, size)\n",
    "    return result"
   ]
  },
  {
   "cell_type": "code",
   "execution_count": 3,
   "metadata": {},
   "outputs": [],
   "source": [
    "def process_operation(image, i, j, mask, operation):\n",
    "    offset = int(mask.shape[0] / 2)\n",
    "    mask_i = 0\n",
    "    mask_j = 0\n",
    "    right_border = offset\n",
    "    if mask.shape[0] % 2 != 0:\n",
    "        right_border += 1\n",
    "    if operation == 'erod':\n",
    "        for k in range(i - offset, i + right_border):\n",
    "            mask_j = 0\n",
    "            for l in range(j - offset, j + right_border):\n",
    "                if mask[mask_i, mask_j] == 1 and image[k, l] != 0:\n",
    "                    return 255\n",
    "                mask_j += 1\n",
    "            mask_i += 1\n",
    "    elif operation == 'dilat':\n",
    "        for k in range(i - offset, i + right_border):\n",
    "            mask_j = 0\n",
    "            for l in range(j - offset, j + right_border):\n",
    "                if mask[mask_i, mask_j] == 1 and image[k, l] == 0:\n",
    "                    return 0\n",
    "                mask_j += 1\n",
    "            mask_i += 1\n",
    "        return 255\n",
    "    return 0\n",
    "    "
   ]
  },
  {
   "cell_type": "code",
   "execution_count": 57,
   "metadata": {},
   "outputs": [],
   "source": [
    "def erod_square(image, size):\n",
    "    result = image.copy()\n",
    "    status = True\n",
    "    for i in range(size - 1, result.shape[0] - size):\n",
    "        for j in range(size - 1, result.shape[1] - size):\n",
    "            result[i, j] = process_operation(image, i, j, np.ones((size, size)), 'erod')\n",
    "    return result"
   ]
  },
  {
   "cell_type": "code",
   "execution_count": 58,
   "metadata": {},
   "outputs": [],
   "source": [
    "def erod_cross(image, size):\n",
    "    result = image.copy()\n",
    "    status = True\n",
    "    mask = create_cross(size)\n",
    "    for i in range(size - 1, result.shape[0] - size):\n",
    "        for j in range(size - 1, result.shape[1] - size):\n",
    "            result[i, j] = process_operation(image, i, j, mask, 'erod')\n",
    "    return result"
   ]
  },
  {
   "cell_type": "code",
   "execution_count": 6,
   "metadata": {},
   "outputs": [],
   "source": [
    "def create_cross(size):\n",
    "    mask = np.zeros((size, size))\n",
    "    center_point = int(size / 2)\n",
    "    for i in range(size):\n",
    "        mask[center_point, i] = 1\n",
    "    for i in range(size):\n",
    "        mask[i, center_point] = 1\n",
    "    return mask"
   ]
  },
  {
   "cell_type": "code",
   "execution_count": 7,
   "metadata": {},
   "outputs": [],
   "source": [
    "def dilat(image, size, type_of_mask = 'square'):\n",
    "    assert type_of_mask == 'square' or type_of_mask == 'cross'\n",
    "    \n",
    "    result = image.copy()\n",
    "    if type_of_mask == 'square':\n",
    "        result = dilat_square(result, size)\n",
    "    elif type_of_mask == 'cross':\n",
    "        result = dilat_cross(result, size)\n",
    "    return result"
   ]
  },
  {
   "cell_type": "code",
   "execution_count": 59,
   "metadata": {},
   "outputs": [],
   "source": [
    "def dilat_square(image, size):\n",
    "    result = image.copy()\n",
    "    status = False\n",
    "    for i in range(size - 1, result.shape[0] - size):\n",
    "        for j in range(size - 1, result.shape[1] - size):\n",
    "            result[i, j] = process_operation(image, i, j, np.ones((size, size)), 'dilat')\n",
    "    return result"
   ]
  },
  {
   "cell_type": "code",
   "execution_count": 60,
   "metadata": {},
   "outputs": [],
   "source": [
    "def dilat_cross(image, size):\n",
    "    result = image.copy()\n",
    "    status = False\n",
    "    mask = create_cross(size)\n",
    "    for i in range(size - 1, result.shape[0] - size):\n",
    "        for j in range(size - 1, result.shape[1] - size):\n",
    "            result[i, j] = process_operation(image, i, j, mask, 'dilat')\n",
    "    return result"
   ]
  },
  {
   "cell_type": "code",
   "execution_count": 10,
   "metadata": {},
   "outputs": [],
   "source": [
    "def opening(image, size, type_of_mask = 'square'):\n",
    "    assert type_of_mask == 'square' or type_of_mask == 'cross'\n",
    "    \n",
    "    result = image.copy()\n",
    "    result = erod(result, size, type_of_mask)\n",
    "    result = dilat(result, size, type_of_mask)\n",
    "    return result"
   ]
  },
  {
   "cell_type": "code",
   "execution_count": 11,
   "metadata": {},
   "outputs": [],
   "source": [
    "def closing(image, size, type_of_mask = 'square'):\n",
    "    assert type_of_mask == 'square' or type_of_mask == 'cross'\n",
    "    \n",
    "    result = image.copy()\n",
    "    result = dilat(result, size, type_of_mask)\n",
    "    result = erod(result, size, type_of_mask)\n",
    "    return result"
   ]
  },
  {
   "cell_type": "code",
   "execution_count": 12,
   "metadata": {},
   "outputs": [],
   "source": [
    "def filter(image):\n",
    "    result = image.copy()\n",
    "    for i in range(3, image.shape[0] - 3):\n",
    "        for j in range(3, image.shape[1] - 3):\n",
    "            if image[i, j] == 0:\n",
    "                if image[i, j + 1] == 255 and image[i, j - 1] == 255 and image[i + 1, j] == 255 and image[i - 1, j] == 255:\n",
    "                    image[i, j] = 255\n",
    "            elif image[i, j] == 255:\n",
    "                if image[i, j + 1] == 0 and image[i, j - 1] == 0 and image[i + 1, j] == 0 and image[i - 1, j] == 0:\n",
    "                    image[i, j] = 0\n",
    "    return result"
   ]
  },
  {
   "cell_type": "code",
   "execution_count": 13,
   "metadata": {},
   "outputs": [],
   "source": [
    "def make_noise(image, prob):\n",
    "    result = image.copy()\n",
    "    for i in range(image.shape[0]):\n",
    "        for j in range(image.shape[1]):\n",
    "            p = np.random.randint(0, 101)\n",
    "            if p < prob :\n",
    "                p_color = np.random.randint(0, 101)\n",
    "                if p_color < 50:\n",
    "                    result[i, j] = 0\n",
    "                else:\n",
    "                    result[i, j] = 255\n",
    "    return result"
   ]
  },
  {
   "cell_type": "code",
   "execution_count": 14,
   "metadata": {},
   "outputs": [],
   "source": [
    "def circle(image, centre, radius):\n",
    "    circle = [centre, radius]\n",
    "    for i in range(circle[0][0] - circle[1], circle[0][0] + circle[1]):\n",
    "        for j in range(circle[0][1] - circle[1], circle[0][1] + circle[1]):\n",
    "            if (i - circle[0][0]) ** 2 + (j - circle[0][1]) ** 2 < circle[1] ** 2:\n",
    "                image[i, j] = 0"
   ]
  },
  {
   "cell_type": "code",
   "execution_count": 15,
   "metadata": {},
   "outputs": [],
   "source": [
    "def triangle(image, A, B, C):\n",
    "    triangle = [A, B, C]\n",
    "    x_a = triangle[0][1]\n",
    "    y_a = triangle[0][0]\n",
    "    x_b = triangle[1][1]\n",
    "    y_b = triangle[1][0]\n",
    "    x_c = triangle[2][1]\n",
    "    y_c = triangle[2][0]\n",
    "\n",
    "    left = triangle[0][0]\n",
    "    right = triangle[0][0]\n",
    "    above = triangle[0][1]\n",
    "    below = triangle[0][1]\n",
    "    for i in triangle:\n",
    "        if left > i[0]:\n",
    "            left = i[0]\n",
    "        if right < i[0]:\n",
    "            right = i[0]\n",
    "        if above > i[1]:\n",
    "            above = i[1]\n",
    "        if below < i[1]:\n",
    "            below = i[1]\n",
    "    for i in range(above, below):\n",
    "        for j in range(left, right):\n",
    "            coord_1 = (x_a - i) * (y_b - y_a) - (x_b - x_a) * (y_a - j)\n",
    "            coord_2 = (x_b - i) * (y_c - y_b) - (x_c - x_b) * (y_b - j)\n",
    "            coord_3 = (x_c - i) * (y_a - y_c) - (x_a - x_c) * (y_c - j)\n",
    "            if coord_1 >= 0 and coord_2 >= 0 and coord_3 >= 0:\n",
    "                image[i, j] = 0"
   ]
  },
  {
   "cell_type": "code",
   "execution_count": 16,
   "metadata": {},
   "outputs": [],
   "source": [
    "def square(image, A, B):\n",
    "    square = [A, B]\n",
    "    for i in range(square[0][0], square[1][0]):\n",
    "        for j in range(square[0][1], square[1][1]):\n",
    "            image[i, j] = 0"
   ]
  },
  {
   "cell_type": "code",
   "execution_count": 17,
   "metadata": {},
   "outputs": [],
   "source": [
    "def noise_reduce(image, filter_image, noised_image):\n",
    "    assert image.shape == filter_image.shape and image.shape == noised_image.shape\n",
    "    count_noised = 0\n",
    "    count_filtered = 0\n",
    "    for i in range(image.shape[0]):\n",
    "        for j in range(image.shape[1]):\n",
    "            if image[i, j] - noised_image[i, j] != 0:\n",
    "                count_noised += 1\n",
    "            if image[i, j] - filter_image[i, j] != 0:\n",
    "                count_filtered += 1\n",
    "    return count_noised / count_filtered"
   ]
  },
  {
   "cell_type": "markdown",
   "metadata": {},
   "source": [
    "# 1. Фильтрация бинарных изображений"
   ]
  },
  {
   "cell_type": "markdown",
   "metadata": {},
   "source": [
    "## 1.1. Создать или выбрать бинарное изображение с любым простым рисунком, состоящим из примитивных фигур (круги, квадраты, полигоны)."
   ]
  },
  {
   "cell_type": "code",
   "execution_count": 47,
   "metadata": {},
   "outputs": [],
   "source": [
    "image = np.zeros((500, 500))\n",
    "image.fill(255)"
   ]
  },
  {
   "cell_type": "code",
   "execution_count": 48,
   "metadata": {},
   "outputs": [],
   "source": [
    "square(image, (10, 10), (50, 50))\n",
    "triangle(image, (100, 100), (100, 200), (200, 100))\n",
    "circle(image, (400, 400), 40)\n",
    "circle(image, (200, 250), 1)"
   ]
  },
  {
   "cell_type": "code",
   "execution_count": 49,
   "metadata": {},
   "outputs": [
    {
     "data": {
      "text/plain": [
       "True"
      ]
     },
     "execution_count": 49,
     "metadata": {},
     "output_type": "execute_result"
    }
   ],
   "source": [
    "path = '/home/sergei/'\n",
    "cv2.imwrite(path + 'image.png', image)"
   ]
  },
  {
   "cell_type": "markdown",
   "metadata": {},
   "source": [
    "## 1.2. На полученное изображение наложить шум (1%, 2%, 5%, 10%, 20%, 50%)."
   ]
  },
  {
   "cell_type": "code",
   "execution_count": 51,
   "metadata": {},
   "outputs": [],
   "source": [
    "noised = []\n",
    "for i in [1, 2, 5, 10, 20, 50]:\n",
    "    noise = make_noise(image, i)\n",
    "    noised.append(noise)\n",
    "    cv2.imwrite(path + 'noise/image_noise_' + str(i) + '%' + '.png', noise)"
   ]
  },
  {
   "cell_type": "markdown",
   "metadata": {},
   "source": [
    "## 1.3. Выполнить операции эрозии и дилатации для различных структурных элементов (крест, квадрат). Визуально оценить результаты эрозии и дилатации."
   ]
  },
  {
   "cell_type": "code",
   "execution_count": 61,
   "metadata": {},
   "outputs": [],
   "source": [
    "for i in range(3, 6):\n",
    "    erod_image = erod(image, i, type_of_mask = 'square')\n",
    "    cv2.imwrite(path + 'erod/erod_image_square_size' + str(i) + '.png', erod_image)"
   ]
  },
  {
   "cell_type": "code",
   "execution_count": 62,
   "metadata": {},
   "outputs": [],
   "source": [
    "for i in range(3, 6):\n",
    "    erod_image = erod(image, i, type_of_mask = 'cross')\n",
    "    cv2.imwrite(path + 'erod/erod_image_cross_size'+ str(i) + '.png', erod_image)"
   ]
  },
  {
   "cell_type": "code",
   "execution_count": 63,
   "metadata": {},
   "outputs": [],
   "source": [
    "for i in range(3, 6):\n",
    "    dilat_image = dilat(image, i, type_of_mask = 'square')\n",
    "    cv2.imwrite(path + 'dilat/dilat_image_square_size' + str(i) + '.png', dilat_image)"
   ]
  },
  {
   "cell_type": "code",
   "execution_count": 64,
   "metadata": {},
   "outputs": [],
   "source": [
    "for i in range(3, 6):\n",
    "    dilat_image= dilat(image, i, type_of_mask = 'cross')\n",
    "    cv2.imwrite(path + 'dilat/dilat_image_cross_size' + str(i) + '.png', dilat_image)"
   ]
  },
  {
   "cell_type": "markdown",
   "metadata": {},
   "source": [
    "## 1.4. Провести фильтрацию шумов на изображении при помощи морфологических операций вскрытия и закрытия с различными размерами (от 3 до 5) и формами структурного элемента (крест, квадрат), а также алгоритма фильтрации шумов, которому соответствует логическая таблица истинности, представленная в табл. 1 со крестообразным структурным элементом размером 3."
   ]
  },
  {
   "cell_type": "code",
   "execution_count": 83,
   "metadata": {},
   "outputs": [],
   "source": [
    "noise_index = [1, 2, 5, 10, 20, 50]"
   ]
  },
  {
   "cell_type": "code",
   "execution_count": 84,
   "metadata": {},
   "outputs": [],
   "source": [
    "opened_image_square = np.zeros((3, len(noised), noised[0].shape[0], noised[0].shape[1]))\n",
    "for i in range(3, 6):\n",
    "    for j in range(len(noised)):\n",
    "        open_image = opening(noised[j], i, type_of_mask = 'square')\n",
    "        opened_image_square[i - 3, j] = open_image\n",
    "        cv2.imwrite(path + 'open/open_image_square_noise' + str(noise_index[j]) + '%_size' + str(i) + '.png', open_image)"
   ]
  },
  {
   "cell_type": "code",
   "execution_count": 85,
   "metadata": {},
   "outputs": [],
   "source": [
    "closed_image_square = np.zeros((3, len(noised), noised[0].shape[0], noised[0].shape[1]))\n",
    "for i in range(3, 6):\n",
    "    for j in range(len(noised)):\n",
    "        close_image = closing(noised[j], i, type_of_mask = 'square')\n",
    "        closed_image_square[i - 3, j] = close_image\n",
    "        cv2.imwrite(path + 'close/close_image_square' + str(noise_index[j]) + '%_size' + str(i) + '.png', close_image)"
   ]
  },
  {
   "cell_type": "code",
   "execution_count": 86,
   "metadata": {},
   "outputs": [],
   "source": [
    "opened_image_cross = np.zeros((3, len(noised), noised[0].shape[0], noised[0].shape[1]))\n",
    "for i in range(3, 6):\n",
    "    for j in range(len(noised)):\n",
    "        open_image = opening(noised[j], i, type_of_mask = 'cross')\n",
    "        opened_image_cross[i - 3, j] = open_image\n",
    "        cv2.imwrite(path + 'open/open_image_cross' + str(noise_index[j]) + '%_size' + str(i) + '.png', open_image)"
   ]
  },
  {
   "cell_type": "code",
   "execution_count": 87,
   "metadata": {},
   "outputs": [],
   "source": [
    "closed_image_cross = np.zeros((3, len(noised), noised[0].shape[0], noised[0].shape[1]))\n",
    "for i in range(3, 6):\n",
    "    for j in range(len(noised)):\n",
    "        close_image = closing(noised[j], i, type_of_mask = 'cross')\n",
    "        closed_image_cross[i - 3, j] = close_image\n",
    "        cv2.imwrite(path + 'close/close_image_cross' + str(noise_index[j]) + '%_size' + str(i) + '.png', close_image)"
   ]
  },
  {
   "cell_type": "code",
   "execution_count": 88,
   "metadata": {},
   "outputs": [],
   "source": [
    "filtered_image = np.zeros((3, len(noised), noised[0].shape[0], noised[0].shape[1]))\n",
    "for i in range(len(noised)):\n",
    "    filter_image = filter(noised[i])\n",
    "    filtered_image[i - 3, j] = filter_image\n",
    "    cv2.imwrite(path + 'filter_image_' + str(i) + '.png', filter_image)"
   ]
  },
  {
   "cell_type": "markdown",
   "metadata": {},
   "source": [
    "## 1.5. Рассчитать коэффициент снижения шума для различных методов фильтрации, для различной интенсивности шума и различных размеров и форм структурного элемента (окна)."
   ]
  },
  {
   "cell_type": "code",
   "execution_count": 70,
   "metadata": {},
   "outputs": [
    {
     "name": "stdout",
     "output_type": "stream",
     "text": [
      "Size 3 Noised 0 reduce 0.5362318840579711\n",
      "Size 3 Noised 1 reduce 0.6039215686274509\n",
      "Size 3 Noised 2 reduce 0.8846153846153846\n",
      "Size 3 Noised 3 reduce 1.6065146579804561\n",
      "Size 3 Noised 4 reduce 2.367899249732047\n",
      "Size 3 Noised 5 reduce 3.972843899241502\n",
      "Size 4 Noised 0 reduce 0.07621009268795056\n",
      "Size 4 Noised 1 reduce 0.13095238095238096\n",
      "Size 4 Noised 2 reduce 0.3761985335589397\n",
      "Size 4 Noised 3 reduce 0.8048302872062664\n",
      "Size 4 Noised 4 reduce 1.27665414620052\n",
      "Size 4 Noised 5 reduce 2.882788611809472\n",
      "Size 5 Noised 0 reduce 0.19680851063829788\n",
      "Size 5 Noised 1 reduce 0.21782178217821782\n",
      "Size 5 Noised 2 reduce 0.3501312335958005\n",
      "Size 5 Noised 3 reduce 0.5250159676389184\n",
      "Size 5 Noised 4 reduce 0.8511847428241187\n",
      "Size 5 Noised 5 reduce 2.5038951841359776\n"
     ]
    }
   ],
   "source": [
    "for i in range(opened_image_square.shape[0]):\n",
    "    for j in range(opened_image_square.shape[1]):\n",
    "        print('Size {} Noised {} reduce {}'.format(i + 3, j, noise_reduce(image, opened_image_square[i, j], noised[j])))"
   ]
  },
  {
   "cell_type": "code",
   "execution_count": 71,
   "metadata": {},
   "outputs": [
    {
     "name": "stdout",
     "output_type": "stream",
     "text": [
      "Size 3 Noised 0 reduce 0.06156405990016639\n",
      "Size 3 Noised 1 reduce 0.06182256122039342\n",
      "Size 3 Noised 2 reduce 0.0963316002310803\n",
      "Size 3 Noised 3 reduce 0.14612467409338706\n",
      "Size 3 Noised 4 reduce 0.19475482093663912\n",
      "Size 3 Noised 5 reduce 0.2716585347112836\n",
      "Size 4 Noised 0 reduce 0.036742800397219465\n",
      "Size 4 Noised 1 reduce 0.04488487321480618\n",
      "Size 4 Noised 2 reduce 0.07139798758295868\n",
      "Size 4 Noised 3 reduce 0.09402524116368628\n",
      "Size 4 Noised 4 reduce 0.11031495374936023\n",
      "Size 4 Noised 5 reduce 0.202512673152011\n",
      "Size 5 Noised 0 reduce 0.05653170359052712\n",
      "Size 5 Noised 1 reduce 0.04975767366720517\n",
      "Size 5 Noised 2 reduce 0.05421882620712079\n",
      "Size 5 Noised 3 reduce 0.05791723425243083\n",
      "Size 5 Noised 4 reduce 0.06824254405609527\n",
      "Size 5 Noised 5 reduce 0.1889656462539585\n"
     ]
    }
   ],
   "source": [
    "for i in range(closed_image_square.shape[0]):\n",
    "    for j in range(closed_image_square.shape[1]):\n",
    "        print('Size {} Noised {} reduce {}'.format(i + 3, j, noise_reduce(image, closed_image_square[i, j], noised[j])))"
   ]
  },
  {
   "cell_type": "code",
   "execution_count": 72,
   "metadata": {},
   "outputs": [
    {
     "name": "stdout",
     "output_type": "stream",
     "text": [
      "Size 3 Noised 0 reduce 0.6434782608695652\n",
      "Size 3 Noised 1 reduce 0.7979274611398963\n",
      "Size 3 Noised 2 reduce 1.2306273062730628\n",
      "Size 3 Noised 3 reduce 2.3176691729323307\n",
      "Size 3 Noised 4 reduce 3.8371689101172386\n",
      "Size 3 Noised 5 reduce 5.329899497487437\n",
      "Size 4 Noised 0 reduce 0.10249307479224377\n",
      "Size 4 Noised 1 reduce 0.19154228855721392\n",
      "Size 4 Noised 2 reduce 0.6730575176589304\n",
      "Size 4 Noised 3 reduce 1.8402985074626865\n",
      "Size 4 Noised 4 reduce 3.3549734244495064\n",
      "Size 4 Noised 5 reduce 4.781471880987265\n",
      "Size 5 Noised 0 reduce 0.3627450980392157\n",
      "Size 5 Noised 1 reduce 0.4489795918367347\n",
      "Size 5 Noised 2 reduce 0.7728852838933952\n",
      "Size 5 Noised 3 reduce 1.538365564566438\n",
      "Size 5 Noised 4 reduce 2.4899971823048745\n",
      "Size 5 Noised 5 reduce 3.9026768466562416\n"
     ]
    }
   ],
   "source": [
    "for i in range(opened_image_cross.shape[0]):\n",
    "    for j in range(opened_image_cross.shape[1]):\n",
    "        print('Size {} Noised {} reduce {}'.format(i + 3, j, noise_reduce(image, opened_image_cross[i, j], noised[j])))"
   ]
  },
  {
   "cell_type": "code",
   "execution_count": 73,
   "metadata": {},
   "outputs": [
    {
     "name": "stdout",
     "output_type": "stream",
     "text": [
      "Size 3 Noised 0 reduce 0.0631938514090521\n",
      "Size 3 Noised 1 reduce 0.06617963042544048\n",
      "Size 3 Noised 2 reduce 0.11341608569971093\n",
      "Size 3 Noised 3 reduce 0.20166830225711482\n",
      "Size 3 Noised 4 reduce 0.3202275692129294\n",
      "Size 3 Noised 5 reduce 0.4494041629150998\n",
      "Size 4 Noised 0 reduce 0.10466760961810467\n",
      "Size 4 Noised 1 reduce 0.19948186528497408\n",
      "Size 4 Noised 2 reduce 0.4951744617668894\n",
      "Size 4 Noised 3 reduce 0.6932808546527973\n",
      "Size 4 Noised 4 reduce 0.5554717455528317\n",
      "Size 4 Noised 5 reduce 0.3966863329936139\n",
      "Size 5 Noised 0 reduce 0.06239460370994941\n",
      "Size 5 Noised 1 reduce 0.06536502546689305\n",
      "Size 5 Noised 2 reduce 0.11299339318990344\n",
      "Size 5 Noised 3 reduce 0.19969228277593326\n",
      "Size 5 Noised 4 reduce 0.28902698282910877\n",
      "Size 5 Noised 5 reduce 0.3161966372525638\n"
     ]
    }
   ],
   "source": [
    "for i in range(closed_image_cross.shape[0]):\n",
    "    for j in range(closed_image_cross.shape[1]):\n",
    "        print('Size {} Noised {} reduce {}'.format(i + 3, j, noise_reduce(image, closed_image_cross[i, j], noised[j])))"
   ]
  },
  {
   "cell_type": "code",
   "execution_count": 74,
   "metadata": {},
   "outputs": [
    {
     "name": "stdout",
     "output_type": "stream",
     "text": [
      "Size 3 Noised 0 reduce 0.000310615059793399\n",
      "Size 3 Noised 1 reduce 0.0006464151244349115\n",
      "Size 3 Noised 2 reduce 0.00279973303894861\n",
      "Size 3 Noised 3 reduce 0.01035103699257462\n",
      "Size 3 Noised 4 reduce 0.03709331464046307\n",
      "Size 3 Noised 5 reduce 3.482679362994582\n",
      "Size 4 Noised 0 reduce 0.000310615059793399\n",
      "Size 4 Noised 1 reduce 0.0006464151244349115\n",
      "Size 4 Noised 2 reduce 0.00279973303894861\n",
      "Size 4 Noised 3 reduce 0.01035103699257462\n",
      "Size 4 Noised 4 reduce 0.03709331464046307\n",
      "Size 4 Noised 5 reduce 1.7238633131526553\n",
      "Size 5 Noised 0 reduce 0.000310615059793399\n",
      "Size 5 Noised 1 reduce 0.0006464151244349115\n",
      "Size 5 Noised 2 reduce 0.00279973303894861\n",
      "Size 5 Noised 3 reduce 0.01035103699257462\n",
      "Size 5 Noised 4 reduce 0.03709331464046307\n",
      "Size 5 Noised 5 reduce 0.693076747149345\n"
     ]
    }
   ],
   "source": [
    "for i in range(filtered_image.shape[0]):\n",
    "    for j in range(filtered_image.shape[1]):\n",
    "        print('Size {} Noised {} reduce {}'.format(i + 3, j, noise_reduce(image, filtered_image[i, j], noised[j])))"
   ]
  },
  {
   "cell_type": "markdown",
   "metadata": {},
   "source": [
    "# 2. Выделение контуров на бинарных изображениях"
   ]
  },
  {
   "cell_type": "markdown",
   "metadata": {},
   "source": [
    "## 2.1. Создать или выбрать бинарное изображение, содержащее простой рисунок, состоящий из примитивных фигур (полосы, круги, квадраты)."
   ]
  },
  {
   "cell_type": "code",
   "execution_count": 75,
   "metadata": {},
   "outputs": [],
   "source": [
    "image = np.zeros((500, 500))\n",
    "image.fill(255)"
   ]
  },
  {
   "cell_type": "code",
   "execution_count": 76,
   "metadata": {},
   "outputs": [],
   "source": [
    "square(image, (10, 10), (50, 50))\n",
    "triangle(image, (100, 100), (100, 200), (200, 100))\n",
    "circle(image, (400, 400), 40)\n",
    "circle(image, (200, 250), 1)"
   ]
  },
  {
   "cell_type": "code",
   "execution_count": 77,
   "metadata": {},
   "outputs": [
    {
     "data": {
      "text/plain": [
       "True"
      ]
     },
     "execution_count": 77,
     "metadata": {},
     "output_type": "execute_result"
    }
   ],
   "source": [
    "cv2.imwrite(path + 'image.png', image)"
   ]
  },
  {
   "cell_type": "markdown",
   "metadata": {},
   "source": [
    "## 2.2. С помощью морфологических операций выделить контур объекта. Выяснить, когда контур получается внешним, внутренним, четырёхсвязным, восьмисвязным."
   ]
  },
  {
   "cell_type": "code",
   "execution_count": 78,
   "metadata": {},
   "outputs": [],
   "source": [
    "def border(image, mask_type):\n",
    "    assert mask_type == 'square' or mask_type == 'cross' or mask_type == 'vertline' or mask_type == 'horizline'\n",
    "    \n",
    "    result = image.copy()\n",
    "    erod_image = erod(image, 3, mask_type)\n",
    "    for i in range(result.shape[0]):\n",
    "        for j in range(result.shape[1]):\n",
    "            if image[i, j] - erod_image[i, j] != 0:\n",
    "                result[i, j] = 0\n",
    "            else:\n",
    "                result[i, j] = 255\n",
    "    return result"
   ]
  },
  {
   "cell_type": "code",
   "execution_count": 79,
   "metadata": {},
   "outputs": [
    {
     "data": {
      "text/plain": [
       "True"
      ]
     },
     "execution_count": 79,
     "metadata": {},
     "output_type": "execute_result"
    }
   ],
   "source": [
    "b = border(image, 'square')\n",
    "cv2.imwrite(path + 'b.png', b)"
   ]
  },
  {
   "cell_type": "code",
   "execution_count": 80,
   "metadata": {},
   "outputs": [],
   "source": [
    "def erod_vert_line(image, size):\n",
    "    result = image.copy()\n",
    "    status = True\n",
    "    for i in range(result.shape[0]):\n",
    "        for j in range(result.shape[1]):\n",
    "            for k in range(1, int((size + 1) / 2)):\n",
    "                status = (status and image[i, j - k] == 0 and image[i, j + k] == 0)\n",
    "                if not status:\n",
    "                    break\n",
    "            if not status:\n",
    "                result[i, j] = 255\n",
    "            status = True\n",
    "    return result"
   ]
  },
  {
   "cell_type": "code",
   "execution_count": 81,
   "metadata": {},
   "outputs": [
    {
     "data": {
      "text/plain": [
       "True"
      ]
     },
     "execution_count": 81,
     "metadata": {},
     "output_type": "execute_result"
    }
   ],
   "source": [
    "b = border(image, 'vertline')\n",
    "cv2.imwrite(path + 'b.png', b)"
   ]
  },
  {
   "cell_type": "code",
   "execution_count": 82,
   "metadata": {},
   "outputs": [],
   "source": [
    "def erod_horiz_line(image, size):\n",
    "    result = image.copy()\n",
    "    status = True\n",
    "    for i in range(result.shape[0]):\n",
    "        for j in range(result.shape[1]):\n",
    "            for k in range(1, int((size + 1) / 2)):\n",
    "                status = (status and image[i - 1, j] == 0 and image[i + 1, j] == 0)\n",
    "                if not status:\n",
    "                    break\n",
    "            if not status:\n",
    "                result[i, j] = 255\n",
    "            status = True\n",
    "    return result"
   ]
  },
  {
   "cell_type": "code",
   "execution_count": null,
   "metadata": {},
   "outputs": [],
   "source": []
  },
  {
   "cell_type": "code",
   "execution_count": null,
   "metadata": {},
   "outputs": [],
   "source": []
  }
 ],
 "metadata": {
  "kernelspec": {
   "display_name": "Python 3",
   "language": "python",
   "name": "python3"
  },
  "language_info": {
   "codemirror_mode": {
    "name": "ipython",
    "version": 3
   },
   "file_extension": ".py",
   "mimetype": "text/x-python",
   "name": "python",
   "nbconvert_exporter": "python",
   "pygments_lexer": "ipython3",
   "version": "3.7.5"
  }
 },
 "nbformat": 4,
 "nbformat_minor": 4
}
