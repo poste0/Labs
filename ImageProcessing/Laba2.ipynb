{
 "cells": [
  {
   "cell_type": "code",
   "execution_count": 1,
   "metadata": {},
   "outputs": [],
   "source": [
    "import numpy as np\n",
    "import cv2"
   ]
  },
  {
   "cell_type": "code",
   "execution_count": 53,
   "metadata": {},
   "outputs": [],
   "source": [
    "def erod(image, size, type_of_mask = 'square'):\n",
    "    assert type_of_mask == 'square' or type_of_mask == 'cross' or type_of_mask == 'vertline' or type_of_mask == 'horizline'\n",
    "    result = image.copy()\n",
    "    if type_of_mask == 'square':\n",
    "        result = erod_square(result, size)\n",
    "    elif type_of_mask == 'cross':\n",
    "        result = erod_cross(result, size)\n",
    "    elif type_of_mask == 'vertline':\n",
    "        result = erod_vert_line(result, size)\n",
    "    elif type_of_mask == 'horizline':\n",
    "        result = erod_horiz_line(result, size)\n",
    "    return result"
   ]
  },
  {
   "cell_type": "code",
   "execution_count": 3,
   "metadata": {},
   "outputs": [],
   "source": [
    "def erod_square(image, size):\n",
    "    result = image.copy()\n",
    "    status = True\n",
    "    for i in range(result.shape[0] - size):\n",
    "        for j in range(result.shape[1] - size):\n",
    "            for k in range(1, int((size + 1) / 2)):\n",
    "                status = (status and image[i + k, j] == 0 and image[i - k, j] == 0 and image[i, j + k] == 0 \n",
    "                and image[i + k, j + k] == 0 and image[i - k, j + k] == 0 and image[i, j - k] == 0 and image[i + k, j - k] == 0\n",
    "                and image[i - k, j - k] == 0)\n",
    "                if not status:\n",
    "                    break\n",
    "            if not status:\n",
    "                result[i, j] = 255\n",
    "            status = True\n",
    "    return result"
   ]
  },
  {
   "cell_type": "code",
   "execution_count": 4,
   "metadata": {},
   "outputs": [],
   "source": [
    "def erod_cross(image, size):\n",
    "    result = image.copy()\n",
    "    status = True\n",
    "    for i in range(result.shape[0] - size):\n",
    "        for j in range(result.shape[1] - size):\n",
    "            for k in range(1, int((size + 1) / 2)):\n",
    "                status = (status and image[i + k, j] == 0 and image[i - k, j] == 0\n",
    "                         and image[i, j + k] == 0 and image[i, j - k] == 0)\n",
    "                if not status:\n",
    "                    break\n",
    "            if not status:\n",
    "                result[i, j] = 255\n",
    "            status = True\n",
    "    return result"
   ]
  },
  {
   "cell_type": "code",
   "execution_count": 5,
   "metadata": {},
   "outputs": [],
   "source": [
    "def dilat(image, size, type_of_mask = 'square'):\n",
    "    assert type_of_mask == 'square' or type_of_mask == 'cross'\n",
    "    \n",
    "    result = image.copy()\n",
    "    if type_of_mask == 'square':\n",
    "        result = dilat_square(result, size)\n",
    "    elif type_of_mask == 'cross':\n",
    "        result = dilat_cross(result, size)\n",
    "    return result"
   ]
  },
  {
   "cell_type": "code",
   "execution_count": 6,
   "metadata": {},
   "outputs": [],
   "source": [
    "def dilat_square(image, size):\n",
    "    result = image.copy()\n",
    "    status = False\n",
    "    for i in range(result.shape[0] - size):\n",
    "        for j in range(result.shape[1] - size):\n",
    "            for k in range(1, int((size + 1) / 2)):\n",
    "                status = (status or image[i + k, j] == 0 or image[i - k, j] == 0 or image[i, j + k] == 0\n",
    "                         or image[i + k, j + k] == 0 or image[i - k, j + k] == 0 or image[i,j - k] == 0\n",
    "                         or image[i + k, j - k] == 0 or image[i - k, j - k] == 0)\n",
    "                if status:\n",
    "                    break\n",
    "            if status:\n",
    "                result[i, j] = 0\n",
    "            status = False\n",
    "    return result"
   ]
  },
  {
   "cell_type": "code",
   "execution_count": 7,
   "metadata": {},
   "outputs": [],
   "source": [
    "def dilat_cross(image, size):\n",
    "    result = image.copy()\n",
    "    status = False\n",
    "    for i in range(result.shape[0] - size):\n",
    "        for j in range(result.shape[1] - size):\n",
    "            for k in range(1, int((size + 1) / 2)):\n",
    "                status = (status or image[i + 1, j] == 0 or image[i - 1, j] == 0 or image[i, j + k] == 0\n",
    "                         or image[i, j - k] == 0)\n",
    "                if status:\n",
    "                    break\n",
    "            if status:\n",
    "                result[i, j] = 0\n",
    "            status = False\n",
    "    return result"
   ]
  },
  {
   "cell_type": "code",
   "execution_count": 8,
   "metadata": {},
   "outputs": [],
   "source": [
    "def opening(image, size, type_of_mask = 'square'):\n",
    "    assert type_of_mask == 'square' or type_of_mask == 'cross'\n",
    "    \n",
    "    result = image.copy()\n",
    "    result = erod(result, size, type_of_mask)\n",
    "    result = dilat(result, size, type_of_mask)\n",
    "    return result"
   ]
  },
  {
   "cell_type": "code",
   "execution_count": 9,
   "metadata": {},
   "outputs": [],
   "source": [
    "def closing(image, size, type_of_mask = 'square'):\n",
    "    assert type_of_mask == 'square' or type_of_mask == 'cross'\n",
    "    \n",
    "    result = image.copy()\n",
    "    result = dilat(result, size, type_of_mask)\n",
    "    result = erod(result, size, type_of_mask)\n",
    "    return result"
   ]
  },
  {
   "cell_type": "code",
   "execution_count": 10,
   "metadata": {},
   "outputs": [],
   "source": [
    "def filter(image):\n",
    "    result = image.copy()\n",
    "    for i in range(3, image.shape[0] - 3):\n",
    "        for j in range(3, image.shape[1] - 3):\n",
    "            if image[i, j] == 0:\n",
    "                if image[i, j + 1] == 255 and image[i, j - 1] == 255 and image[i + 1, j] == 255 and image[i - 1, j] == 255:\n",
    "                    image[i, j] = 255\n",
    "            elif image[i, j] == 255:\n",
    "                if image[i, j + 1] == 0 and image[i, j - 1] == 0 and image[i + 1, j] == 0 and image[i - 1, j] == 0:\n",
    "                    image[i, j] = 0\n",
    "    return result"
   ]
  },
  {
   "cell_type": "code",
   "execution_count": 58,
   "metadata": {},
   "outputs": [],
   "source": [
    "def make_noise(image, prob):\n",
    "    result = image.copy()\n",
    "    for i in range(image.shape[0]):\n",
    "        for j in range(image.shape[1]):\n",
    "            p = np.random.randint(0, 101)\n",
    "            if p < prob :\n",
    "                if image[i, j] == 0:\n",
    "                    result[i, j] = 255\n",
    "                elif image[i, j] == 255:\n",
    "                    result[i, j] = 0\n",
    "    return result"
   ]
  },
  {
   "cell_type": "code",
   "execution_count": 12,
   "metadata": {},
   "outputs": [],
   "source": [
    "def circle(image, centre, radius):\n",
    "    circle = [centre, radius]\n",
    "    for i in range(circle[0][0] - circle[1], circle[0][0] + circle[1]):\n",
    "        for j in range(circle[0][1] - circle[1], circle[0][1] + circle[1]):\n",
    "            if (i - circle[0][0]) ** 2 + (j - circle[0][1]) ** 2 < circle[1] ** 2:\n",
    "                image[i, j] = 0"
   ]
  },
  {
   "cell_type": "code",
   "execution_count": 13,
   "metadata": {},
   "outputs": [],
   "source": [
    "def triangle(image, A, B, C):\n",
    "    triangle = [A, B, C]\n",
    "    x_a = triangle[0][1]\n",
    "    y_a = triangle[0][0]\n",
    "    x_b = triangle[1][1]\n",
    "    y_b = triangle[1][0]\n",
    "    x_c = triangle[2][1]\n",
    "    y_c = triangle[2][0]\n",
    "\n",
    "    left = triangle[0][0]\n",
    "    right = triangle[0][0]\n",
    "    above = triangle[0][1]\n",
    "    below = triangle[0][1]\n",
    "    for i in triangle:\n",
    "        if left > i[0]:\n",
    "            left = i[0]\n",
    "        if right < i[0]:\n",
    "            right = i[0]\n",
    "        if above > i[1]:\n",
    "            above = i[1]\n",
    "        if below < i[1]:\n",
    "            below = i[1]\n",
    "    for i in range(above, below):\n",
    "        for j in range(left, right):\n",
    "            coord_1 = (x_a - i) * (y_b - y_a) - (x_b - x_a) * (y_a - j)\n",
    "            coord_2 = (x_b - i) * (y_c - y_b) - (x_c - x_b) * (y_b - j)\n",
    "            coord_3 = (x_c - i) * (y_a - y_c) - (x_a - x_c) * (y_c - j)\n",
    "            if coord_1 >= 0 and coord_2 >= 0 and coord_3 >= 0:\n",
    "                image[i, j] = 0"
   ]
  },
  {
   "cell_type": "code",
   "execution_count": 14,
   "metadata": {},
   "outputs": [],
   "source": [
    "def square(image, A, B):\n",
    "    square = [A, B]\n",
    "    for i in range(square[0][0], square[1][0]):\n",
    "        for j in range(square[0][1], square[1][1]):\n",
    "            image[i, j] = 0"
   ]
  },
  {
   "cell_type": "code",
   "execution_count": 15,
   "metadata": {},
   "outputs": [],
   "source": [
    "def noise_reduce(image, filter_image, noised_image):\n",
    "    assert image.shape == filter_image.shape and image.shape == noised_image.shape\n",
    "    count_noised = 0\n",
    "    count_filtered = 0\n",
    "    for i in range(image.shape[0]):\n",
    "        for j in range(image.shape[1]):\n",
    "            if image[i, j] - noised_image[i, j] != 0:\n",
    "                count_noised += 1\n",
    "            if image[i, j] - filter_image[i, j] != 0:\n",
    "                count_filtered += 1\n",
    "    return count_noised / count_filtered"
   ]
  },
  {
   "cell_type": "markdown",
   "metadata": {},
   "source": [
    "# 1. Фильтрация бинарных изображений"
   ]
  },
  {
   "cell_type": "markdown",
   "metadata": {},
   "source": [
    "## 1.1. Создать или выбрать бинарное изображение с любым простым рисунком, состоящим из примитивных фигур (круги, квадраты, полигоны)."
   ]
  },
  {
   "cell_type": "code",
   "execution_count": 85,
   "metadata": {},
   "outputs": [],
   "source": [
    "image = np.zeros((500, 500))\n",
    "image.fill(255)"
   ]
  },
  {
   "cell_type": "code",
   "execution_count": 86,
   "metadata": {},
   "outputs": [],
   "source": [
    "square(image, (10, 10), (50, 50))\n",
    "triangle(image, (100, 100), (100, 200), (200, 100))\n",
    "circle(image, (400, 400), 40)\n",
    "circle(image, (200, 250), 1)"
   ]
  },
  {
   "cell_type": "code",
   "execution_count": 87,
   "metadata": {},
   "outputs": [
    {
     "data": {
      "text/plain": [
       "True"
      ]
     },
     "execution_count": 87,
     "metadata": {},
     "output_type": "execute_result"
    }
   ],
   "source": [
    "cv2.imwrite('/home/qwerty/image.png', image)"
   ]
  },
  {
   "cell_type": "markdown",
   "metadata": {},
   "source": [
    "## 1.2. На полученное изображение наложить шум (1%, 2%, 5%, 10%, 20%, 50%)."
   ]
  },
  {
   "cell_type": "code",
   "execution_count": 88,
   "metadata": {},
   "outputs": [],
   "source": [
    "noised = []\n",
    "for i in [1, 2, 5, 10, 20, 50]:\n",
    "    noise = make_noise(image, i)\n",
    "    noised.append(noise)\n",
    "    cv2.imwrite('/home/qwerty/image_noise_' + str(i) + '.png', noise)"
   ]
  },
  {
   "cell_type": "markdown",
   "metadata": {},
   "source": [
    "## 1.3. Выполнить операции эрозии и дилатации для различных структурных элементов (крест, квадрат). Визуально оценить результаты эрозии и дилатации."
   ]
  },
  {
   "cell_type": "code",
   "execution_count": 89,
   "metadata": {},
   "outputs": [],
   "source": [
    "for i in range(3, 6):\n",
    "    erod_image = erod(image, i, type_of_mask = 'square')\n",
    "    cv2.imwrite('/home/qwerty/erod_image_square_' + str(i) + '.png', erod_image)"
   ]
  },
  {
   "cell_type": "code",
   "execution_count": 90,
   "metadata": {},
   "outputs": [],
   "source": [
    "for i in range(3, 6):\n",
    "    erod_image = erod(image, i, type_of_mask = 'cross')\n",
    "    cv2.imwrite('/home/qwerty/erod_image_cross_'+ str(i) + '.png', erod_image)"
   ]
  },
  {
   "cell_type": "code",
   "execution_count": 91,
   "metadata": {},
   "outputs": [],
   "source": [
    "for i in range(3, 6):\n",
    "    dilat_image = dilat(image, i, type_of_mask = 'square')\n",
    "    cv2.imwrite('/home/qwerty/dilat_image_square_' + str(i) + '.png', dilat_image)"
   ]
  },
  {
   "cell_type": "code",
   "execution_count": 92,
   "metadata": {},
   "outputs": [],
   "source": [
    "for i in range(3, 6):\n",
    "    dilat_image= dilat(image, i, type_of_mask = 'cross')\n",
    "    cv2.imwrite('/home/qwerty/dilat_image_cross_' + str(i) + '.png', dilat_image)"
   ]
  },
  {
   "cell_type": "markdown",
   "metadata": {},
   "source": [
    "## 1.4. Провести фильтрацию шумов на изображении при помощи морфологических операций вскрытия и закрытия с различными размерами (от 3 до 5) и формами структурного элемента (крест, квадрат), а также алгоритма фильтрации шумов, которому соответствует логическая таблица истинности, представленная в табл. 1 со крестообразным структурным элементом размером 3."
   ]
  },
  {
   "cell_type": "code",
   "execution_count": 93,
   "metadata": {},
   "outputs": [],
   "source": [
    "opened_image_square = np.zeros((3, len(noised), noised[0].shape[0], noised[0].shape[1]))\n",
    "for i in range(3, 6):\n",
    "    for j in range(len(noised)):\n",
    "        open_image = opening(noised[j], i, type_of_mask = 'square')\n",
    "        opened_image_square[i - 3, j] = open_image\n",
    "        cv2.imwrite('/home/qwerty/open_image_square' + str(j) + '_' + str(i) + '.png', open_image)"
   ]
  },
  {
   "cell_type": "code",
   "execution_count": 94,
   "metadata": {},
   "outputs": [],
   "source": [
    "closed_image_square = np.zeros((3, len(noised), noised[0].shape[0], noised[0].shape[1]))\n",
    "for i in range(3, 6):\n",
    "    for j in range(len(noised)):\n",
    "        close_image = closing(noised[j], i, type_of_mask = 'square')\n",
    "        closed_image_square[i - 3, j] = close_image\n",
    "        cv2.imwrite('/home/qwerty/close_image_square' + str(j) + '_' + str(i) + '.png', close_image)"
   ]
  },
  {
   "cell_type": "code",
   "execution_count": 95,
   "metadata": {},
   "outputs": [],
   "source": [
    "opened_image_cross = np.zeros((3, len(noised), noised[0].shape[0], noised[0].shape[1]))\n",
    "for i in range(3, 6):\n",
    "    for j in range(len(noised)):\n",
    "        open_image = opening(noised[j], i, type_of_mask = 'cross')\n",
    "        opened_image_cross[i - 3, j] = open_image\n",
    "        cv2.imwrite('/home/qwerty/open_image_cross' + str(j) + '_' + str(i) + '.png', open_image)"
   ]
  },
  {
   "cell_type": "code",
   "execution_count": 96,
   "metadata": {},
   "outputs": [],
   "source": [
    "closed_image_cross = np.zeros((3, len(noised), noised[0].shape[0], noised[0].shape[1]))\n",
    "for i in range(3, 6):\n",
    "    for j in range(len(noised)):\n",
    "        close_image = closing(noised[j], i, type_of_mask = 'cross')\n",
    "        closed_image_cross[i - 3, j] = close_image\n",
    "        cv2.imwrite('/home/qwerty/close_image_cross' + str(j) + '_' + str(i) + '.png', close_image)"
   ]
  },
  {
   "cell_type": "code",
   "execution_count": 97,
   "metadata": {},
   "outputs": [],
   "source": [
    "filtered_image = np.zeros((3, len(noised), noised[0].shape[0], noised[0].shape[1]))\n",
    "for i in range(len(noised)):\n",
    "    filter_image = filter(noised[i])\n",
    "    filtered_image[i - 3, j] = filter_image\n",
    "    cv2.imwrite('/home/qwerty/filter_image_' + str(i) + '.png', filter_image)"
   ]
  },
  {
   "cell_type": "markdown",
   "metadata": {},
   "source": [
    "## 1.5. Рассчитать коэффициент снижения шума для различных методов фильтрации, для различной интенсивности шума и различных размеров и форм структурного элемента (окна)."
   ]
  },
  {
   "cell_type": "code",
   "execution_count": 98,
   "metadata": {},
   "outputs": [
    {
     "name": "stdout",
     "output_type": "stream",
     "text": [
      "Size 3 Noised 0 reduce 0.7065637065637066\n",
      "Size 3 Noised 1 reduce 1.0074349442379182\n",
      "Size 3 Noised 2 reduce 1.7418060200668897\n",
      "Size 3 Noised 3 reduce 2.6598480420806547\n",
      "Size 3 Noised 4 reduce 3.5762424242424244\n",
      "Size 3 Noised 5 reduce 6.8838967971530245\n",
      "Size 4 Noised 0 reduce 0.6654545454545454\n",
      "Size 4 Noised 1 reduce 0.9344827586206896\n",
      "Size 4 Noised 2 reduce 1.7199471598414795\n",
      "Size 4 Noised 3 reduce 2.6087704213241616\n",
      "Size 4 Noised 4 reduce 3.5148915892304027\n",
      "Size 4 Noised 5 reduce 6.712937859234357\n",
      "Size 5 Noised 0 reduce 0.3560311284046693\n",
      "Size 5 Noised 1 reduce 0.5784418356456777\n",
      "Size 5 Noised 2 reduce 1.0280300039478878\n",
      "Size 5 Noised 3 reduce 1.575831024930748\n",
      "Size 5 Noised 4 reduce 2.2610161698214424\n",
      "Size 5 Noised 5 reduce 6.927811975377728\n"
     ]
    }
   ],
   "source": [
    "for i in range(opened_image_square.shape[0]):\n",
    "    for j in range(opened_image_square.shape[1]):\n",
    "        print('Size {} Noised {} reduce {}'.format(i + 3, j, noise_reduce(image, opened_image_square[i, j], noised[j])))"
   ]
  },
  {
   "cell_type": "code",
   "execution_count": 99,
   "metadata": {},
   "outputs": [
    {
     "name": "stdout",
     "output_type": "stream",
     "text": [
      "Size 3 Noised 0 reduce 0.07093023255813953\n",
      "Size 3 Noised 1 reduce 0.09742944454431063\n",
      "Size 3 Noised 2 reduce 0.15329369517866603\n",
      "Size 3 Noised 3 reduce 0.19494120922661756\n",
      "Size 3 Noised 4 reduce 0.24071928593574074\n",
      "Size 3 Noised 5 reduce 0.5346739050629905\n",
      "Size 4 Noised 0 reduce 0.07104037267080746\n",
      "Size 4 Noised 1 reduce 0.09749955027882713\n",
      "Size 4 Noised 2 reduce 0.1535377358490566\n",
      "Size 4 Noised 3 reduce 0.19531769704512777\n",
      "Size 4 Noised 4 reduce 0.24137902823342688\n",
      "Size 4 Noised 5 reduce 0.5358402693917477\n",
      "Size 5 Noised 0 reduce 0.07290836653386454\n",
      "Size 5 Noised 1 reduce 0.10296352583586627\n",
      "Size 5 Noised 2 reduce 0.1419924750531654\n",
      "Size 5 Noised 3 reduce 0.1401364105248572\n",
      "Size 5 Noised 4 reduce 0.1661074203355478\n",
      "Size 5 Noised 5 reduce 0.5336989041497461\n"
     ]
    }
   ],
   "source": [
    "for i in range(closed_image_square.shape[0]):\n",
    "    for j in range(closed_image_square.shape[1]):\n",
    "        print('Size {} Noised {} reduce {}'.format(i + 3, j, noise_reduce(image, closed_image_square[i, j], noised[j])))"
   ]
  },
  {
   "cell_type": "code",
   "execution_count": 100,
   "metadata": {},
   "outputs": [
    {
     "name": "stdout",
     "output_type": "stream",
     "text": [
      "Size 3 Noised 0 reduce 0.8970588235294118\n",
      "Size 3 Noised 1 reduce 1.3618090452261307\n",
      "Size 3 Noised 2 reduce 2.570582428430405\n",
      "Size 3 Noised 3 reduce 4.414161008729389\n",
      "Size 3 Noised 4 reduce 5.529235382308846\n",
      "Size 3 Noised 5 reduce 2.9741741741741743\n",
      "Size 4 Noised 0 reduce 0.8472222222222222\n",
      "Size 4 Noised 1 reduce 1.266355140186916\n",
      "Size 4 Noised 2 reduce 2.48\n",
      "Size 4 Noised 3 reduce 4.251284446520318\n",
      "Size 4 Noised 4 reduce 5.374134790528233\n",
      "Size 4 Noised 5 reduce 2.9487423780487805\n",
      "Size 5 Noised 0 reduce 0.3160621761658031\n",
      "Size 5 Noised 1 reduce 0.6537997587454765\n",
      "Size 5 Noised 2 reduce 1.552772808586762\n",
      "Size 5 Noised 3 reduce 2.718637992831541\n",
      "Size 5 Noised 4 reduce 3.607728050868183\n",
      "Size 5 Noised 5 reduce 6.755798090040928\n"
     ]
    }
   ],
   "source": [
    "for i in range(opened_image_cross.shape[0]):\n",
    "    for j in range(opened_image_cross.shape[1]):\n",
    "        print('Size {} Noised {} reduce {}'.format(i + 3, j, noise_reduce(image, opened_image_cross[i, j], noised[j])))"
   ]
  },
  {
   "cell_type": "code",
   "execution_count": 101,
   "metadata": {},
   "outputs": [
    {
     "name": "stdout",
     "output_type": "stream",
     "text": [
      "Size 3 Noised 0 reduce 0.07555739058629232\n",
      "Size 3 Noised 1 reduce 0.11172954030096888\n",
      "Size 3 Noised 2 reduce 0.2081035722848238\n",
      "Size 3 Noised 3 reduce 0.32458455174381284\n",
      "Size 3 Noised 4 reduce 0.4200335981321716\n",
      "Size 3 Noised 5 reduce 0.5985186904140318\n",
      "Size 4 Noised 0 reduce 0.07568238213399504\n",
      "Size 4 Noised 1 reduce 0.11172954030096888\n",
      "Size 4 Noised 2 reduce 0.20830333573314136\n",
      "Size 4 Noised 3 reduce 0.3249321719263173\n",
      "Size 4 Noised 4 reduce 0.4204705781755476\n",
      "Size 4 Noised 5 reduce 0.5997248435289786\n",
      "Size 5 Noised 0 reduce 0.4906166219839142\n",
      "Size 5 Noised 1 reduce 1.0524271844660193\n",
      "Size 5 Noised 2 reduce 1.4022617124394183\n",
      "Size 5 Noised 3 reduce 0.910382076415283\n",
      "Size 5 Noised 4 reduce 0.5204904295669048\n",
      "Size 5 Noised 5 reduce 0.5654388088332686\n"
     ]
    }
   ],
   "source": [
    "for i in range(closed_image_cross.shape[0]):\n",
    "    for j in range(closed_image_cross.shape[1]):\n",
    "        print('Size {} Noised {} reduce {}'.format(i + 3, j, noise_reduce(image, closed_image_cross[i, j], noised[j])))"
   ]
  },
  {
   "cell_type": "code",
   "execution_count": 102,
   "metadata": {},
   "outputs": [
    {
     "name": "stdout",
     "output_type": "stream",
     "text": [
      "Size 3 Noised 0 reduce 0.0007681426478674597\n",
      "Size 3 Noised 1 reduce 0.002275045437946247\n",
      "Size 3 Noised 2 reduce 0.01093029210408123\n",
      "Size 3 Noised 3 reduce 0.03820565235458808\n",
      "Size 3 Noised 4 reduce 0.12384306383978978\n",
      "Size 3 Noised 5 reduce 4.961724980962686\n",
      "Size 4 Noised 0 reduce 0.0007681426478674597\n",
      "Size 4 Noised 1 reduce 0.002275045437946247\n",
      "Size 4 Noised 2 reduce 0.01093029210408123\n",
      "Size 4 Noised 3 reduce 0.03820565235458808\n",
      "Size 4 Noised 4 reduce 0.12384306383978978\n",
      "Size 4 Noised 5 reduce 2.507900494287335\n",
      "Size 5 Noised 0 reduce 0.0007681426478674597\n",
      "Size 5 Noised 1 reduce 0.002275045437946247\n",
      "Size 5 Noised 2 reduce 0.01093029210408123\n",
      "Size 5 Noised 3 reduce 0.03820565235458808\n",
      "Size 5 Noised 4 reduce 0.12384306383978978\n",
      "Size 5 Noised 5 reduce 0.9983709940162255\n"
     ]
    }
   ],
   "source": [
    "for i in range(filtered_image.shape[0]):\n",
    "    for j in range(filtered_image.shape[1]):\n",
    "        print('Size {} Noised {} reduce {}'.format(i + 3, j, noise_reduce(image, filtered_image[i, j], noised[j])))"
   ]
  },
  {
   "cell_type": "markdown",
   "metadata": {},
   "source": [
    "# 2. Выделение контуров на бинарных изображениях"
   ]
  },
  {
   "cell_type": "markdown",
   "metadata": {},
   "source": [
    "## 2.1. Создать или выбрать бинарное изображение, содержащее простой рисунок, состоящий из примитивных фигур (полосы, круги, квадраты)."
   ]
  },
  {
   "cell_type": "code",
   "execution_count": 103,
   "metadata": {},
   "outputs": [],
   "source": [
    "image = np.zeros((500, 500))\n",
    "image.fill(255)"
   ]
  },
  {
   "cell_type": "code",
   "execution_count": 104,
   "metadata": {},
   "outputs": [],
   "source": [
    "square(image, (10, 10), (50, 50))\n",
    "triangle(image, (100, 100), (100, 200), (200, 100))\n",
    "circle(image, (400, 400), 40)\n",
    "circle(image, (200, 250), 1)"
   ]
  },
  {
   "cell_type": "code",
   "execution_count": 105,
   "metadata": {},
   "outputs": [
    {
     "data": {
      "text/plain": [
       "True"
      ]
     },
     "execution_count": 105,
     "metadata": {},
     "output_type": "execute_result"
    }
   ],
   "source": [
    "cv2.imwrite('/home/qwerty/image.png', image)"
   ]
  },
  {
   "cell_type": "markdown",
   "metadata": {},
   "source": [
    "## 2.2. С помощью морфологических операций выделить контур объекта. Выяснить, когда контур получается внешним, внутренним, четырёхсвязным, восьмисвязным."
   ]
  },
  {
   "cell_type": "code",
   "execution_count": 106,
   "metadata": {},
   "outputs": [],
   "source": [
    "def border(image, mask_type):\n",
    "    assert mask_type == 'square' or mask_type == 'cross' or mask_type == 'vertline' or mask_type == 'horizline'\n",
    "    \n",
    "    result = image.copy()\n",
    "    erod_image = erod(image, 3, mask_type)\n",
    "    for i in range(result.shape[0]):\n",
    "        for j in range(result.shape[1]):\n",
    "            if image[i, j] - erod_image[i, j] != 0:\n",
    "                result[i, j] = 0\n",
    "            else:\n",
    "                result[i, j] = 255\n",
    "    return result"
   ]
  },
  {
   "cell_type": "code",
   "execution_count": 107,
   "metadata": {},
   "outputs": [
    {
     "data": {
      "text/plain": [
       "True"
      ]
     },
     "execution_count": 107,
     "metadata": {},
     "output_type": "execute_result"
    }
   ],
   "source": [
    "b = border(image, 'square')\n",
    "cv2.imwrite('/home/qwerty/b.png', b)"
   ]
  },
  {
   "cell_type": "code",
   "execution_count": 108,
   "metadata": {},
   "outputs": [],
   "source": [
    "def erod_vert_line(image, size):\n",
    "    result = image.copy()\n",
    "    status = True\n",
    "    for i in range(result.shape[0]):\n",
    "        for j in range(result.shape[1]):\n",
    "            for k in range(1, int((size + 1) / 2)):\n",
    "                status = (status and image[i, j - k] == 0 and image[i, j + k] == 0)\n",
    "                if not status:\n",
    "                    break\n",
    "            if not status:\n",
    "                result[i, j] = 255\n",
    "            status = True\n",
    "    return result"
   ]
  },
  {
   "cell_type": "code",
   "execution_count": 109,
   "metadata": {},
   "outputs": [
    {
     "data": {
      "text/plain": [
       "True"
      ]
     },
     "execution_count": 109,
     "metadata": {},
     "output_type": "execute_result"
    }
   ],
   "source": [
    "b = border(image, 'vertline')\n",
    "cv2.imwrite('/home/qwerty/b.png', b)"
   ]
  },
  {
   "cell_type": "code",
   "execution_count": 110,
   "metadata": {},
   "outputs": [],
   "source": [
    "def erod_horiz_line(image, size):\n",
    "    result = image.copy()\n",
    "    status = True\n",
    "    for i in range(result.shape[0]):\n",
    "        for j in range(result.shape[1]):\n",
    "            for k in range(1, int((size + 1) / 2)):\n",
    "                status = (status and image[i - 1, j] == 0 and image[i + 1, j] == 0)\n",
    "                if not status:\n",
    "                    break\n",
    "            if not status:\n",
    "                result[i, j] = 255\n",
    "            status = True\n",
    "    return result"
   ]
  },
  {
   "cell_type": "code",
   "execution_count": null,
   "metadata": {},
   "outputs": [],
   "source": []
  }
 ],
 "metadata": {
  "kernelspec": {
   "display_name": "Python 3",
   "language": "python",
   "name": "python3"
  },
  "language_info": {
   "codemirror_mode": {
    "name": "ipython",
    "version": 3
   },
   "file_extension": ".py",
   "mimetype": "text/x-python",
   "name": "python",
   "nbconvert_exporter": "python",
   "pygments_lexer": "ipython3",
   "version": "3.6.10"
  }
 },
 "nbformat": 4,
 "nbformat_minor": 4
}
