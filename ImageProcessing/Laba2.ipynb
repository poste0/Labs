{
 "cells": [
  {
   "cell_type": "code",
   "execution_count": 1,
   "metadata": {},
   "outputs": [],
   "source": [
    "import numpy as np\n",
    "import cv2"
   ]
  },
  {
   "cell_type": "code",
   "execution_count": 45,
   "metadata": {},
   "outputs": [],
   "source": [
    "def erod(image, size, type_of_mask = 'square'):\n",
    "    assert type_of_mask == 'square' or type_of_mask == 'cross'\n",
    "    result = image.copy()\n",
    "    if type_of_mask == 'square':\n",
    "        result = erod_square(result, size)\n",
    "    elif type_of_mask == 'cross':\n",
    "        result = erod_cross(result, size)\n",
    "    return result"
   ]
  },
  {
   "cell_type": "code",
   "execution_count": 178,
   "metadata": {},
   "outputs": [],
   "source": [
    "def erod_square(image, size):\n",
    "    result = image.copy()\n",
    "    status = True\n",
    "    for i in range(result.shape[0] - size):\n",
    "        for j in range(result.shape[1] - size):\n",
    "            for k in range(1, int((size + 1) / 2)):\n",
    "                status = (status and image[i + k, j] == 0 and image[i - k, j] == 0 and image[i, j + k] == 0 \n",
    "                and image[i + k, j + k] == 0 and image[i - k, j + k] == 0 and image[i, j - k] == 0 and image[i + k, j - k] == 0\n",
    "                and image[i - k, j - k] == 0)\n",
    "                if not status:\n",
    "                    break\n",
    "            if not status:\n",
    "                result[i, j] = 255\n",
    "            status = True\n",
    "    return result"
   ]
  },
  {
   "cell_type": "code",
   "execution_count": 179,
   "metadata": {},
   "outputs": [],
   "source": [
    "def erod_cross(image, size):\n",
    "    result = image.copy()\n",
    "    status = True\n",
    "    for i in range(result.shape[0] - size):\n",
    "        for j in range(result.shape[1] - size):\n",
    "            for k in range(1, int((size + 1) / 2)):\n",
    "                status = (status and image[i + k, j] == 0 and image[i - k, j] == 0\n",
    "                         and image[i, j + k] == 0 and image[i, j - k] == 0)\n",
    "                if not status:\n",
    "                    break\n",
    "            if not status:\n",
    "                result[i, j] = 255\n",
    "            status = True\n",
    "    return result"
   ]
  },
  {
   "cell_type": "code",
   "execution_count": 76,
   "metadata": {},
   "outputs": [],
   "source": [
    "def dilat(image, size, type_of_mask = 'square'):\n",
    "    assert type_of_mask == 'square' or type_of_mask == 'cross'\n",
    "    \n",
    "    result = image.copy()\n",
    "    if type_of_mask == 'square':\n",
    "        result = dilat_square(result, size)\n",
    "    elif type_of_mask == 'cross':\n",
    "        result = dilat_cross(result, size)\n",
    "    return result"
   ]
  },
  {
   "cell_type": "code",
   "execution_count": 193,
   "metadata": {},
   "outputs": [],
   "source": [
    "def dilat_square(image, size):\n",
    "    result = image.copy()\n",
    "    status = False\n",
    "    for i in range(result.shape[0] - size):\n",
    "        for j in range(result.shape[1] - size):\n",
    "            for k in range(1, int((size + 1) / 2)):\n",
    "                status = (status or image[i + k, j] == 0 or image[i - k, j] == 0 or image[i, j + k] == 0\n",
    "                         or image[i + k, j + k] == 0 or image[i - k, j + k] == 0 or image[i,j - k] == 0\n",
    "                         or image[i + k, j - k] == 0 or image[i - k, j - k] == 0)\n",
    "                if status:\n",
    "                    break\n",
    "            if status:\n",
    "                result[i, j] = 0\n",
    "            status = False\n",
    "    return result"
   ]
  },
  {
   "cell_type": "code",
   "execution_count": 194,
   "metadata": {},
   "outputs": [],
   "source": [
    "def dilat_cross(image, size):\n",
    "    result = image.copy()\n",
    "    status = False\n",
    "    for i in range(result.shape[0] - size):\n",
    "        for j in range(result.shape[1] - size):\n",
    "            for k in range(1, int((size + 1) / 2)):\n",
    "                status = (status or image[i + 1, j] == 0 or image[i - 1, j] == 0 or image[i, j + k] == 0\n",
    "                         or image[i, j - k] == 0)\n",
    "                if status:\n",
    "                    break\n",
    "            if status:\n",
    "                result[i, j] = 0\n",
    "            status = False\n",
    "    return result"
   ]
  },
  {
   "cell_type": "code",
   "execution_count": 79,
   "metadata": {},
   "outputs": [],
   "source": [
    "def opening(image, size, type_of_mask = 'square'):\n",
    "    assert type_of_mask == 'square' or type_of_mask == 'cross'\n",
    "    \n",
    "    result = image.copy()\n",
    "    result = erod(result, size, type_of_mask)\n",
    "    result = dilat(result, size, type_of_mask)\n",
    "    return result"
   ]
  },
  {
   "cell_type": "code",
   "execution_count": 82,
   "metadata": {},
   "outputs": [],
   "source": [
    "def closing(image, size, type_of_mask = 'square'):\n",
    "    assert type_of_mask == 'square' or type_of_mask == 'cross'\n",
    "    \n",
    "    result = image.copy()\n",
    "    result = dilat(result, size, type_of_mask)\n",
    "    result = erod(result, size, type_of_mask)\n",
    "    return result"
   ]
  },
  {
   "cell_type": "code",
   "execution_count": 85,
   "metadata": {},
   "outputs": [],
   "source": [
    "def filter(image):\n",
    "    result = image.copy()\n",
    "    for i in range(3, image.shape[0] - 3):\n",
    "        for j in range(3, image.shape[1] - 3):\n",
    "            if image[i, j] == 0:\n",
    "                if image[i, j + 1] == 255 and image[i, j - 1] == 255 and image[i + 1, j] == 255 and image[i - 1, j] == 255:\n",
    "                    image[i, j] = 255\n",
    "            elif image[i, j] == 255:\n",
    "                if image[i, j + 1] == 0 and image[i, j - 1] == 0 and image[i + 1, j] == 0 and image[i - 1, j] == 0:\n",
    "                    image[i, j] = 0\n",
    "    return result"
   ]
  },
  {
   "cell_type": "code",
   "execution_count": 200,
   "metadata": {},
   "outputs": [],
   "source": [
    "def make_noise(image, prob):\n",
    "    result = image.copy()\n",
    "    for i in range(image.shape[0]):\n",
    "        for j in range(image.shape[1]):\n",
    "            p = np.random.randint(0, 101)\n",
    "            if p < prob :\n",
    "                if image[i, j] == 0:\n",
    "                    result[i, j] = 255\n",
    "                #elif image[i, j] == 255:\n",
    "                #   result[i, j] = 0\n",
    "    return result"
   ]
  },
  {
   "cell_type": "code",
   "execution_count": 98,
   "metadata": {},
   "outputs": [],
   "source": [
    "def circle(image, centre, radius):\n",
    "    circle = [centre, radius]\n",
    "    for i in range(circle[0][0] - circle[1], circle[0][0] + circle[1]):\n",
    "        for j in range(circle[0][1] - circle[1], circle[0][1] + circle[1]):\n",
    "            if (i - circle[0][0]) ** 2 + (j - circle[0][1]) ** 2 < circle[1] ** 2:\n",
    "                image[i, j] = 0"
   ]
  },
  {
   "cell_type": "code",
   "execution_count": 94,
   "metadata": {},
   "outputs": [],
   "source": [
    "def triangle(image, A, B, C):\n",
    "    triangle = [A, B, C]\n",
    "    x_a = triangle[0][1]\n",
    "    y_a = triangle[0][0]\n",
    "    x_b = triangle[1][1]\n",
    "    y_b = triangle[1][0]\n",
    "    x_c = triangle[2][1]\n",
    "    y_c = triangle[2][0]\n",
    "\n",
    "    left = triangle[0][0]\n",
    "    right = triangle[0][0]\n",
    "    above = triangle[0][1]\n",
    "    below = triangle[0][1]\n",
    "    for i in triangle:\n",
    "        if left > i[0]:\n",
    "            left = i[0]\n",
    "        if right < i[0]:\n",
    "            right = i[0]\n",
    "        if above > i[1]:\n",
    "            above = i[1]\n",
    "        if below < i[1]:\n",
    "            below = i[1]\n",
    "    for i in range(above, below):\n",
    "        for j in range(left, right):\n",
    "            coord_1 = (x_a - i) * (y_b - y_a) - (x_b - x_a) * (y_a - j)\n",
    "            coord_2 = (x_b - i) * (y_c - y_b) - (x_c - x_b) * (y_b - j)\n",
    "            coord_3 = (x_c - i) * (y_a - y_c) - (x_a - x_c) * (y_c - j)\n",
    "            if coord_1 >= 0 and coord_2 >= 0 and coord_3 >= 0:\n",
    "                image[i, j] = 0"
   ]
  },
  {
   "cell_type": "code",
   "execution_count": 89,
   "metadata": {},
   "outputs": [],
   "source": [
    "def square(image, A, B):\n",
    "    square = [A, B]\n",
    "    for i in range(square[0][0], square[1][0]):\n",
    "        for j in range(square[0][1], square[1][1]):\n",
    "            image[i, j] = 0"
   ]
  },
  {
   "cell_type": "code",
   "execution_count": 205,
   "metadata": {},
   "outputs": [],
   "source": [
    "image = np.zeros((500, 500))\n",
    "image.fill(255)"
   ]
  },
  {
   "cell_type": "code",
   "execution_count": 206,
   "metadata": {},
   "outputs": [],
   "source": [
    "square(image, (10, 10), (50, 50))\n",
    "triangle(image, (100, 100), (100, 200), (200, 100))\n",
    "circle(image, (400, 400), 40)\n",
    "circle(image, (200, 250), 1)"
   ]
  },
  {
   "cell_type": "code",
   "execution_count": 207,
   "metadata": {},
   "outputs": [
    {
     "data": {
      "text/plain": [
       "True"
      ]
     },
     "execution_count": 207,
     "metadata": {},
     "output_type": "execute_result"
    }
   ],
   "source": [
    "cv2.imwrite('/home/qwerty/image.png', image)"
   ]
  },
  {
   "cell_type": "code",
   "execution_count": 208,
   "metadata": {},
   "outputs": [],
   "source": [
    "noised = []\n",
    "for i in [1, 2, 5, 10, 20, 50]:\n",
    "    noise = make_noise(image, i)\n",
    "    noised.append(noise)\n",
    "    cv2.imwrite('/home/qwerty/image_noise_' + str(i) + '.png', noise)"
   ]
  },
  {
   "cell_type": "code",
   "execution_count": 181,
   "metadata": {},
   "outputs": [],
   "source": [
    "for i in range(3, 6):\n",
    "    erod_image = erod(image, i, type_of_mask = 'square')\n",
    "    cv2.imwrite('/home/qwerty/erod_image_square_' + str(i) + '.png', erod_image)"
   ]
  },
  {
   "cell_type": "code",
   "execution_count": 183,
   "metadata": {},
   "outputs": [],
   "source": [
    "for i in range(3, 6):\n",
    "    erod_image = erod(image, i, type_of_mask = 'cross')\n",
    "    cv2.imwrite('/home/qwerty/erod_image_cross_'+ str(i) + '.png', erod_image)"
   ]
  },
  {
   "cell_type": "code",
   "execution_count": 185,
   "metadata": {},
   "outputs": [],
   "source": [
    "for i in range(3, 6):\n",
    "    dilat_image = dilat(image, i, type_of_mask = 'square')\n",
    "    cv2.imwrite('/home/qwerty/dilat_image_square_' + str(i) + '.png', dilat_image)"
   ]
  },
  {
   "cell_type": "code",
   "execution_count": 186,
   "metadata": {},
   "outputs": [],
   "source": [
    "for i in range(3, 6):\n",
    "    dilat_image= dilat(image, i, type_of_mask = 'cross')\n",
    "    cv2.imwrite('/home/qwerty/dilat_image_cross_' + str(i) + '.png', dilat_image)"
   ]
  },
  {
   "cell_type": "code",
   "execution_count": 209,
   "metadata": {},
   "outputs": [],
   "source": [
    "for i in range(3, 6):\n",
    "    for j in range(len(noised)):\n",
    "        open_image = opening(noised[j], i, type_of_mask = 'square')\n",
    "        cv2.imwrite('/home/qwerty/open_image_square' + str(j) + '_' + str(i) + '.png', open_image)"
   ]
  },
  {
   "cell_type": "code",
   "execution_count": 210,
   "metadata": {},
   "outputs": [],
   "source": [
    "for i in range(3, 6):\n",
    "    for j in range(len(noised)):\n",
    "        open_image = closing(noised[j], i, type_of_mask = 'square')\n",
    "        cv2.imwrite('/home/qwerty/close_image_square' + str(j) + '_' + str(i) + '.png', open_image)"
   ]
  },
  {
   "cell_type": "code",
   "execution_count": 211,
   "metadata": {},
   "outputs": [],
   "source": [
    "for i in range(3, 6):\n",
    "    for j in range(len(noised)):\n",
    "        open_image = opening(noised[j], i, type_of_mask = 'cross')\n",
    "        cv2.imwrite('/home/qwerty/open_image_cross' + str(j) + '_' + str(i) + '.png', open_image)"
   ]
  },
  {
   "cell_type": "code",
   "execution_count": 212,
   "metadata": {},
   "outputs": [],
   "source": [
    "for i in range(3, 6):\n",
    "    for j in range(len(noised)):\n",
    "        open_image = closing(noised[j], i, type_of_mask = 'cross')\n",
    "        cv2.imwrite('/home/qwerty/close_image_cross' + str(j) + '_' + str(i) + '.png', open_image)"
   ]
  },
  {
   "cell_type": "code",
   "execution_count": 214,
   "metadata": {},
   "outputs": [],
   "source": [
    "for i in range(len(noised)):\n",
    "    filter_image = filter(noised[i])\n",
    "    cv2.imwrite('/home/qwerty/filter_image_' + str(i) + '.png', filter_image)"
   ]
  },
  {
   "cell_type": "code",
   "execution_count": null,
   "metadata": {},
   "outputs": [],
   "source": []
  }
 ],
 "metadata": {
  "kernelspec": {
   "display_name": "Python 3",
   "language": "python",
   "name": "python3"
  },
  "language_info": {
   "codemirror_mode": {
    "name": "ipython",
    "version": 3
   },
   "file_extension": ".py",
   "mimetype": "text/x-python",
   "name": "python",
   "nbconvert_exporter": "python",
   "pygments_lexer": "ipython3",
   "version": "3.6.10"
  }
 },
 "nbformat": 4,
 "nbformat_minor": 4
}
