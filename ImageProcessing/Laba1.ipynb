{
 "cells": [
  {
   "cell_type": "code",
   "execution_count": 2,
   "metadata": {},
   "outputs": [],
   "source": [
    "import cv2 \n",
    "import numpy as np\n",
    "import matplotlib.pyplot as plt\n",
    "import scipy.optimize as so"
   ]
  },
  {
   "cell_type": "markdown",
   "metadata": {},
   "source": [
    "# Task 1"
   ]
  },
  {
   "cell_type": "code",
   "execution_count": 41,
   "metadata": {},
   "outputs": [],
   "source": [
    "'''\n",
    "    The function uses function f for each element of the image. Parameter params consist of the image as the 1st\n",
    "    value, and addition parameters as others.\n",
    "    params - [image, parameter1, ...]\n",
    "    f - function for working with image elements\n",
    "    returns an image which f has been applied to.\n",
    "'''\n",
    "def foreach(params, f):\n",
    "    result = np.zeros(params[0].shape)\n",
    "    image = params[0]\n",
    "    for i in range(image.shape[0]):\n",
    "        for j in range(image.shape[1]):\n",
    "            params[0] = image[i, j]\n",
    "            result[i, j] = f(params)\n",
    "    return result\n",
    "'''\n",
    "    The function makes processing with a threshold.\n",
    "    params - [element, threshold]\n",
    "    returns a new element after threshold\n",
    "'''\n",
    "def thresholdf(params):\n",
    "    element = params[0]\n",
    "    result = 0\n",
    "    threshold = params[1]\n",
    "    if element < threshold:\n",
    "        result = 0\n",
    "    else:\n",
    "        result = 255\n",
    "    return result\n",
    "'''\n",
    "    The function makes linear contrasting.\n",
    "    params - [element, a, b]\n",
    "    returns a new element after contrasting\n",
    "'''\n",
    "def contrast_linearf(params):\n",
    "    element = params[0]\n",
    "    a = params[1]\n",
    "    b = params[2]\n",
    "    return a * element + b\n",
    "'''\n",
    "    The function makes preparation. Values less a = 0. Values more b = 255. Other values = values from a line\n",
    "    between a, b\n",
    "    params - [element, a, b]\n",
    "    return a new element after preparation\n",
    "'''\n",
    "def preparation(params):\n",
    "    element = params[0]\n",
    "    a = params[1]\n",
    "    b = params[2]\n",
    "    if element < a:\n",
    "        return 0\n",
    "    elif element > b:\n",
    "        return 255\n",
    "    else:\n",
    "        return 255 * (element - a) / (b - a)"
   ]
  },
  {
   "cell_type": "code",
   "execution_count": 54,
   "metadata": {},
   "outputs": [],
   "source": [
    "# Reading the image\n",
    "image = cv2.imread('/home/qwerty/a.png', 0)"
   ]
  },
  {
   "cell_type": "code",
   "execution_count": 65,
   "metadata": {},
   "outputs": [
    {
     "data": {
      "text/plain": [
       "[<matplotlib.lines.Line2D at 0x7f99e9791f98>]"
      ]
     },
     "execution_count": 65,
     "metadata": {},
     "output_type": "execute_result"
    },
    {
     "data": {
      "image/png": "[encoded data removed]",
      "text/plain": [
       "<Figure size 432x288 with 1 Axes>"
      ]
     },
     "metadata": {
      "needs_background": "light"
     },
     "output_type": "display_data"
    }
   ],
   "source": [
    "# Making and plotting the histogram of the image\n",
    "hist = cv2.calcHist([image], [0], None, [256], [0, 256])\n",
    "plt.plot(hist)"
   ]
  },
  {
   "cell_type": "code",
   "execution_count": 56,
   "metadata": {},
   "outputs": [],
   "source": [
    "# Making threshold for the image\n",
    "threshold = 200\n",
    "threshold_image = foreach([image, threshold], thresholdf)"
   ]
  },
  {
   "cell_type": "markdown",
   "metadata": {},
   "source": [
    "# Task 2"
   ]
  },
  {
   "cell_type": "code",
   "execution_count": 57,
   "metadata": {},
   "outputs": [],
   "source": [
    "# f_min, f_max are found from the histogram. g_min, g_max are set next\n",
    "# Making linear contrasting\n",
    "f_min = 0\n",
    "f_max = 0\n",
    "g_min = 0\n",
    "g_max = 64\n",
    "\n",
    "for i in range(hist.shape[0]):\n",
    "    if hist[i] != 0:\n",
    "        f_min = i\n",
    "        break\n",
    "\n",
    "for i in range(hist.shape[0] - 1, -1, -1):\n",
    "    if hist[i] != 0:\n",
    "        f_max = i\n",
    "        break\n",
    "a = (g_max - g_min) / (f_max - f_min)\n",
    "b = (g_min * f_max - g_max * f_min) / (f_max - f_min)\n",
    "c_image = foreach([image, a, b], contrast_linearf)"
   ]
  },
  {
   "cell_type": "markdown",
   "metadata": {},
   "source": [
    "# Task 3"
   ]
  },
  {
   "cell_type": "code",
   "execution_count": 58,
   "metadata": {},
   "outputs": [],
   "source": [
    "# Making preparation\n",
    "# a, b are set next\n",
    "a = 80\n",
    "b = 205\n",
    "\n",
    "prepared_image = foreach([image, a, b], preparation)"
   ]
  },
  {
   "cell_type": "code",
   "execution_count": null,
   "metadata": {},
   "outputs": [],
   "source": []
  },
  {
   "cell_type": "code",
   "execution_count": null,
   "metadata": {},
   "outputs": [],
   "source": []
  },
  {
   "cell_type": "code",
   "execution_count": null,
   "metadata": {},
   "outputs": [],
   "source": []
  }
 ],
 "metadata": {
  "kernelspec": {
   "display_name": "Python 3",
   "language": "python",
   "name": "python3"
  },
  "language_info": {
   "codemirror_mode": {
    "name": "ipython",
    "version": 3
   },
   "file_extension": ".py",
   "mimetype": "text/x-python",
   "name": "python",
   "nbconvert_exporter": "python",
   "pygments_lexer": "ipython3",
   "version": "3.6.10"
  }
 },
 "nbformat": 4,
 "nbformat_minor": 4
}
