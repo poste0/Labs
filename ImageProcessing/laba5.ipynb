{
 "cells": [
  {
   "cell_type": "code",
   "execution_count": 1,
   "metadata": {},
   "outputs": [],
   "source": [
    "import cv2\n",
    "import numpy as np\n",
    "import random"
   ]
  },
  {
   "cell_type": "code",
   "execution_count": 2,
   "metadata": {},
   "outputs": [],
   "source": [
    "def make_noise(image, prob):\n",
    "    r, g, b = cv2.split(image)\n",
    "    def make_noise_channel(channel):\n",
    "        channel_prob = prob / image.shape[2]\n",
    "        result_channel = channel.copy()\n",
    "        for i in range(channel.shape[0]):\n",
    "            for j in range(channel.shape[1]):\n",
    "                rand = np.random.randint(0, 101)\n",
    "                if rand <= channel_prob:\n",
    "                    result_channel[i, j] = np.random.randint(0, 256)\n",
    "        return result_channel\n",
    "    \n",
    "    result_r = make_noise_channel(r)\n",
    "    result_g = make_noise_channel(g)\n",
    "    result_b = make_noise_channel(b)\n",
    "    \n",
    "    result = cv2.merge((result_r, result_g, result_b))\n",
    "    \n",
    "    return result\n",
    "\n",
    "def get_error(image, filtered_image):\n",
    "    difference = (image - filtered_image) ** 2\n",
    "    \n",
    "    return (np.sum(difference) / (image.shape[0] * image.shape[1])) ** 0.5\n",
    "\n",
    "def filter_image(image, mask, rang, suffix):\n",
    "    def filter_channel(channel):\n",
    "        def filter_elem(i, j):\n",
    "            image_mask_value_mult = []\n",
    "            for k in range(mask.shape[0]):\n",
    "                for l in range(mask.shape[1]):\n",
    "                    for m in range(mask[k, l]):\n",
    "                        image_mask_value_mult.append(channel[i - offset + k, j - offset + l])\n",
    "            \n",
    "            return np.sort(np.array(image_mask_value_mult))[rang]\n",
    "    \n",
    "        copy_channel = channel.copy()\n",
    "        offset = int((mask.shape[0] - 1) / 2)\n",
    "        for i in range(offset, channel.shape[0] - offset):\n",
    "            for j in range(offset, channel.shape[1] - offset):\n",
    "                copy_channel[i, j] = filter_elem(i, j)\n",
    "        return copy_channel\n",
    "    \n",
    "    r, g, b = cv2.split(image)\n",
    "    \n",
    "    cv2.imwrite(path + suffix + 'r.jpg', r)\n",
    "    cv2.imwrite(path + suffix + 'g.jpg', g)\n",
    "    cv2.imwrite(path + suffix + 'b.jpg', b)\n",
    "    \n",
    "    r_filtered = filter_channel(r)\n",
    "    g_filtered = filter_channel(g)\n",
    "    b_filtered = filter_channel(b)\n",
    "    \n",
    "    cv2.imwrite(path + suffix + 'r_filtered.jpg', r_filtered)\n",
    "    cv2.imwrite(path + suffix + 'g_filtered.jpg', g_filtered)\n",
    "    cv2.imwrite(path + suffix + 'b_filtered.jpg', b_filtered)\n",
    "    \n",
    "    result = cv2.merge((r_filtered, g_filtered, b_filtered))\n",
    "    \n",
    "    return result\n"
   ]
  },
  {
   "cell_type": "code",
   "execution_count": 3,
   "metadata": {},
   "outputs": [
    {
     "data": {
      "text/plain": [
       "True"
      ]
     },
     "execution_count": 3,
     "metadata": {},
     "output_type": "execute_result"
    }
   ],
   "source": [
    "mask = np.array([[2, 1, 2],\n",
    "                 [1, 1, 1],\n",
    "                 [2, 1, 2]])\n",
    "path = '/home/sergei/'\n",
    "image = cv2.imread(path + 'bicycle.jpg')\n",
    "noise_image = make_noise(image, 9)\n",
    "cv2.imwrite(path + 'bicycle_noise.jpg', noise_image)"
   ]
  },
  {
   "cell_type": "markdown",
   "metadata": {},
   "source": [
    "# Осуществить взвешенную медианную фильтрацию входного изображения, совпадающего с одним из тестовых изображений лабораторной работы 1, соответствующим окном. Виды окон по вариантам приведены ниже"
   ]
  },
  {
   "cell_type": "code",
   "execution_count": 4,
   "metadata": {},
   "outputs": [
    {
     "data": {
      "text/plain": [
       "True"
      ]
     },
     "execution_count": 4,
     "metadata": {},
     "output_type": "execute_result"
    }
   ],
   "source": [
    "image_filtered_median = filter_image(noise_image, mask, 4, 'median')\n",
    "cv2.imwrite(path + 'bicycle_filter_median.jpg', image_filtered_median)"
   ]
  },
  {
   "cell_type": "markdown",
   "metadata": {},
   "source": [
    "# Осуществить взвешенную ранговую фильтрацию входного изображения соответствующим окном со значением ранга 1, N, r, где N = S∙S, где S – размер маски, r – экспериментально выбранный ранг. Виды окон по вариантам приведены ниже."
   ]
  },
  {
   "cell_type": "code",
   "execution_count": 5,
   "metadata": {},
   "outputs": [
    {
     "data": {
      "text/plain": [
       "True"
      ]
     },
     "execution_count": 5,
     "metadata": {},
     "output_type": "execute_result"
    }
   ],
   "source": [
    "image_filtered_one = filter_image(noise_image, mask, 1, 'one')\n",
    "cv2.imwrite(path + 'bicycle_filter_one.jpg', image_filtered_one)"
   ]
  },
  {
   "cell_type": "code",
   "execution_count": 6,
   "metadata": {},
   "outputs": [
    {
     "data": {
      "text/plain": [
       "True"
      ]
     },
     "execution_count": 6,
     "metadata": {},
     "output_type": "execute_result"
    }
   ],
   "source": [
    "image_filtered_N = filter_image(noise_image, mask, 8, 'N')\n",
    "cv2.imwrite(path + 'bicycle_filter_N.jpg', image_filtered_N)"
   ]
  },
  {
   "cell_type": "code",
   "execution_count": 7,
   "metadata": {},
   "outputs": [
    {
     "data": {
      "text/plain": [
       "True"
      ]
     },
     "execution_count": 7,
     "metadata": {},
     "output_type": "execute_result"
    }
   ],
   "source": [
    "image_filtered_s = filter_image(noise_image, mask, 6, 's')\n",
    "cv2.imwrite(path + 'bicycle_filter_s.jpg', image_filtered_s)"
   ]
  },
  {
   "cell_type": "markdown",
   "metadata": {},
   "source": [
    "# Вычислить ошибку и сравнить результат с результатом лабораторной работы 1 соответствующего входного изображения."
   ]
  },
  {
   "cell_type": "code",
   "execution_count": 12,
   "metadata": {},
   "outputs": [
    {
     "name": "stdout",
     "output_type": "stream",
     "text": [
      "Error for median 14.470466290574974\n"
     ]
    }
   ],
   "source": [
    "print('Error for median {}'.format(get_error(image, image_filtered_median)))"
   ]
  },
  {
   "cell_type": "code",
   "execution_count": 13,
   "metadata": {},
   "outputs": [
    {
     "name": "stdout",
     "output_type": "stream",
     "text": [
      "Error for rang = 1 15.882185911685246\n"
     ]
    }
   ],
   "source": [
    "print('Error for rang = 1 {}'.format(get_error(image, image_filtered_one)))"
   ]
  },
  {
   "cell_type": "code",
   "execution_count": 14,
   "metadata": {},
   "outputs": [
    {
     "name": "stdout",
     "output_type": "stream",
     "text": [
      "Error for rang = N 14.46403189524507\n"
     ]
    }
   ],
   "source": [
    "print('Error for rang = N {}'.format(get_error(image, image_filtered_N)))"
   ]
  },
  {
   "cell_type": "code",
   "execution_count": 15,
   "metadata": {},
   "outputs": [
    {
     "name": "stdout",
     "output_type": "stream",
     "text": [
      "Error for rang = r 13.453406012357366\n"
     ]
    }
   ],
   "source": [
    "print('Error for rang = r {}'.format(get_error(image, image_filtered_s)))"
   ]
  },
  {
   "cell_type": "code",
   "execution_count": null,
   "metadata": {},
   "outputs": [],
   "source": []
  },
  {
   "cell_type": "code",
   "execution_count": null,
   "metadata": {},
   "outputs": [],
   "source": []
  }
 ],
 "metadata": {
  "kernelspec": {
   "display_name": "Python 3",
   "language": "python",
   "name": "python3"
  },
  "language_info": {
   "codemirror_mode": {
    "name": "ipython",
    "version": 3
   },
   "file_extension": ".py",
   "mimetype": "text/x-python",
   "name": "python",
   "nbconvert_exporter": "python",
   "pygments_lexer": "ipython3",
   "version": "3.7.5"
  }
 },
 "nbformat": 4,
 "nbformat_minor": 4
}
