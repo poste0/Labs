{
 "cells": [
  {
   "cell_type": "code",
   "execution_count": 1,
   "metadata": {},
   "outputs": [],
   "source": [
    "import numpy as np\n",
    "import matplotlib.pyplot as plt\n",
    "import cv2"
   ]
  },
  {
   "cell_type": "code",
   "execution_count": 138,
   "metadata": {},
   "outputs": [],
   "source": [
    "path = '/home/sergei/'\n",
    "image = cv2.imread(path + 'img1.jpg', 0)"
   ]
  },
  {
   "cell_type": "code",
   "execution_count": 139,
   "metadata": {},
   "outputs": [
    {
     "data": {
      "text/plain": [
       "array([[231, 233, 234, ..., 221, 221, 219],\n",
       "       [230, 231, 233, ..., 226, 226, 224],\n",
       "       [228, 229, 231, ..., 227, 228, 226],\n",
       "       ...,\n",
       "       [207, 207, 206, ..., 197, 198, 199],\n",
       "       [208, 207, 206, ..., 195, 197, 198],\n",
       "       [211, 210, 208, ..., 196, 196, 196]], dtype=uint8)"
      ]
     },
     "execution_count": 139,
     "metadata": {},
     "output_type": "execute_result"
    }
   ],
   "source": [
    "image"
   ]
  },
  {
   "cell_type": "markdown",
   "metadata": {},
   "source": [
    "# Осуществить выделение контуров на входном изображении методом простого градиента."
   ]
  },
  {
   "cell_type": "code",
   "execution_count": 172,
   "metadata": {},
   "outputs": [],
   "source": [
    "def grad(image):\n",
    "    shape = image.shape\n",
    "    result = image.copy()\n",
    "    result[1:, 1:] = ((image[1:, 1:] - image[1:, :shape[1] - 1]) ** 2 + (image[1:, 1:] - image[:shape[0] - 1, 1:]) ** 2) \n",
    "    result[0, :] = result[1, :]\n",
    "    result[:, 0] = result[:, 1]\n",
    "    result = result ** 0.5\n",
    "    \n",
    "    return np.around(result).astype('uint8')\n",
    "\n",
    "def grad_iter(image):\n",
    "    shape = image.shape\n",
    "    result = image.copy()\n",
    "    for i in range(1, shape[0]):\n",
    "        for j in range(1, shape[1]):\n",
    "            result[i, j] = np.abs((image[i, j] - image[i - 1, j]))\n",
    "            result[i, j] += np.abs(image[i, j] - image[i, j - 1])\n",
    "            result = result\n",
    "    return np.around(result)\n",
    "            "
   ]
  },
  {
   "cell_type": "code",
   "execution_count": 173,
   "metadata": {},
   "outputs": [],
   "source": [
    "image_grad = grad(image)"
   ]
  },
  {
   "cell_type": "code",
   "execution_count": 174,
   "metadata": {},
   "outputs": [
    {
     "data": {
      "text/plain": [
       "True"
      ]
     },
     "execution_count": 174,
     "metadata": {},
     "output_type": "execute_result"
    }
   ],
   "source": [
    "cv2.imwrite(path + 'grad.jpg', image_grad)"
   ]
  },
  {
   "cell_type": "code",
   "execution_count": 175,
   "metadata": {},
   "outputs": [
    {
     "data": {
      "text/plain": [
       "[<matplotlib.lines.Line2D at 0x7feff26c5210>]"
      ]
     },
     "execution_count": 175,
     "metadata": {},
     "output_type": "execute_result"
    },
    {
     "data": {
      "image/png": "[encoded data removed]",
      "text/plain": [
       "<Figure size 432x288 with 1 Axes>"
      ]
     },
     "metadata": {
      "needs_background": "light"
     },
     "output_type": "display_data"
    }
   ],
   "source": [
    "hist = cv2.calcHist([image_grad], [0], None, [256], [0, 256])\n",
    "plt.plot(hist)"
   ]
  },
  {
   "cell_type": "code",
   "execution_count": 176,
   "metadata": {},
   "outputs": [],
   "source": [
    "image_grad_threshold = image_grad.copy()\n",
    "image_grad_threshold[image_grad < 8] = 0\n",
    "image_grad_threshold[image_grad >= 8] = 255"
   ]
  },
  {
   "cell_type": "code",
   "execution_count": 177,
   "metadata": {},
   "outputs": [
    {
     "data": {
      "text/plain": [
       "True"
      ]
     },
     "execution_count": 177,
     "metadata": {},
     "output_type": "execute_result"
    }
   ],
   "source": [
    "cv2.imwrite(path + 'grad_threshold.jpg', image_grad_threshold)"
   ]
  },
  {
   "cell_type": "markdown",
   "metadata": {},
   "source": [
    "# Осуществить выделение контуров методами, указанными в задании."
   ]
  },
  {
   "cell_type": "markdown",
   "metadata": {},
   "source": [
    "# Оператор Собела"
   ]
  },
  {
   "cell_type": "code",
   "execution_count": 220,
   "metadata": {},
   "outputs": [],
   "source": [
    "def sobel(image):\n",
    "    shape = image.shape\n",
    "    result = image.copy()\n",
    "    for i in range(1, shape[0] - 1):\n",
    "        for j in range(1, shape[1] - 1):\n",
    "            result[i, j] = np.abs(image[i + 1, j - 1] + 2 * image[i + 1, j] + image[i + 1, j + 1] - image[i - 1, j - 1] - 2 * image[i - 1, j] - image[i - 1, j + 1])\n",
    "            result[i, j] += np.abs((image[i - 1, j + 1] + 2 * image[i, j + 1] + image[i + 1, j + 1] - image[i - 1, j - 1] - 2 * image[i, j - 1] - image[i + 1, j - 1]))\n",
    "            result = result\n",
    "    return np.around(result)\n",
    "\n",
    "def sobel_i(image):\n",
    "    shape = image.shape\n",
    "    result = image.copy()\n",
    "    result[1:-1, 1:-1] = np.power((image[2:, :shape[1] - 2] + 2 * image[2:, 1:shape[1] - 1] + image[2:, 2:] - image[:shape[0] - 2, :shape[1] - 2] - 2 * image[:shape[0] - 2, 1:shape[1] - 1] - image[:shape[0] - 2, 2:]), 2)\n",
    "    result[1:-1, 1:-1] += np.power(((image[:shape[0] - 2, 2:] + 2 * image[1:shape[0] - 1, 2:] + image[2:shape[0], 2:] - image[:shape[0] - 2, :shape[1] - 2] - 2 * image[1:shape[0] - 1, :shape[1] - 2] - image[2:shape[0], :shape[1] - 2])), 2)\n",
    "    result[1:-1, 1:-1] = np.sqrt(result[1:-1, 1:-1])\n",
    "    \n",
    "    return np.around(result).astype('uint8')"
   ]
  },
  {
   "cell_type": "code",
   "execution_count": 221,
   "metadata": {},
   "outputs": [],
   "source": [
    "sobel_image = sobel_i(image)"
   ]
  },
  {
   "cell_type": "code",
   "execution_count": 222,
   "metadata": {},
   "outputs": [
    {
     "data": {
      "text/plain": [
       "True"
      ]
     },
     "execution_count": 222,
     "metadata": {},
     "output_type": "execute_result"
    }
   ],
   "source": [
    "cv2.imwrite(path + 'sobel.jpg', sobel_image)"
   ]
  },
  {
   "cell_type": "code",
   "execution_count": 223,
   "metadata": {},
   "outputs": [
    {
     "data": {
      "text/plain": [
       "[<matplotlib.lines.Line2D at 0x7feff21c1b10>]"
      ]
     },
     "execution_count": 223,
     "metadata": {},
     "output_type": "execute_result"
    },
    {
     "data": {
      "image/png": "[encoded data removed]",
      "text/plain": [
       "<Figure size 432x288 with 1 Axes>"
      ]
     },
     "metadata": {
      "needs_background": "light"
     },
     "output_type": "display_data"
    }
   ],
   "source": [
    "hist = cv2.calcHist([sobel_image], [0], None, [256], [0, 256])\n",
    "plt.plot(hist)"
   ]
  },
  {
   "cell_type": "code",
   "execution_count": 208,
   "metadata": {},
   "outputs": [],
   "source": [
    "image_sobel_threshold = sobel_image.copy()\n",
    "image_sobel_threshold[sobel_image < 20] = 0\n",
    "image_sobel_threshold[sobel_image >= 20] = 255"
   ]
  },
  {
   "cell_type": "code",
   "execution_count": 209,
   "metadata": {},
   "outputs": [
    {
     "data": {
      "text/plain": [
       "True"
      ]
     },
     "execution_count": 209,
     "metadata": {},
     "output_type": "execute_result"
    }
   ],
   "source": [
    "cv2.imwrite(path + 'sobel_threshold.jpg', image_sobel_threshold)"
   ]
  },
  {
   "cell_type": "code",
   "execution_count": null,
   "metadata": {},
   "outputs": [],
   "source": []
  },
  {
   "cell_type": "code",
   "execution_count": null,
   "metadata": {},
   "outputs": [],
   "source": []
  }
 ],
 "metadata": {
  "kernelspec": {
   "display_name": "Python 3",
   "language": "python",
   "name": "python3"
  },
  "language_info": {
   "codemirror_mode": {
    "name": "ipython",
    "version": 3
   },
   "file_extension": ".py",
   "mimetype": "text/x-python",
   "name": "python",
   "nbconvert_exporter": "python",
   "pygments_lexer": "ipython3",
   "version": "3.7.5"
  }
 },
 "nbformat": 4,
 "nbformat_minor": 4
}
