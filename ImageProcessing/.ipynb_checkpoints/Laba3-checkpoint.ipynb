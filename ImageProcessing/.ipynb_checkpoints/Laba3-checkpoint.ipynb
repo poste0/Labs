{
 "cells": [
  {
   "cell_type": "code",
   "execution_count": 39,
   "metadata": {},
   "outputs": [],
   "source": [
    "import numpy as np\n",
    "import matplotlib.pyplot as plt\n",
    "import cv2\n",
    "from scipy import signal"
   ]
  },
  {
   "cell_type": "code",
   "execution_count": 40,
   "metadata": {},
   "outputs": [],
   "source": [
    "path = '/home/sergei/Laba4/'\n",
    "image = cv2.imread(path + 'img1.png', 0)"
   ]
  },
  {
   "cell_type": "markdown",
   "metadata": {},
   "source": [
    "# Осуществить выделение контуров на входном изображении методом простого градиента."
   ]
  },
  {
   "cell_type": "code",
   "execution_count": 41,
   "metadata": {},
   "outputs": [],
   "source": [
    "def gradient(image):\n",
    "    s1 = convol_image(image, np.array([[-1], [1]]))\n",
    "    s2 = convol_image(image, np.array([[-1, 1]]))\n",
    "    \n",
    "    return np.abs(s1) + np.abs(s2)\n",
    "\n",
    "def convol_image(image, mask):\n",
    "    offset_x = int(mask.shape[0] / 2)\n",
    "    offset_y = int(mask.shape[1] / 2)\n",
    "    def conv_elem(i, j):\n",
    "        result = 0\n",
    "        for k in range(mask.shape[0]):\n",
    "            for l in range(mask.shape[1]):\n",
    "                result += image[i - offset_x + k, j - offset_y + l] * mask[k, l]\n",
    "        return result\n",
    "    result = np.zeros(image.shape)\n",
    "    for i in range(offset_x, result.shape[0] - offset_x):\n",
    "        for j in range(offset_y, result.shape[1] - offset_y):\n",
    "            result[i, j] = conv_elem(i, j)\n",
    "    return result\n",
    "\n",
    "def plot_histogram(image):\n",
    "    hist = cv2.calcHist([image.astype('uint8')], [0], None, [256], [0, 256])\n",
    "    plt.plot(hist)\n",
    "    \n",
    "def process_threshold(image, threshold):\n",
    "    image_threshold = image.copy()\n",
    "    image_threshold[image < threshold] = 0\n",
    "    image_threshold[image >= threshold] = 255\n",
    "    \n",
    "    return image_threshold"
   ]
  },
  {
   "cell_type": "code",
   "execution_count": 42,
   "metadata": {},
   "outputs": [],
   "source": [
    "image_grad = gradient(image)"
   ]
  },
  {
   "cell_type": "code",
   "execution_count": 43,
   "metadata": {},
   "outputs": [
    {
     "data": {
      "text/plain": [
       "True"
      ]
     },
     "execution_count": 43,
     "metadata": {},
     "output_type": "execute_result"
    }
   ],
   "source": [
    "cv2.imwrite(path + 'gradient.jpg', image_grad)"
   ]
  },
  {
   "cell_type": "code",
   "execution_count": 44,
   "metadata": {},
   "outputs": [
    {
     "data": {
      "image/png": "[encoded data removed]",
      "text/plain": [
       "<Figure size 432x288 with 1 Axes>"
      ]
     },
     "metadata": {
      "needs_background": "light"
     },
     "output_type": "display_data"
    }
   ],
   "source": [
    "plot_histogram(image_grad)"
   ]
  },
  {
   "cell_type": "code",
   "execution_count": 45,
   "metadata": {},
   "outputs": [],
   "source": [
    "image_grad_threshold = process_threshold(image_grad, 15)"
   ]
  },
  {
   "cell_type": "code",
   "execution_count": 46,
   "metadata": {},
   "outputs": [
    {
     "data": {
      "text/plain": [
       "True"
      ]
     },
     "execution_count": 46,
     "metadata": {},
     "output_type": "execute_result"
    }
   ],
   "source": [
    "cv2.imwrite(path + 'gradient_threshold.jpg', image_grad_threshold)"
   ]
  },
  {
   "cell_type": "markdown",
   "metadata": {},
   "source": [
    "# Осуществить выделение контуров методами, указанными в задании."
   ]
  },
  {
   "cell_type": "markdown",
   "metadata": {},
   "source": [
    "# Оператор Собела"
   ]
  },
  {
   "cell_type": "code",
   "execution_count": 47,
   "metadata": {},
   "outputs": [],
   "source": [
    "def sobel(image):\n",
    "    s1 = convol_image(image, np.array([[-1, -2, -1], [0, 0, 0], [1, 2, 1]]))\n",
    "    s2 = convol_image(image, np.array([[-1, 0, 1], [-2, 0, 2], [-1, 0, 1]]))\n",
    "    \n",
    "    return np.abs(s1) + np.abs(s2)"
   ]
  },
  {
   "cell_type": "code",
   "execution_count": 48,
   "metadata": {},
   "outputs": [],
   "source": [
    "sobel_image = sobel(image)"
   ]
  },
  {
   "cell_type": "code",
   "execution_count": 49,
   "metadata": {},
   "outputs": [
    {
     "data": {
      "text/plain": [
       "True"
      ]
     },
     "execution_count": 49,
     "metadata": {},
     "output_type": "execute_result"
    }
   ],
   "source": [
    "cv2.imwrite(path + 'sobel.jpg', sobel_image)"
   ]
  },
  {
   "cell_type": "code",
   "execution_count": 50,
   "metadata": {},
   "outputs": [
    {
     "data": {
      "image/png": "[encoded data removed]",
      "text/plain": [
       "<Figure size 432x288 with 1 Axes>"
      ]
     },
     "metadata": {
      "needs_background": "light"
     },
     "output_type": "display_data"
    }
   ],
   "source": [
    "plot_histogram(sobel_image)"
   ]
  },
  {
   "cell_type": "code",
   "execution_count": 51,
   "metadata": {},
   "outputs": [],
   "source": [
    "image_sobel_threshold = process_threshold(sobel_image, 100)"
   ]
  },
  {
   "cell_type": "code",
   "execution_count": 52,
   "metadata": {},
   "outputs": [
    {
     "data": {
      "text/plain": [
       "True"
      ]
     },
     "execution_count": 52,
     "metadata": {},
     "output_type": "execute_result"
    }
   ],
   "source": [
    "cv2.imwrite(path + 'sobel_threshold.jpg', image_sobel_threshold)"
   ]
  },
  {
   "cell_type": "markdown",
   "metadata": {},
   "source": [
    "# Дифференциальный метод 1-го порядка. Аппроксимация поверхностью 1-го порядка, окно 3x3"
   ]
  },
  {
   "cell_type": "code",
   "execution_count": 53,
   "metadata": {},
   "outputs": [],
   "source": [
    "def diff_method(image):\n",
    "    mask_1 = np.array([[-1, -1, -1],\n",
    "                       [0, 0, 0],\n",
    "                       [1, 1, 1]])\n",
    "    mask_2 = np.array([[-1, 0, 1],\n",
    "                       [-1, 0, 1],\n",
    "                       [-1, 0, 1]])\n",
    "    s1 = convol_image(image, mask_1)\n",
    "    s2 = convol_image(image, mask_2)\n",
    "    \n",
    "    return np.abs(s1) + np.abs(s2)"
   ]
  },
  {
   "cell_type": "code",
   "execution_count": 54,
   "metadata": {},
   "outputs": [],
   "source": [
    "diff_image = diff_method(image)"
   ]
  },
  {
   "cell_type": "code",
   "execution_count": 55,
   "metadata": {},
   "outputs": [
    {
     "data": {
      "text/plain": [
       "True"
      ]
     },
     "execution_count": 55,
     "metadata": {},
     "output_type": "execute_result"
    }
   ],
   "source": [
    "cv2.imwrite(path + 'diff_image.jpg', diff_image)"
   ]
  },
  {
   "cell_type": "code",
   "execution_count": 56,
   "metadata": {},
   "outputs": [
    {
     "data": {
      "image/png": "[encoded data removed]",
      "text/plain": [
       "<Figure size 432x288 with 1 Axes>"
      ]
     },
     "metadata": {
      "needs_background": "light"
     },
     "output_type": "display_data"
    }
   ],
   "source": [
    "plot_histogram(diff_image)"
   ]
  },
  {
   "cell_type": "code",
   "execution_count": 57,
   "metadata": {},
   "outputs": [],
   "source": [
    "diff_image_threshold = process_threshold(diff_image, 100)"
   ]
  },
  {
   "cell_type": "code",
   "execution_count": 58,
   "metadata": {},
   "outputs": [
    {
     "data": {
      "text/plain": [
       "True"
      ]
     },
     "execution_count": 58,
     "metadata": {},
     "output_type": "execute_result"
    }
   ],
   "source": [
    "cv2.imwrite(path + 'diff_image_threshold.jpg', diff_image_threshold)"
   ]
  },
  {
   "cell_type": "code",
   "execution_count": null,
   "metadata": {},
   "outputs": [],
   "source": []
  },
  {
   "cell_type": "code",
   "execution_count": null,
   "metadata": {},
   "outputs": [],
   "source": []
  }
 ],
 "metadata": {
  "kernelspec": {
   "display_name": "Python 3",
   "language": "python",
   "name": "python3"
  },
  "language_info": {
   "codemirror_mode": {
    "name": "ipython",
    "version": 3
   },
   "file_extension": ".py",
   "mimetype": "text/x-python",
   "name": "python",
   "nbconvert_exporter": "python",
   "pygments_lexer": "ipython3",
   "version": "3.7.5"
  }
 },
 "nbformat": 4,
 "nbformat_minor": 4
}
