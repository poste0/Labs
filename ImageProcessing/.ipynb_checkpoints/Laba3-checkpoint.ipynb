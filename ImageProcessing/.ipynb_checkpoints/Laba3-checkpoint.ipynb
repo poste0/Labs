{
 "cells": [
  {
   "cell_type": "code",
   "execution_count": 1,
   "metadata": {},
   "outputs": [],
   "source": [
    "import numpy as np\n",
    "import matplotlib.pyplot as plt\n",
    "import cv2\n",
    "from scipy import signal"
   ]
  },
  {
   "cell_type": "code",
   "execution_count": 2,
   "metadata": {},
   "outputs": [],
   "source": [
    "path = '/home/sergei/'\n",
    "image = cv2.imread(path + 'img4.png', 0)"
   ]
  },
  {
   "cell_type": "markdown",
   "metadata": {},
   "source": [
    "# Осуществить выделение контуров на входном изображении методом простого градиента."
   ]
  },
  {
   "cell_type": "code",
   "execution_count": 3,
   "metadata": {},
   "outputs": [],
   "source": [
    "def grad(image):\n",
    "    shape = image.shape\n",
    "    result = image.copy()\n",
    "    result[1:, 1:] = ((image[1:, 1:] - image[1:, :shape[1] - 1]) ** 2 + (image[1:, 1:] - image[:shape[0] - 1, 1:]) ** 2) \n",
    "    result[0, :] = result[1, :]\n",
    "    result[:, 0] = result[:, 1]\n",
    "    result = result ** 0.5\n",
    "    \n",
    "    return np.around(result).astype('uint8')\n",
    "\n",
    "def grad_iter(image):\n",
    "    shape = image.shape\n",
    "    result = image.copy()\n",
    "    for i in range(1, shape[0]):\n",
    "        for j in range(1, shape[1]):\n",
    "            result[i, j] = np.abs((image[i, j] - image[i - 1, j]))\n",
    "            result[i, j] += np.abs(image[i, j] - image[i, j - 1])\n",
    "    return result\n",
    "\n",
    "def grad_conv(image):\n",
    "    s1 = convol_image(image, np.array([[-1], [1]]))\n",
    "    s2 = convol_image(image, np.array([[-1, 1]]))\n",
    "    \n",
    "    return np.abs(s1) + np.abs(s2)\n",
    "\n",
    "def convol_image(image, mask):\n",
    "    offset_x = int(mask.shape[0] / 2)\n",
    "    offset_y = int(mask.shape[1] / 2)\n",
    "    def conv_elem(i, j):\n",
    "        result = 0\n",
    "        for k in range(mask.shape[0]):\n",
    "            for l in range(mask.shape[1]):\n",
    "                result += image[i - offset_x + k, j - offset_y + l] * mask[k, l]\n",
    "        return result\n",
    "    result = np.zeros(image.shape)\n",
    "    for i in range(offset_x, result.shape[0] - offset_x):\n",
    "        for j in range(offset_y, result.shape[1] - offset_y):\n",
    "            result[i, j] = conv_elem(i, j)\n",
    "    return result\n",
    "\n",
    "def plot_histogram(image):\n",
    "    hist = cv2.calcHist([image.astype('uint8')], [0], None, [256], [0, 256])\n",
    "    plt.plot(hist)\n",
    "    \n",
    "def process_threshold(image, threshold):\n",
    "    image_threshold = image.copy()\n",
    "    image_threshold[image < threshold] = 0\n",
    "    image_threshold[image >= threshold] = 255\n",
    "    \n",
    "    return image_threshold"
   ]
  },
  {
   "cell_type": "code",
   "execution_count": 4,
   "metadata": {},
   "outputs": [],
   "source": [
    "image_grad = grad_conv(image)"
   ]
  },
  {
   "cell_type": "code",
   "execution_count": 5,
   "metadata": {},
   "outputs": [
    {
     "data": {
      "text/plain": [
       "True"
      ]
     },
     "execution_count": 5,
     "metadata": {},
     "output_type": "execute_result"
    }
   ],
   "source": [
    "cv2.imwrite(path + 'grad.jpg', image_grad)"
   ]
  },
  {
   "cell_type": "code",
   "execution_count": 6,
   "metadata": {},
   "outputs": [
    {
     "data": {
      "image/png": "[encoded data removed]",
      "text/plain": [
       "<Figure size 432x288 with 1 Axes>"
      ]
     },
     "metadata": {
      "needs_background": "light"
     },
     "output_type": "display_data"
    }
   ],
   "source": [
    "plot_histogram(image_grad)"
   ]
  },
  {
   "cell_type": "code",
   "execution_count": 7,
   "metadata": {},
   "outputs": [],
   "source": [
    "image_grad_threshold = process_threshold(image_grad, 10)"
   ]
  },
  {
   "cell_type": "code",
   "execution_count": 8,
   "metadata": {},
   "outputs": [
    {
     "data": {
      "text/plain": [
       "True"
      ]
     },
     "execution_count": 8,
     "metadata": {},
     "output_type": "execute_result"
    }
   ],
   "source": [
    "cv2.imwrite(path + 'grad_threshold.jpg', image_grad_threshold)"
   ]
  },
  {
   "cell_type": "markdown",
   "metadata": {},
   "source": [
    "# Осуществить выделение контуров методами, указанными в задании."
   ]
  },
  {
   "cell_type": "markdown",
   "metadata": {},
   "source": [
    "# Оператор Собела"
   ]
  },
  {
   "cell_type": "code",
   "execution_count": 9,
   "metadata": {},
   "outputs": [],
   "source": [
    "def sobel(image):\n",
    "    shape = image.shape\n",
    "    result = image.copy()\n",
    "    for i in range(1, shape[0] - 1):\n",
    "        for j in range(1, shape[1] - 1):\n",
    "            result[i, j] = np.abs(image[i + 1, j - 1] + 2 * image[i + 1, j] + image[i + 1, j + 1] - image[i - 1, j - 1] - 2 * image[i - 1, j] - image[i - 1, j + 1])\n",
    "            result[i, j] += np.abs((image[i - 1, j + 1] + 2 * image[i, j + 1] + image[i + 1, j + 1] - image[i - 1, j - 1] - 2 * image[i, j - 1] - image[i + 1, j - 1]))\n",
    "            result = result\n",
    "    return np.around(result)\n",
    "\n",
    "def sobel_i(image):\n",
    "    shape = image.shape\n",
    "    s1 = image.copy()\n",
    "    s2 = image.copy()\n",
    "    s1[1:-1, 1:-1] = (image[2:, :shape[1] - 2] + 2 * image[2:, 1:shape[1] - 1] + image[2:, 2:] - image[:shape[0] - 2, :shape[1] - 2] - 2 * image[:shape[0] - 2, 1:shape[1] - 1] - image[:shape[0] - 2, 2:])\n",
    "    s2[1:-1, 1:-1] = ((image[:shape[0] - 2, 2:] + 2 * image[1:shape[0] - 1, 2:] + image[2:shape[0], 2:] - image[:shape[0] - 2, :shape[1] - 2] - 2 * image[1:shape[0] - 1, :shape[1] - 2] - image[2:shape[0], :shape[1] - 2]))\n",
    "    \n",
    "    return (np.abs(s1) + np.abs(s2)).astype('uint8')\n",
    "\n",
    "def sobel_conv(image):\n",
    "    s1 = convol_image(image, np.array([[-1, -2, -1], [0, 0, 0], [1, 2, 1]]))\n",
    "    s2 = convol_image(image, np.array([[-1, 0, 1], [-2, 0, 2], [-1, 0, 1]]))\n",
    "    \n",
    "    return np.abs(s1) + np.abs(s2)"
   ]
  },
  {
   "cell_type": "code",
   "execution_count": 10,
   "metadata": {},
   "outputs": [],
   "source": [
    "sobel_image = sobel_conv(image)"
   ]
  },
  {
   "cell_type": "code",
   "execution_count": 11,
   "metadata": {},
   "outputs": [
    {
     "data": {
      "text/plain": [
       "True"
      ]
     },
     "execution_count": 11,
     "metadata": {},
     "output_type": "execute_result"
    }
   ],
   "source": [
    "cv2.imwrite(path + 'sobel.jpg', sobel_image)"
   ]
  },
  {
   "cell_type": "code",
   "execution_count": 12,
   "metadata": {},
   "outputs": [
    {
     "data": {
      "image/png": "[encoded data removed]",
      "text/plain": [
       "<Figure size 432x288 with 1 Axes>"
      ]
     },
     "metadata": {
      "needs_background": "light"
     },
     "output_type": "display_data"
    }
   ],
   "source": [
    "plot_histogram(sobel_image)"
   ]
  },
  {
   "cell_type": "code",
   "execution_count": 13,
   "metadata": {},
   "outputs": [],
   "source": [
    "image_sobel_threshold = process_threshold(sobel_image, 100)"
   ]
  },
  {
   "cell_type": "code",
   "execution_count": 14,
   "metadata": {},
   "outputs": [
    {
     "data": {
      "text/plain": [
       "True"
      ]
     },
     "execution_count": 14,
     "metadata": {},
     "output_type": "execute_result"
    }
   ],
   "source": [
    "cv2.imwrite(path + 'sobel_threshold.jpg', image_sobel_threshold)"
   ]
  },
  {
   "cell_type": "markdown",
   "metadata": {},
   "source": [
    "# Дифференциальный метод 1-го порядка. Аппроксимация поверхностью 1-го порядка, окно 3x3"
   ]
  },
  {
   "cell_type": "code",
   "execution_count": 15,
   "metadata": {},
   "outputs": [],
   "source": [
    "def diff_method(image):\n",
    "    mask_1 = np.array([[-1, -1, -1],\n",
    "                       [0, 0, 0],\n",
    "                       [1, 1, 1]])\n",
    "    mask_2 = np.array([[-1, 0, 1],\n",
    "                       [-1, 0, 1],\n",
    "                       [-1, 0, 1]])\n",
    "    s1 = convol_image(image, mask_1)\n",
    "    s2 = convol_image(image, mask_2)\n",
    "    \n",
    "    return np.abs(s1) + np.abs(s2)"
   ]
  },
  {
   "cell_type": "code",
   "execution_count": 16,
   "metadata": {},
   "outputs": [],
   "source": [
    "diff_image = diff_method(image)"
   ]
  },
  {
   "cell_type": "code",
   "execution_count": 17,
   "metadata": {},
   "outputs": [
    {
     "data": {
      "text/plain": [
       "True"
      ]
     },
     "execution_count": 17,
     "metadata": {},
     "output_type": "execute_result"
    }
   ],
   "source": [
    "cv2.imwrite(path + 'diff_image.jpg', diff_image)"
   ]
  },
  {
   "cell_type": "code",
   "execution_count": 18,
   "metadata": {},
   "outputs": [
    {
     "data": {
      "image/png": "[encoded data removed]",
      "text/plain": [
       "<Figure size 432x288 with 1 Axes>"
      ]
     },
     "metadata": {
      "needs_background": "light"
     },
     "output_type": "display_data"
    }
   ],
   "source": [
    "plot_histogram(diff_image)"
   ]
  },
  {
   "cell_type": "code",
   "execution_count": 19,
   "metadata": {},
   "outputs": [],
   "source": [
    "diff_image_threshold = process_threshold(diff_image, 20)"
   ]
  },
  {
   "cell_type": "code",
   "execution_count": 20,
   "metadata": {},
   "outputs": [
    {
     "data": {
      "text/plain": [
       "True"
      ]
     },
     "execution_count": 20,
     "metadata": {},
     "output_type": "execute_result"
    }
   ],
   "source": [
    "cv2.imwrite(path + 'diff_threshold.jpg', diff_image_threshold)"
   ]
  },
  {
   "cell_type": "code",
   "execution_count": null,
   "metadata": {},
   "outputs": [],
   "source": []
  }
 ],
 "metadata": {
  "kernelspec": {
   "display_name": "Python 3",
   "language": "python",
   "name": "python3"
  },
  "language_info": {
   "codemirror_mode": {
    "name": "ipython",
    "version": 3
   },
   "file_extension": ".py",
   "mimetype": "text/x-python",
   "name": "python",
   "nbconvert_exporter": "python",
   "pygments_lexer": "ipython3",
   "version": "3.7.5"
  }
 },
 "nbformat": 4,
 "nbformat_minor": 4
}
