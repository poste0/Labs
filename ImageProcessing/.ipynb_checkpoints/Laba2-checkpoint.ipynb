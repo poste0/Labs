{
 "cells": [
  {
   "cell_type": "code",
   "execution_count": 1,
   "metadata": {},
   "outputs": [],
   "source": [
    "import numpy as np\n",
    "import cv2"
   ]
  },
  {
   "cell_type": "code",
   "execution_count": 3,
   "metadata": {},
   "outputs": [],
   "source": [
    "def erod(image, size, type_of_mask = 'square'):\n",
    "    assert type_of_mask == 'square' or type_of_mask == 'cross' or type_of_mask == 'vertline' or type_of_mask == 'horizline'\n",
    "    result = image.copy()\n",
    "    if type_of_mask == 'square':\n",
    "        result = erod_square(result, size)\n",
    "    elif type_of_mask == 'cross':\n",
    "        result = erod_cross(result, size)\n",
    "    elif type_of_mask == 'vertline':\n",
    "        result = erod_vert_line(result, size)\n",
    "    elif type_of_mask == 'horizline':\n",
    "        result = erod_horiz_line(result, size)\n",
    "    return result"
   ]
  },
  {
   "cell_type": "code",
   "execution_count": 4,
   "metadata": {},
   "outputs": [],
   "source": [
    "def process_operation(image, i, j, mask, operation):\n",
    "    offset = int(mask.shape[0] / 2)\n",
    "    mask_i = 0\n",
    "    mask_j = 0\n",
    "    right_border = offset\n",
    "    if mask.shape[0] % 2 != 0:\n",
    "        right_border += 1\n",
    "    if operation == 'erod':\n",
    "        for k in range(i - offset, i + right_border):\n",
    "            mask_j = 0\n",
    "            for l in range(j - offset, j + right_border):\n",
    "                if mask[mask_i, mask_j] == 1 and image[k, l] != 0:\n",
    "                    return 255\n",
    "                mask_j += 1\n",
    "            mask_i += 1\n",
    "    elif operation == 'dilat':\n",
    "        for k in range(i - offset, i + right_border):\n",
    "            mask_j = 0\n",
    "            for l in range(j - offset, j + right_border):\n",
    "                if mask[mask_i, mask_j] == 1 and image[k, l] == 0:\n",
    "                    return 0\n",
    "                mask_j += 1\n",
    "            mask_i += 1\n",
    "        return 255\n",
    "    return 0\n",
    "    "
   ]
  },
  {
   "cell_type": "code",
   "execution_count": 5,
   "metadata": {},
   "outputs": [],
   "source": [
    "def erod_square(image, size):\n",
    "    result = image.copy()\n",
    "    status = True\n",
    "    for i in range(size - 1, result.shape[0] - size):\n",
    "        for j in range(size - 1, result.shape[1] - size):\n",
    "            result[i, j] = process_operation(image, i, j, np.ones((size, size)), 'erod')\n",
    "    return result"
   ]
  },
  {
   "cell_type": "code",
   "execution_count": 6,
   "metadata": {},
   "outputs": [],
   "source": [
    "def erod_cross(image, size):\n",
    "    result = image.copy()\n",
    "    status = True\n",
    "    mask = create_cross(size)\n",
    "    for i in range(size - 1, result.shape[0] - size):\n",
    "        for j in range(size - 1, result.shape[1] - size):\n",
    "            result[i, j] = process_operation(image, i, j, mask, 'erod')\n",
    "    return result"
   ]
  },
  {
   "cell_type": "code",
   "execution_count": 50,
   "metadata": {},
   "outputs": [],
   "source": [
    "def create_cross(size):\n",
    "    mask = np.zeros((size, size))\n",
    "    center_point = int(size / 2)\n",
    "    for i in range(size):\n",
    "        mask[center_point, i] = 1\n",
    "        mask[i, center_point] = 1\n",
    "        \n",
    "    return mask"
   ]
  },
  {
   "cell_type": "code",
   "execution_count": 8,
   "metadata": {},
   "outputs": [],
   "source": [
    "def dilat(image, size, type_of_mask = 'square'):\n",
    "    assert type_of_mask == 'square' or type_of_mask == 'cross'\n",
    "    \n",
    "    result = image.copy()\n",
    "    if type_of_mask == 'square':\n",
    "        result = dilat_square(result, size)\n",
    "    elif type_of_mask == 'cross':\n",
    "        result = dilat_cross(result, size)\n",
    "    return result"
   ]
  },
  {
   "cell_type": "code",
   "execution_count": 9,
   "metadata": {},
   "outputs": [],
   "source": [
    "def dilat_square(image, size):\n",
    "    result = image.copy()\n",
    "    status = False\n",
    "    for i in range(size - 1, result.shape[0] - size):\n",
    "        for j in range(size - 1, result.shape[1] - size):\n",
    "            result[i, j] = process_operation(image, i, j, np.ones((size, size)), 'dilat')\n",
    "    return result"
   ]
  },
  {
   "cell_type": "code",
   "execution_count": 10,
   "metadata": {},
   "outputs": [],
   "source": [
    "def dilat_cross(image, size):\n",
    "    result = image.copy()\n",
    "    status = False\n",
    "    mask = create_cross(size)\n",
    "    for i in range(size - 1, result.shape[0] - size):\n",
    "        for j in range(size - 1, result.shape[1] - size):\n",
    "            result[i, j] = process_operation(image, i, j, mask, 'dilat')\n",
    "    return result"
   ]
  },
  {
   "cell_type": "code",
   "execution_count": 11,
   "metadata": {},
   "outputs": [],
   "source": [
    "def opening(image, size, type_of_mask = 'square'):\n",
    "    assert type_of_mask == 'square' or type_of_mask == 'cross'\n",
    "    \n",
    "    result = image.copy()\n",
    "    result = erod(result, size, type_of_mask)\n",
    "    result = dilat(result, size, type_of_mask)\n",
    "    return result"
   ]
  },
  {
   "cell_type": "code",
   "execution_count": 12,
   "metadata": {},
   "outputs": [],
   "source": [
    "def closing(image, size, type_of_mask = 'square'):\n",
    "    assert type_of_mask == 'square' or type_of_mask == 'cross'\n",
    "    \n",
    "    result = image.copy()\n",
    "    result = dilat(result, size, type_of_mask)\n",
    "    result = erod(result, size, type_of_mask)\n",
    "    return result"
   ]
  },
  {
   "cell_type": "code",
   "execution_count": 80,
   "metadata": {},
   "outputs": [],
   "source": [
    "def filter(image):\n",
    "    result = image.copy()\n",
    "    for i in range(3, image.shape[0] - 3):\n",
    "        for j in range(3, image.shape[1] - 3):\n",
    "            if image[i, j] == 0:\n",
    "                if image[i, j + 1] == 255 and image[i, j - 1] == 255 and image[i + 1, j] == 255 and image[i - 1, j] == 255:\n",
    "                    result[i, j] = 255\n",
    "            elif image[i, j] == 255:\n",
    "                if image[i, j + 1] == 0 and image[i, j - 1] == 0 and image[i + 1, j] == 0 and image[i - 1, j] == 0:\n",
    "                    result[i, j] = 0\n",
    "    return result"
   ]
  },
  {
   "cell_type": "code",
   "execution_count": 14,
   "metadata": {},
   "outputs": [],
   "source": [
    "def make_noise(image, prob):\n",
    "    result = image.copy()\n",
    "    for i in range(image.shape[0]):\n",
    "        for j in range(image.shape[1]):\n",
    "            p = np.random.randint(0, 101)\n",
    "            if p < prob :\n",
    "                p_color = np.random.randint(0, 101)\n",
    "                if p_color < 50:\n",
    "                    result[i, j] = 0\n",
    "                else:\n",
    "                    result[i, j] = 255\n",
    "    return result"
   ]
  },
  {
   "cell_type": "code",
   "execution_count": 15,
   "metadata": {},
   "outputs": [],
   "source": [
    "def circle(image, centre, radius):\n",
    "    circle = [centre, radius]\n",
    "    for i in range(circle[0][0] - circle[1], circle[0][0] + circle[1]):\n",
    "        for j in range(circle[0][1] - circle[1], circle[0][1] + circle[1]):\n",
    "            if (i - circle[0][0]) ** 2 + (j - circle[0][1]) ** 2 < circle[1] ** 2:\n",
    "                image[i, j] = 0"
   ]
  },
  {
   "cell_type": "code",
   "execution_count": 16,
   "metadata": {},
   "outputs": [],
   "source": [
    "def triangle(image, A, B, C):\n",
    "    triangle = [A, B, C]\n",
    "    x_a = triangle[0][1]\n",
    "    y_a = triangle[0][0]\n",
    "    x_b = triangle[1][1]\n",
    "    y_b = triangle[1][0]\n",
    "    x_c = triangle[2][1]\n",
    "    y_c = triangle[2][0]\n",
    "\n",
    "    left = triangle[0][0]\n",
    "    right = triangle[0][0]\n",
    "    above = triangle[0][1]\n",
    "    below = triangle[0][1]\n",
    "    for i in triangle:\n",
    "        if left > i[0]:\n",
    "            left = i[0]\n",
    "        if right < i[0]:\n",
    "            right = i[0]\n",
    "        if above > i[1]:\n",
    "            above = i[1]\n",
    "        if below < i[1]:\n",
    "            below = i[1]\n",
    "    for i in range(above, below):\n",
    "        for j in range(left, right):\n",
    "            coord_1 = (x_a - i) * (y_b - y_a) - (x_b - x_a) * (y_a - j)\n",
    "            coord_2 = (x_b - i) * (y_c - y_b) - (x_c - x_b) * (y_b - j)\n",
    "            coord_3 = (x_c - i) * (y_a - y_c) - (x_a - x_c) * (y_c - j)\n",
    "            if coord_1 >= 0 and coord_2 >= 0 and coord_3 >= 0:\n",
    "                image[i, j] = 0"
   ]
  },
  {
   "cell_type": "code",
   "execution_count": 17,
   "metadata": {},
   "outputs": [],
   "source": [
    "def square(image, A, B):\n",
    "    square = [A, B]\n",
    "    for i in range(square[0][0], square[1][0]):\n",
    "        for j in range(square[0][1], square[1][1]):\n",
    "            image[i, j] = 0"
   ]
  },
  {
   "cell_type": "code",
   "execution_count": 18,
   "metadata": {},
   "outputs": [],
   "source": [
    "def noise_reduce(image, filter_image, noised_image):\n",
    "    assert image.shape == filter_image.shape and image.shape == noised_image.shape\n",
    "    count_noised = 0\n",
    "    count_filtered = 0\n",
    "    for i in range(image.shape[0]):\n",
    "        for j in range(image.shape[1]):\n",
    "            if image[i, j] - noised_image[i, j] != 0:\n",
    "                count_noised += 1\n",
    "            if image[i, j] - filter_image[i, j] != 0:\n",
    "                count_filtered += 1\n",
    "    return count_noised / count_filtered"
   ]
  },
  {
   "cell_type": "markdown",
   "metadata": {},
   "source": [
    "# 1. Фильтрация бинарных изображений"
   ]
  },
  {
   "cell_type": "markdown",
   "metadata": {},
   "source": [
    "## 1.1. Создать или выбрать бинарное изображение с любым простым рисунком, состоящим из примитивных фигур (круги, квадраты, полигоны)."
   ]
  },
  {
   "cell_type": "code",
   "execution_count": 21,
   "metadata": {},
   "outputs": [],
   "source": [
    "image = np.zeros((500, 500))\n",
    "image.fill(255)"
   ]
  },
  {
   "cell_type": "code",
   "execution_count": 22,
   "metadata": {},
   "outputs": [],
   "source": [
    "square(image, (10, 10), (50, 50))\n",
    "triangle(image, (100, 100), (100, 200), (200, 100))\n",
    "circle(image, (400, 400), 40)\n",
    "circle(image, (200, 250), 1)"
   ]
  },
  {
   "cell_type": "code",
   "execution_count": 23,
   "metadata": {},
   "outputs": [
    {
     "data": {
      "text/plain": [
       "True"
      ]
     },
     "execution_count": 23,
     "metadata": {},
     "output_type": "execute_result"
    }
   ],
   "source": [
    "path = '/home/sergei/laba2/'\n",
    "cv2.imwrite(path + 'image.png', image)"
   ]
  },
  {
   "cell_type": "markdown",
   "metadata": {},
   "source": [
    "## 1.2. На полученное изображение наложить шум (1%, 2%, 5%, 10%, 20%, 50%)."
   ]
  },
  {
   "cell_type": "code",
   "execution_count": 24,
   "metadata": {},
   "outputs": [],
   "source": [
    "noised = []\n",
    "for i in [1, 2, 5, 10, 20, 50]:\n",
    "    noise = make_noise(image, i)\n",
    "    noised.append(noise)\n",
    "    cv2.imwrite(path + 'noise/image_noise_' + str(i) + '%' + '.png', noise)"
   ]
  },
  {
   "cell_type": "markdown",
   "metadata": {},
   "source": [
    "## 1.3. Выполнить операции эрозии и дилатации для различных структурных элементов (крест, квадрат). Визуально оценить результаты эрозии и дилатации."
   ]
  },
  {
   "cell_type": "code",
   "execution_count": 25,
   "metadata": {},
   "outputs": [],
   "source": [
    "for i in range(3, 6):\n",
    "    erod_image = erod(image, i, type_of_mask = 'square')\n",
    "    cv2.imwrite(path + 'erod/erod_image_square_size' + str(i) + '.png', erod_image)"
   ]
  },
  {
   "cell_type": "code",
   "execution_count": 26,
   "metadata": {},
   "outputs": [],
   "source": [
    "for i in range(3, 6):\n",
    "    erod_image = erod(image, i, type_of_mask = 'cross')\n",
    "    cv2.imwrite(path + 'erod/erod_image_cross_size'+ str(i) + '.png', erod_image)"
   ]
  },
  {
   "cell_type": "code",
   "execution_count": 27,
   "metadata": {},
   "outputs": [],
   "source": [
    "for i in range(3, 6):\n",
    "    dilat_image = dilat(image, i, type_of_mask = 'square')\n",
    "    cv2.imwrite(path + 'dilat/dilat_image_square_size' + str(i) + '.png', dilat_image)"
   ]
  },
  {
   "cell_type": "code",
   "execution_count": 28,
   "metadata": {},
   "outputs": [],
   "source": [
    "for i in range(3, 6):\n",
    "    dilat_image= dilat(image, i, type_of_mask = 'cross')\n",
    "    cv2.imwrite(path + 'dilat/dilat_image_cross_size' + str(i) + '.png', dilat_image)"
   ]
  },
  {
   "cell_type": "markdown",
   "metadata": {},
   "source": [
    "## 1.4. Провести фильтрацию шумов на изображении при помощи морфологических операций вскрытия и закрытия с различными размерами (от 3 до 5) и формами структурного элемента (крест, квадрат), а также алгоритма фильтрации шумов, которому соответствует логическая таблица истинности, представленная в табл. 1 со крестообразным структурным элементом размером 3."
   ]
  },
  {
   "cell_type": "code",
   "execution_count": 29,
   "metadata": {},
   "outputs": [],
   "source": [
    "noise_index = [1, 2, 5, 10, 20, 50]"
   ]
  },
  {
   "cell_type": "code",
   "execution_count": 30,
   "metadata": {},
   "outputs": [],
   "source": [
    "opened_image_square = np.zeros((3, len(noised), noised[0].shape[0], noised[0].shape[1]))\n",
    "for i in range(3, 6):\n",
    "    for j in range(len(noised)):\n",
    "        open_image = opening(noised[j], i, type_of_mask = 'square')\n",
    "        opened_image_square[i - 3, j] = open_image\n",
    "        cv2.imwrite(path + 'open/open_image_square_noise' + str(noise_index[j]) + '%_size' + str(i) + '.png', open_image)"
   ]
  },
  {
   "cell_type": "code",
   "execution_count": 31,
   "metadata": {},
   "outputs": [],
   "source": [
    "closed_image_square = np.zeros((3, len(noised), noised[0].shape[0], noised[0].shape[1]))\n",
    "for i in range(3, 6):\n",
    "    for j in range(len(noised)):\n",
    "        close_image = closing(noised[j], i, type_of_mask = 'square')\n",
    "        closed_image_square[i - 3, j] = close_image\n",
    "        cv2.imwrite(path + 'close/close_image_square' + str(noise_index[j]) + '%_size' + str(i) + '.png', close_image)"
   ]
  },
  {
   "cell_type": "code",
   "execution_count": 32,
   "metadata": {},
   "outputs": [],
   "source": [
    "opened_image_cross = np.zeros((3, len(noised), noised[0].shape[0], noised[0].shape[1]))\n",
    "for i in range(3, 6):\n",
    "    for j in range(len(noised)):\n",
    "        open_image = opening(noised[j], i, type_of_mask = 'cross')\n",
    "        opened_image_cross[i - 3, j] = open_image\n",
    "        cv2.imwrite(path + 'open/open_image_cross' + str(noise_index[j]) + '%_size' + str(i) + '.png', open_image)"
   ]
  },
  {
   "cell_type": "code",
   "execution_count": 33,
   "metadata": {},
   "outputs": [],
   "source": [
    "closed_image_cross = np.zeros((3, len(noised), noised[0].shape[0], noised[0].shape[1]))\n",
    "for i in range(3, 6):\n",
    "    for j in range(len(noised)):\n",
    "        close_image = closing(noised[j], i, type_of_mask = 'cross')\n",
    "        closed_image_cross[i - 3, j] = close_image\n",
    "        cv2.imwrite(path + 'close/close_image_cross' + str(noise_index[j]) + '%_size' + str(i) + '.png', close_image)"
   ]
  },
  {
   "cell_type": "code",
   "execution_count": 81,
   "metadata": {},
   "outputs": [],
   "source": [
    "filtered_image = np.zeros((3, len(noised), noised[0].shape[0], noised[0].shape[1]))\n",
    "for i in range(len(noised)):\n",
    "    filter_image = filter(noised[i])\n",
    "    filtered_image[i - 3, j] = filter_image\n",
    "    cv2.imwrite(path + 'filter_image_' + str(i) + '.png', filter_image)"
   ]
  },
  {
   "cell_type": "markdown",
   "metadata": {},
   "source": [
    "## 1.5. Рассчитать коэффициент снижения шума для различных методов фильтрации, для различной интенсивности шума и различных размеров и форм структурного элемента (окна)."
   ]
  },
  {
   "cell_type": "code",
   "execution_count": 35,
   "metadata": {},
   "outputs": [
    {
     "name": "stdout",
     "output_type": "stream",
     "text": [
      "Size 3 Noised 0 reduce 0.432\n",
      "Size 3 Noised 1 reduce 0.625\n",
      "Size 3 Noised 2 reduce 1.0227272727272727\n",
      "Size 3 Noised 3 reduce 1.599869451697128\n",
      "Size 3 Noised 4 reduce 2.561256846353416\n",
      "Size 3 Noised 5 reduce 4.04217791411043\n",
      "Size 4 Noised 0 reduce 0.05750798722044728\n",
      "Size 4 Noised 1 reduce 0.1486013986013986\n",
      "Size 4 Noised 2 reduce 0.4032683183974697\n",
      "Size 4 Noised 3 reduce 0.7602357320099256\n",
      "Size 4 Noised 4 reduce 1.2951895043731778\n",
      "Size 4 Noised 5 reduce 2.906133700895934\n",
      "Size 5 Noised 0 reduce 0.19424460431654678\n",
      "Size 5 Noised 1 reduce 0.21992238033635186\n",
      "Size 5 Noised 2 reduce 0.3541666666666667\n",
      "Size 5 Noised 3 reduce 0.5428571428571428\n",
      "Size 5 Noised 4 reduce 0.8464323139944746\n",
      "Size 5 Noised 5 reduce 2.490873648768386\n"
     ]
    }
   ],
   "source": [
    "for i in range(opened_image_square.shape[0]):\n",
    "    for j in range(opened_image_square.shape[1]):\n",
    "        print('Size {} Noised {} reduce {}'.format(i + 3, j, noise_reduce(image, opened_image_square[i, j], noised[j])))"
   ]
  },
  {
   "cell_type": "code",
   "execution_count": 36,
   "metadata": {},
   "outputs": [
    {
     "name": "stdout",
     "output_type": "stream",
     "text": [
      "Size 3 Noised 0 reduce 0.043866774979691305\n",
      "Size 3 Noised 1 reduce 0.0660964230171073\n",
      "Size 3 Noised 2 reduce 0.11018291804695377\n",
      "Size 3 Noised 3 reduce 0.14506392045454544\n",
      "Size 3 Noised 4 reduce 0.1956445149072973\n",
      "Size 3 Noised 5 reduce 0.27234504272345045\n",
      "Size 4 Noised 0 reduce 0.026277372262773723\n",
      "Size 4 Noised 1 reduce 0.04788732394366197\n",
      "Size 4 Noised 2 reduce 0.08099523557437797\n",
      "Size 4 Noised 3 reduce 0.09152010753892685\n",
      "Size 4 Noised 4 reduce 0.11147775463601917\n",
      "Size 4 Noised 5 reduce 0.20332020231729486\n",
      "Size 5 Noised 0 reduce 0.03907380607814761\n",
      "Size 5 Noised 1 reduce 0.0545046489259378\n",
      "Size 5 Noised 2 reduce 0.0619383045907214\n",
      "Size 5 Noised 3 reduce 0.0556792367105861\n",
      "Size 5 Noised 4 reduce 0.06979959620717557\n",
      "Size 5 Noised 5 reduce 0.18781985898366688\n"
     ]
    }
   ],
   "source": [
    "for i in range(closed_image_square.shape[0]):\n",
    "    for j in range(closed_image_square.shape[1]):\n",
    "        print('Size {} Noised {} reduce {}'.format(i + 3, j, noise_reduce(image, closed_image_square[i, j], noised[j])))"
   ]
  },
  {
   "cell_type": "code",
   "execution_count": 37,
   "metadata": {},
   "outputs": [
    {
     "name": "stdout",
     "output_type": "stream",
     "text": [
      "Size 3 Noised 0 reduce 0.5142857142857142\n",
      "Size 3 Noised 1 reduce 0.8173076923076923\n",
      "Size 3 Noised 2 reduce 1.383363471971067\n",
      "Size 3 Noised 3 reduce 2.2221214868540344\n",
      "Size 3 Noised 4 reduce 3.922737306843267\n",
      "Size 3 Noised 5 reduce 5.59628400796284\n",
      "Size 4 Noised 0 reduce 0.0743801652892562\n",
      "Size 4 Noised 1 reduce 0.21656050955414013\n",
      "Size 4 Noised 2 reduce 0.7642357642357642\n",
      "Size 4 Noised 3 reduce 1.7671232876712328\n",
      "Size 4 Noised 4 reduce 3.3566301473366074\n",
      "Size 4 Noised 5 reduce 5.022989874925551\n",
      "Size 5 Noised 0 reduce 0.34177215189873417\n",
      "Size 5 Noised 1 reduce 0.4899135446685879\n",
      "Size 5 Noised 2 reduce 0.8306188925081434\n",
      "Size 5 Noised 3 reduce 1.5083076923076923\n",
      "Size 5 Noised 4 reduce 2.4653163152053272\n",
      "Size 5 Noised 5 reduce 3.97886393659181\n"
     ]
    }
   ],
   "source": [
    "for i in range(opened_image_cross.shape[0]):\n",
    "    for j in range(opened_image_cross.shape[1]):\n",
    "        print('Size {} Noised {} reduce {}'.format(i + 3, j, noise_reduce(image, opened_image_cross[i, j], noised[j])))"
   ]
  },
  {
   "cell_type": "code",
   "execution_count": 38,
   "metadata": {},
   "outputs": [
    {
     "name": "stdout",
     "output_type": "stream",
     "text": [
      "Size 3 Noised 0 reduce 0.04488778054862843\n",
      "Size 3 Noised 1 reduce 0.07203389830508475\n",
      "Size 3 Noised 2 reduce 0.1302127659574468\n",
      "Size 3 Noised 3 reduce 0.1986062717770035\n",
      "Size 3 Noised 4 reduce 0.3217221276749828\n",
      "Size 3 Noised 5 reduce 0.4454868154158215\n",
      "Size 4 Noised 0 reduce 0.07659574468085106\n",
      "Size 4 Noised 1 reduce 0.21464646464646464\n",
      "Size 4 Noised 2 reduce 0.6057007125890737\n",
      "Size 4 Noised 3 reduce 0.6780082987551868\n",
      "Size 4 Noised 4 reduce 0.5485245091986665\n",
      "Size 4 Noised 5 reduce 0.3934462939464059\n",
      "Size 5 Noised 0 reduce 0.045416316232127836\n",
      "Size 5 Noised 1 reduce 0.07154882154882154\n",
      "Size 5 Noised 2 reduce 0.1291139240506329\n",
      "Size 5 Noised 3 reduce 0.19559492458702418\n",
      "Size 5 Noised 4 reduce 0.28728942348110065\n",
      "Size 5 Noised 5 reduce 0.3142269516229992\n"
     ]
    }
   ],
   "source": [
    "for i in range(closed_image_cross.shape[0]):\n",
    "    for j in range(closed_image_cross.shape[1]):\n",
    "        print('Size {} Noised {} reduce {}'.format(i + 3, j, noise_reduce(image, closed_image_cross[i, j], noised[j])))"
   ]
  },
  {
   "cell_type": "code",
   "execution_count": 39,
   "metadata": {},
   "outputs": [
    {
     "name": "stdout",
     "output_type": "stream",
     "text": [
      "Size 3 Noised 0 reduce 0.0002266650436330209\n",
      "Size 3 Noised 1 reduce 0.0007135751373632139\n",
      "Size 3 Noised 2 reduce 0.0032110881181344627\n",
      "Size 3 Noised 3 reduce 0.010288074480454337\n",
      "Size 3 Noised 4 reduce 0.037294794679247976\n",
      "Size 3 Noised 5 reduce 3.4199513381995135\n",
      "Size 4 Noised 0 reduce 0.0002266650436330209\n",
      "Size 4 Noised 1 reduce 0.0007135751373632139\n",
      "Size 4 Noised 2 reduce 0.0032110881181344627\n",
      "Size 4 Noised 3 reduce 0.010288074480454337\n",
      "Size 4 Noised 4 reduce 0.037294794679247976\n",
      "Size 4 Noised 5 reduce 1.7124060913705583\n",
      "Size 5 Noised 0 reduce 0.0002266650436330209\n",
      "Size 5 Noised 1 reduce 0.0007135751373632139\n",
      "Size 5 Noised 2 reduce 0.0032110881181344627\n",
      "Size 5 Noised 3 reduce 0.010288074480454337\n",
      "Size 5 Noised 4 reduce 0.037294794679247976\n",
      "Size 5 Noised 5 reduce 0.6901360043207149\n"
     ]
    }
   ],
   "source": [
    "for i in range(filtered_image.shape[0]):\n",
    "    for j in range(filtered_image.shape[1]):\n",
    "        print('Size {} Noised {} reduce {}'.format(i + 3, j, noise_reduce(image, filtered_image[i, j], noised[j])))"
   ]
  },
  {
   "cell_type": "markdown",
   "metadata": {},
   "source": [
    "# 2. Выделение контуров на бинарных изображениях"
   ]
  },
  {
   "cell_type": "markdown",
   "metadata": {},
   "source": [
    "## 2.1. Создать или выбрать бинарное изображение, содержащее простой рисунок, состоящий из примитивных фигур (полосы, круги, квадраты)."
   ]
  },
  {
   "cell_type": "code",
   "execution_count": 40,
   "metadata": {},
   "outputs": [],
   "source": [
    "image = np.zeros((500, 500))\n",
    "image.fill(255)"
   ]
  },
  {
   "cell_type": "code",
   "execution_count": 41,
   "metadata": {},
   "outputs": [],
   "source": [
    "square(image, (10, 10), (50, 50))\n",
    "triangle(image, (100, 100), (100, 200), (200, 100))\n",
    "circle(image, (400, 400), 40)\n",
    "circle(image, (200, 250), 1)"
   ]
  },
  {
   "cell_type": "code",
   "execution_count": 42,
   "metadata": {},
   "outputs": [
    {
     "data": {
      "text/plain": [
       "True"
      ]
     },
     "execution_count": 42,
     "metadata": {},
     "output_type": "execute_result"
    }
   ],
   "source": [
    "cv2.imwrite(path + 'image.png', image)"
   ]
  },
  {
   "cell_type": "markdown",
   "metadata": {},
   "source": [
    "## 2.2. С помощью морфологических операций выделить контур объекта. Выяснить, когда контур получается внешним, внутренним, четырёхсвязным, восьмисвязным."
   ]
  },
  {
   "cell_type": "code",
   "execution_count": 75,
   "metadata": {},
   "outputs": [],
   "source": [
    "def border(image, mask_type):\n",
    "    assert mask_type == 'square' or mask_type == 'cross' or mask_type == 'vertline' or mask_type == 'horizline'\n",
    "    \n",
    "    result = image.copy()\n",
    "    erod_image = erod(image, 3, mask_type)\n",
    "    for i in range(result.shape[0]):\n",
    "        for j in range(result.shape[1]):\n",
    "            if image[i, j] - erod_image[i, j] != 0:\n",
    "                result[i, j] = 0\n",
    "            else:\n",
    "                result[i, j] = 255\n",
    "    return result"
   ]
  },
  {
   "cell_type": "code",
   "execution_count": 76,
   "metadata": {},
   "outputs": [
    {
     "data": {
      "text/plain": [
       "True"
      ]
     },
     "execution_count": 76,
     "metadata": {},
     "output_type": "execute_result"
    }
   ],
   "source": [
    "b = border(image, 'horizline')\n",
    "cv2.imwrite(path + 'border_horiz.png', b)"
   ]
  },
  {
   "cell_type": "code",
   "execution_count": 77,
   "metadata": {},
   "outputs": [],
   "source": [
    "def erod_vert_line(image, size):\n",
    "    result = image.copy()\n",
    "    status = True\n",
    "    \n",
    "    mask = np.zeros((size, size))\n",
    "    center_point = int(size / 2)\n",
    "    for i in range(size):\n",
    "        mask[i, center_point] = 1\n",
    "\n",
    "    for i in range(size - 1, result.shape[0] - size):\n",
    "        for j in range(size - 1, result.shape[1] - size):\n",
    "            result[i, j] = process_operation(image, i, j, mask, 'erod')\n",
    "    return result"
   ]
  },
  {
   "cell_type": "code",
   "execution_count": 78,
   "metadata": {},
   "outputs": [
    {
     "data": {
      "text/plain": [
       "True"
      ]
     },
     "execution_count": 78,
     "metadata": {},
     "output_type": "execute_result"
    }
   ],
   "source": [
    "b = border(image, 'vertline')\n",
    "cv2.imwrite(path + 'border_vert.png', b)"
   ]
  },
  {
   "cell_type": "code",
   "execution_count": 79,
   "metadata": {},
   "outputs": [],
   "source": [
    "def erod_horiz_line(image, size):\n",
    "    result = image.copy()\n",
    "    status = True\n",
    "    \n",
    "    mask = np.zeros((size, size))\n",
    "    center_point = int(size / 2)\n",
    "    for i in range(size):\n",
    "        mask[center_point, i] = 1\n",
    "\n",
    "    for i in range(size - 1, result.shape[0] - size):\n",
    "        for j in range(size - 1, result.shape[1] - size):\n",
    "            result[i, j] = process_operation(image, i, j, mask, 'erod')\n",
    "    return result"
   ]
  },
  {
   "cell_type": "code",
   "execution_count": null,
   "metadata": {},
   "outputs": [],
   "source": []
  },
  {
   "cell_type": "code",
   "execution_count": null,
   "metadata": {},
   "outputs": [],
   "source": []
  }
 ],
 "metadata": {
  "kernelspec": {
   "display_name": "Python 3",
   "language": "python",
   "name": "python3"
  },
  "language_info": {
   "codemirror_mode": {
    "name": "ipython",
    "version": 3
   },
   "file_extension": ".py",
   "mimetype": "text/x-python",
   "name": "python",
   "nbconvert_exporter": "python",
   "pygments_lexer": "ipython3",
   "version": "3.7.5"
  }
 },
 "nbformat": 4,
 "nbformat_minor": 4
}
