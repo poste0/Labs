{
 "cells": [
  {
   "cell_type": "code",
   "execution_count": 86,
   "metadata": {},
   "outputs": [],
   "source": [
    "import numpy as np\n",
    "import cv2"
   ]
  },
  {
   "cell_type": "code",
   "execution_count": 174,
   "metadata": {},
   "outputs": [],
   "source": [
    "image = np.zeros((500, 500))\n",
    "image.fill(255)"
   ]
  },
  {
   "cell_type": "code",
   "execution_count": 175,
   "metadata": {},
   "outputs": [],
   "source": [
    "square = [(20, 20), (200, 100)]\n",
    "for i in range(square[0][0], square[1][0]):\n",
    "    for j in range(square[0][1], square[1][1]):\n",
    "        image[i, j] = 0"
   ]
  },
  {
   "cell_type": "code",
   "execution_count": 176,
   "metadata": {},
   "outputs": [],
   "source": [
    "triangle = [(400, 400), (450, 350), (350, 420)]\n",
    "x_a = triangle[0][1]\n",
    "y_a = triangle[0][0]\n",
    "x_b = triangle[1][1]\n",
    "y_b = triangle[1][0]\n",
    "x_c = triangle[2][1]\n",
    "y_c = triangle[2][0]\n",
    "\n",
    "left = triangle[0][0]\n",
    "right = triangle[0][0]\n",
    "above = triangle[0][1]\n",
    "below = triangle[0][1]\n",
    "for i in triangle:\n",
    "    if left > i[0]:\n",
    "        left = i[0]\n",
    "    if right < i[0]:\n",
    "        right = i[0]\n",
    "    if above > i[1]:\n",
    "        above = i[1]\n",
    "    if below < i[1]:\n",
    "        below = i[1]\n",
    "for i in range(above, below):\n",
    "    for j in range(left, right):\n",
    "        coord_1 = (x_a - i) * (y_b - y_a) - (x_b - x_a) * (y_a - j)\n",
    "        coord_2 = (x_b - i) * (y_c - y_b) - (x_c - x_b) * (y_b - j)\n",
    "        coord_3 = (x_c - i) * (y_a - y_c) - (x_a - x_c) * (y_c - j)\n",
    "        if coord_1 >= 0 and coord_2 >= 0 and coord_3 >= 0:\n",
    "            image[i, j] = 0"
   ]
  },
  {
   "cell_type": "code",
   "execution_count": 177,
   "metadata": {},
   "outputs": [],
   "source": [
    "circle = [(300, 300), 50]\n",
    "for i in range(circle[0][0] - circle[1], circle[0][0] + circle[1]):\n",
    "    for j in range(circle[0][1] - circle[1], circle[0][1] + circle[1]):\n",
    "        if (i - circle[0][0]) ** 2 + (j - circle[0][1]) ** 2 < circle[1] ** 2:\n",
    "            image[i, j] = 0"
   ]
  },
  {
   "cell_type": "code",
   "execution_count": 178,
   "metadata": {},
   "outputs": [
    {
     "data": {
      "text/plain": [
       "True"
      ]
     },
     "execution_count": 178,
     "metadata": {},
     "output_type": "execute_result"
    }
   ],
   "source": [
    "cv2.imwrite('/home/qwerty/sample.png', image)"
   ]
  },
  {
   "cell_type": "code",
   "execution_count": 179,
   "metadata": {},
   "outputs": [],
   "source": [
    "for i in range(image.shape[0]):\n",
    "    for j in range(image.shape[1]):\n",
    "        prob = np.random.randint(0, 101)\n",
    "        if prob >= 99:\n",
    "            if image[i, j] == 0:\n",
    "                image[i, j] = 255"
   ]
  },
  {
   "cell_type": "code",
   "execution_count": 180,
   "metadata": {},
   "outputs": [
    {
     "data": {
      "text/plain": [
       "True"
      ]
     },
     "execution_count": 180,
     "metadata": {},
     "output_type": "execute_result"
    }
   ],
   "source": [
    "cv2.imwrite('/home/qwerty/sample.png', image)"
   ]
  },
  {
   "cell_type": "code",
   "execution_count": 170,
   "metadata": {},
   "outputs": [],
   "source": [
    "n_image = image.copy()\n",
    "for i in range(3, image.shape[0] - 3):\n",
    "    for j in range(3, image.shape[1] - 3):\n",
    "        if (image[i - 1][j] == 0 and image[i + 1][j] == 0 and image[i][j - 1] == 0\n",
    "        and image[i - 1][j - 1] == 0 and image[i + 1][j - 1] == 0 and image[i][j + 1] == 0 and image[i - 1][j + 1] == 0\n",
    "        and image[i + 1][j + 1] == 0):\n",
    "            n_image[i, j] = 0"
   ]
  },
  {
   "cell_type": "code",
   "execution_count": 171,
   "metadata": {},
   "outputs": [
    {
     "data": {
      "text/plain": [
       "True"
      ]
     },
     "execution_count": 171,
     "metadata": {},
     "output_type": "execute_result"
    }
   ],
   "source": [
    "cv2.imwrite('/home/qwerty/sample.png', n_image)"
   ]
  },
  {
   "cell_type": "code",
   "execution_count": 181,
   "metadata": {},
   "outputs": [],
   "source": [
    "iimage = image.copy()\n",
    "for i in range(3, image.shape[0] - 3):\n",
    "    for j in range(3, image.shape[1] - 3):\n",
    "        if (image[i - 1][j] == 0 or image[i + 1][j] == 0 or image[i][j - 1] == 0\n",
    "        or image[i - 1][j - 1] == 0 or image[i + 1][j - 1] == 0 or image[i][j + 1] == 0 or image[i - 1][j + 1] == 0\n",
    "        or image[i + 1][j + 1] == 0):\n",
    "            iimage[i, j] = 0"
   ]
  },
  {
   "cell_type": "code",
   "execution_count": 182,
   "metadata": {},
   "outputs": [
    {
     "data": {
      "text/plain": [
       "True"
      ]
     },
     "execution_count": 182,
     "metadata": {},
     "output_type": "execute_result"
    }
   ],
   "source": [
    "cv2.imwrite('/home/qwerty/sample.png', iimage)"
   ]
  },
  {
   "cell_type": "code",
   "execution_count": null,
   "metadata": {},
   "outputs": [],
   "source": []
  }
 ],
 "metadata": {
  "kernelspec": {
   "display_name": "Python 3",
   "language": "python",
   "name": "python3"
  },
  "language_info": {
   "codemirror_mode": {
    "name": "ipython",
    "version": 3
   },
   "file_extension": ".py",
   "mimetype": "text/x-python",
   "name": "python",
   "nbconvert_exporter": "python",
   "pygments_lexer": "ipython3",
   "version": "3.6.10"
  }
 },
 "nbformat": 4,
 "nbformat_minor": 4
}
