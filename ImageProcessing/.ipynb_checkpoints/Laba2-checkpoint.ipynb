{
 "cells": [
  {
   "cell_type": "code",
   "execution_count": 1,
   "metadata": {},
   "outputs": [],
   "source": [
    "import numpy as np\n",
    "import cv2"
   ]
  },
  {
   "cell_type": "code",
   "execution_count": 18,
   "metadata": {},
   "outputs": [],
   "source": [
    "def erod(image, size, type_of_mask = 'square'):\n",
    "    assert type_of_mask == 'square' or type_of_mask == 'cross' or type_of_mask == 'vertline' or type_of_mask == 'horizline'\n",
    "    result = image.copy()\n",
    "    if type_of_mask == 'square':\n",
    "        result = erod_square(result, size)\n",
    "    elif type_of_mask == 'cross':\n",
    "        result = erod_cross(result, size)\n",
    "    elif type_of_mask == 'vertline':\n",
    "        result = erod_vert_line(result, size)\n",
    "    elif type_of_mask == 'horizline':\n",
    "        result = erod_horiz_line(result, size)\n",
    "    return result"
   ]
  },
  {
   "cell_type": "code",
   "execution_count": 3,
   "metadata": {},
   "outputs": [],
   "source": [
    "def erod_square(image, size):\n",
    "    result = image.copy()\n",
    "    status = True\n",
    "    for i in range(result.shape[0] - size):\n",
    "        for j in range(result.shape[1] - size):\n",
    "            for k in range(1, int((size + 1) / 2)):\n",
    "                status = (status and image[i + k, j] == 0 and image[i - k, j] == 0 and image[i, j + k] == 0 \n",
    "                and image[i + k, j + k] == 0 and image[i - k, j + k] == 0 and image[i, j - k] == 0 and image[i + k, j - k] == 0\n",
    "                and image[i - k, j - k] == 0)\n",
    "                if not status:\n",
    "                    break\n",
    "            if not status:\n",
    "                result[i, j] = 255\n",
    "            status = True\n",
    "    return result"
   ]
  },
  {
   "cell_type": "code",
   "execution_count": 4,
   "metadata": {},
   "outputs": [],
   "source": [
    "def erod_cross(image, size):\n",
    "    result = image.copy()\n",
    "    status = True\n",
    "    for i in range(result.shape[0] - size):\n",
    "        for j in range(result.shape[1] - size):\n",
    "            for k in range(1, int((size + 1) / 2)):\n",
    "                status = (status and image[i + k, j] == 0 and image[i - k, j] == 0\n",
    "                         and image[i, j + k] == 0 and image[i, j - k] == 0)\n",
    "                if not status:\n",
    "                    break\n",
    "            if not status:\n",
    "                result[i, j] = 255\n",
    "            status = True\n",
    "    return result"
   ]
  },
  {
   "cell_type": "code",
   "execution_count": 5,
   "metadata": {},
   "outputs": [],
   "source": [
    "def dilat(image, size, type_of_mask = 'square'):\n",
    "    assert type_of_mask == 'square' or type_of_mask == 'cross'\n",
    "    \n",
    "    result = image.copy()\n",
    "    if type_of_mask == 'square':\n",
    "        result = dilat_square(result, size)\n",
    "    elif type_of_mask == 'cross':\n",
    "        result = dilat_cross(result, size)\n",
    "    return result"
   ]
  },
  {
   "cell_type": "code",
   "execution_count": 6,
   "metadata": {},
   "outputs": [],
   "source": [
    "def dilat_square(image, size):\n",
    "    result = image.copy()\n",
    "    status = False\n",
    "    for i in range(result.shape[0] - size):\n",
    "        for j in range(result.shape[1] - size):\n",
    "            for k in range(1, int((size + 1) / 2)):\n",
    "                status = (status or image[i + k, j] == 0 or image[i - k, j] == 0 or image[i, j + k] == 0\n",
    "                         or image[i + k, j + k] == 0 or image[i - k, j + k] == 0 or image[i,j - k] == 0\n",
    "                         or image[i + k, j - k] == 0 or image[i - k, j - k] == 0)\n",
    "                if status:\n",
    "                    break\n",
    "            if status:\n",
    "                result[i, j] = 0\n",
    "            status = False\n",
    "    return result"
   ]
  },
  {
   "cell_type": "code",
   "execution_count": 7,
   "metadata": {},
   "outputs": [],
   "source": [
    "def dilat_cross(image, size):\n",
    "    result = image.copy()\n",
    "    status = False\n",
    "    for i in range(result.shape[0] - size):\n",
    "        for j in range(result.shape[1] - size):\n",
    "            for k in range(1, int((size + 1) / 2)):\n",
    "                status = (status or image[i + 1, j] == 0 or image[i - 1, j] == 0 or image[i, j + k] == 0\n",
    "                         or image[i, j - k] == 0)\n",
    "                if status:\n",
    "                    break\n",
    "            if status:\n",
    "                result[i, j] = 0\n",
    "            status = False\n",
    "    return result"
   ]
  },
  {
   "cell_type": "code",
   "execution_count": 8,
   "metadata": {},
   "outputs": [],
   "source": [
    "def opening(image, size, type_of_mask = 'square'):\n",
    "    assert type_of_mask == 'square' or type_of_mask == 'cross'\n",
    "    \n",
    "    result = image.copy()\n",
    "    result = erod(result, size, type_of_mask)\n",
    "    result = dilat(result, size, type_of_mask)\n",
    "    return result"
   ]
  },
  {
   "cell_type": "code",
   "execution_count": 9,
   "metadata": {},
   "outputs": [],
   "source": [
    "def closing(image, size, type_of_mask = 'square'):\n",
    "    assert type_of_mask == 'square' or type_of_mask == 'cross'\n",
    "    \n",
    "    result = image.copy()\n",
    "    result = dilat(result, size, type_of_mask)\n",
    "    result = erod(result, size, type_of_mask)\n",
    "    return result"
   ]
  },
  {
   "cell_type": "code",
   "execution_count": 10,
   "metadata": {},
   "outputs": [],
   "source": [
    "def filter(image):\n",
    "    result = image.copy()\n",
    "    for i in range(3, image.shape[0] - 3):\n",
    "        for j in range(3, image.shape[1] - 3):\n",
    "            if image[i, j] == 0:\n",
    "                if image[i, j + 1] == 255 and image[i, j - 1] == 255 and image[i + 1, j] == 255 and image[i - 1, j] == 255:\n",
    "                    image[i, j] = 255\n",
    "            elif image[i, j] == 255:\n",
    "                if image[i, j + 1] == 0 and image[i, j - 1] == 0 and image[i + 1, j] == 0 and image[i - 1, j] == 0:\n",
    "                    image[i, j] = 0\n",
    "    return result"
   ]
  },
  {
   "cell_type": "code",
   "execution_count": 11,
   "metadata": {},
   "outputs": [],
   "source": [
    "def make_noise(image, prob):\n",
    "    result = image.copy()\n",
    "    for i in range(image.shape[0]):\n",
    "        for j in range(image.shape[1]):\n",
    "            p = np.random.randint(0, 101)\n",
    "            if p < prob :\n",
    "                if image[i, j] == 0:\n",
    "                    result[i, j] = 255\n",
    "                #elif image[i, j] == 255:\n",
    "                #   result[i, j] = 0\n",
    "    return result"
   ]
  },
  {
   "cell_type": "code",
   "execution_count": 12,
   "metadata": {},
   "outputs": [],
   "source": [
    "def circle(image, centre, radius):\n",
    "    circle = [centre, radius]\n",
    "    for i in range(circle[0][0] - circle[1], circle[0][0] + circle[1]):\n",
    "        for j in range(circle[0][1] - circle[1], circle[0][1] + circle[1]):\n",
    "            if (i - circle[0][0]) ** 2 + (j - circle[0][1]) ** 2 < circle[1] ** 2:\n",
    "                image[i, j] = 0"
   ]
  },
  {
   "cell_type": "code",
   "execution_count": 13,
   "metadata": {},
   "outputs": [],
   "source": [
    "def triangle(image, A, B, C):\n",
    "    triangle = [A, B, C]\n",
    "    x_a = triangle[0][1]\n",
    "    y_a = triangle[0][0]\n",
    "    x_b = triangle[1][1]\n",
    "    y_b = triangle[1][0]\n",
    "    x_c = triangle[2][1]\n",
    "    y_c = triangle[2][0]\n",
    "\n",
    "    left = triangle[0][0]\n",
    "    right = triangle[0][0]\n",
    "    above = triangle[0][1]\n",
    "    below = triangle[0][1]\n",
    "    for i in triangle:\n",
    "        if left > i[0]:\n",
    "            left = i[0]\n",
    "        if right < i[0]:\n",
    "            right = i[0]\n",
    "        if above > i[1]:\n",
    "            above = i[1]\n",
    "        if below < i[1]:\n",
    "            below = i[1]\n",
    "    for i in range(above, below):\n",
    "        for j in range(left, right):\n",
    "            coord_1 = (x_a - i) * (y_b - y_a) - (x_b - x_a) * (y_a - j)\n",
    "            coord_2 = (x_b - i) * (y_c - y_b) - (x_c - x_b) * (y_b - j)\n",
    "            coord_3 = (x_c - i) * (y_a - y_c) - (x_a - x_c) * (y_c - j)\n",
    "            if coord_1 >= 0 and coord_2 >= 0 and coord_3 >= 0:\n",
    "                image[i, j] = 0"
   ]
  },
  {
   "cell_type": "code",
   "execution_count": 14,
   "metadata": {},
   "outputs": [],
   "source": [
    "def square(image, A, B):\n",
    "    square = [A, B]\n",
    "    for i in range(square[0][0], square[1][0]):\n",
    "        for j in range(square[0][1], square[1][1]):\n",
    "            image[i, j] = 0"
   ]
  },
  {
   "cell_type": "code",
   "execution_count": 15,
   "metadata": {},
   "outputs": [],
   "source": [
    "def noise_reduce(image, filter_image, noised_image):\n",
    "    assert image.shape == filter_image.shape and image.shape == noised_image.shape\n",
    "    count_noised = 0\n",
    "    count_filtered = 0\n",
    "    for i in range(image.shape[0]):\n",
    "        for j in range(image.shape[1]):\n",
    "            if image[i, j] - noised_image[i, j] != 0:\n",
    "                count_noised += 1\n",
    "            if image[i, j] - filter_image[i, j] != 0:\n",
    "                count_filtered += 1\n",
    "    return count_noised / count_filtered"
   ]
  },
  {
   "cell_type": "markdown",
   "metadata": {},
   "source": [
    "# 1. Фильтрация бинарных изображений"
   ]
  },
  {
   "cell_type": "markdown",
   "metadata": {},
   "source": [
    "## 1.1. Создать или выбрать бинарное изображение с любым простым рисунком, состоящим из примитивных фигур (круги, квадраты, полигоны)."
   ]
  },
  {
   "cell_type": "code",
   "execution_count": 49,
   "metadata": {},
   "outputs": [],
   "source": [
    "image = np.zeros((500, 500))\n",
    "image.fill(255)"
   ]
  },
  {
   "cell_type": "code",
   "execution_count": 50,
   "metadata": {},
   "outputs": [],
   "source": [
    "square(image, (10, 10), (50, 50))\n",
    "triangle(image, (100, 100), (100, 200), (200, 100))\n",
    "circle(image, (400, 400), 40)\n",
    "circle(image, (200, 250), 1)"
   ]
  },
  {
   "cell_type": "code",
   "execution_count": 51,
   "metadata": {},
   "outputs": [
    {
     "data": {
      "text/plain": [
       "True"
      ]
     },
     "execution_count": 51,
     "metadata": {},
     "output_type": "execute_result"
    }
   ],
   "source": [
    "cv2.imwrite('/home/qwerty/image.png', image)"
   ]
  },
  {
   "cell_type": "markdown",
   "metadata": {},
   "source": [
    "## 1.2. На полученное изображение наложить шум (1%, 2%, 5%, 10%, 20%, 50%)."
   ]
  },
  {
   "cell_type": "code",
   "execution_count": 19,
   "metadata": {},
   "outputs": [],
   "source": [
    "noised = []\n",
    "for i in [1, 2, 5, 10, 20, 50]:\n",
    "    noise = make_noise(image, i)\n",
    "    noised.append(noise)\n",
    "    cv2.imwrite('/home/qwerty/image_noise_' + str(i) + '.png', noise)"
   ]
  },
  {
   "cell_type": "markdown",
   "metadata": {},
   "source": [
    "## 1.3. Выполнить операции эрозии и дилатации для различных структурных элементов (крест, квадрат). Визуально оценить результаты эрозии и дилатации."
   ]
  },
  {
   "cell_type": "code",
   "execution_count": 20,
   "metadata": {},
   "outputs": [],
   "source": [
    "for i in range(3, 6):\n",
    "    erod_image = erod(image, i, type_of_mask = 'square')\n",
    "    cv2.imwrite('/home/qwerty/erod_image_square_' + str(i) + '.png', erod_image)"
   ]
  },
  {
   "cell_type": "code",
   "execution_count": 21,
   "metadata": {},
   "outputs": [],
   "source": [
    "for i in range(3, 6):\n",
    "    erod_image = erod(image, i, type_of_mask = 'cross')\n",
    "    cv2.imwrite('/home/qwerty/erod_image_cross_'+ str(i) + '.png', erod_image)"
   ]
  },
  {
   "cell_type": "code",
   "execution_count": 22,
   "metadata": {},
   "outputs": [],
   "source": [
    "for i in range(3, 6):\n",
    "    dilat_image = dilat(image, i, type_of_mask = 'square')\n",
    "    cv2.imwrite('/home/qwerty/dilat_image_square_' + str(i) + '.png', dilat_image)"
   ]
  },
  {
   "cell_type": "code",
   "execution_count": 23,
   "metadata": {},
   "outputs": [],
   "source": [
    "for i in range(3, 6):\n",
    "    dilat_image= dilat(image, i, type_of_mask = 'cross')\n",
    "    cv2.imwrite('/home/qwerty/dilat_image_cross_' + str(i) + '.png', dilat_image)"
   ]
  },
  {
   "cell_type": "markdown",
   "metadata": {},
   "source": [
    "## 1.4. Провести фильтрацию шумов на изображении при помощи морфологических операций вскрытия и закрытия с различными размерами (от 3 до 5) и формами структурного элемента (крест, квадрат), а также алгоритма фильтрации шумов, которому соответствует логическая таблица истинности, представленная в табл. 1 со крестообразным структурным элементом размером 3."
   ]
  },
  {
   "cell_type": "code",
   "execution_count": 40,
   "metadata": {},
   "outputs": [],
   "source": [
    "opened_image_square = np.zeros((3, len(noised), noised[0].shape[0], noised[0].shape[1]))\n",
    "for i in range(3, 6):\n",
    "    for j in range(len(noised)):\n",
    "        open_image = opening(noised[j], i, type_of_mask = 'square')\n",
    "        opened_image_square[i - 3, j] = open_image\n",
    "        cv2.imwrite('/home/qwerty/open_image_square' + str(j) + '_' + str(i) + '.png', open_image)"
   ]
  },
  {
   "cell_type": "code",
   "execution_count": 44,
   "metadata": {},
   "outputs": [],
   "source": [
    "closed_image_square = np.zeros((3, len(noised), noised[0].shape[0], noised[0].shape[1]))\n",
    "for i in range(3, 6):\n",
    "    for j in range(len(noised)):\n",
    "        close_image = closing(noised[j], i, type_of_mask = 'square')\n",
    "        closed_image_square[i - 3, j] = close_image\n",
    "        cv2.imwrite('/home/qwerty/close_image_square' + str(j) + '_' + str(i) + '.png', close_image)"
   ]
  },
  {
   "cell_type": "code",
   "execution_count": 45,
   "metadata": {},
   "outputs": [],
   "source": [
    "opened_image_cross = np.zeros((3, len(noised), noised[0].shape[0], noised[0].shape[1]))\n",
    "for i in range(3, 6):\n",
    "    for j in range(len(noised)):\n",
    "        open_image = opening(noised[j], i, type_of_mask = 'cross')\n",
    "        opened_image_cross[i - 3, j] = open_image\n",
    "        cv2.imwrite('/home/qwerty/open_image_cross' + str(j) + '_' + str(i) + '.png', open_image)"
   ]
  },
  {
   "cell_type": "code",
   "execution_count": 46,
   "metadata": {},
   "outputs": [],
   "source": [
    "closed_image_cross = np.zeros((3, len(noised), noised[0].shape[0], noised[0].shape[1]))\n",
    "for i in range(3, 6):\n",
    "    for j in range(len(noised)):\n",
    "        close_image = closing(noised[j], i, type_of_mask = 'cross')\n",
    "        closed_image_cross[i - 3, j] = close_image\n",
    "        cv2.imwrite('/home/qwerty/close_image_cross' + str(j) + '_' + str(i) + '.png', close_image)"
   ]
  },
  {
   "cell_type": "code",
   "execution_count": 47,
   "metadata": {},
   "outputs": [],
   "source": [
    "filtered_image = np.zeros((3, len(noised), noised[0].shape[0], noised[0].shape[1]))\n",
    "for i in range(len(noised)):\n",
    "    filter_image = filter(noised[i])\n",
    "    filtered_image[i - 3, j] = filter_image\n",
    "    cv2.imwrite('/home/qwerty/filter_image_' + str(i) + '.png', filter_image)"
   ]
  },
  {
   "cell_type": "markdown",
   "metadata": {},
   "source": [
    "## 1.5. Рассчитать коэффициент снижения шума для различных методов фильтрации, для различной интенсивности шума и различных размеров и форм структурного элемента (окна)."
   ]
  },
  {
   "cell_type": "code",
   "execution_count": 56,
   "metadata": {},
   "outputs": [
    {
     "name": "stdout",
     "output_type": "stream",
     "text": [
      "Size 3 Noised 0 reduce 0.5\n",
      "Size 3 Noised 1 reduce 0.6727272727272727\n",
      "Size 3 Noised 2 reduce 0.8\n",
      "Size 3 Noised 3 reduce 0.7215411558669002\n",
      "Size 3 Noised 4 reduce 0.6256410256410256\n",
      "Size 3 Noised 5 reduce 0.5462600261145308\n",
      "Size 4 Noised 0 reduce 0.5\n",
      "Size 4 Noised 1 reduce 0.6727272727272727\n",
      "Size 4 Noised 2 reduce 0.8\n",
      "Size 4 Noised 3 reduce 0.7215411558669002\n",
      "Size 4 Noised 4 reduce 0.6256410256410256\n",
      "Size 4 Noised 5 reduce 0.5462600261145308\n",
      "Size 5 Noised 0 reduce 0.1724137931034483\n",
      "Size 5 Noised 1 reduce 0.39361702127659576\n",
      "Size 5 Noised 2 reduce 0.5617021276595745\n",
      "Size 5 Noised 3 reduce 0.5042839657282742\n",
      "Size 5 Noised 4 reduce 0.3539651837524178\n",
      "Size 5 Noised 5 reduce 0.4992754240900179\n"
     ]
    }
   ],
   "source": [
    "for i in range(opened_image_square.shape[0]):\n",
    "    for j in range(opened_image_square.shape[1]):\n",
    "        print('Size {} Noised {} reduce {}'.format(i + 3, j, noise_reduce(image, opened_image_square[i, j], noised[j])))"
   ]
  },
  {
   "cell_type": "code",
   "execution_count": 57,
   "metadata": {},
   "outputs": [
    {
     "name": "stdout",
     "output_type": "stream",
     "text": [
      "Size 3 Noised 0 reduce 1.6666666666666667\n",
      "Size 3 Noised 1 reduce 9.25\n",
      "Size 3 Noised 2 reduce 11.0\n",
      "Size 3 Noised 3 reduce 27.466666666666665\n",
      "Size 3 Noised 4 reduce 14.076923076923077\n",
      "Size 3 Noised 5 reduce 4.278305332359387\n",
      "Size 4 Noised 0 reduce 1.6666666666666667\n",
      "Size 4 Noised 1 reduce 9.25\n",
      "Size 4 Noised 2 reduce 11.0\n",
      "Size 4 Noised 3 reduce 27.466666666666665\n",
      "Size 4 Noised 4 reduce 14.076923076923077\n",
      "Size 4 Noised 5 reduce 4.278305332359387\n",
      "Size 5 Noised 0 reduce 1.25\n",
      "Size 5 Noised 1 reduce 7.4\n",
      "Size 5 Noised 2 reduce 9.428571428571429\n",
      "Size 5 Noised 3 reduce 16.48\n",
      "Size 5 Noised 4 reduce 12.302521008403362\n",
      "Size 5 Noised 5 reduce 9.223622047244094\n"
     ]
    }
   ],
   "source": [
    "for i in range(closed_image_square.shape[0]):\n",
    "    for j in range(closed_image_square.shape[1]):\n",
    "        print('Size {} Noised {} reduce {}'.format(i + 3, j, noise_reduce(image, closed_image_square[i, j], noised[j])))"
   ]
  },
  {
   "cell_type": "code",
   "execution_count": 59,
   "metadata": {},
   "outputs": [
    {
     "name": "stdout",
     "output_type": "stream",
     "text": [
      "Size 3 Noised 0 reduce 0.4166666666666667\n",
      "Size 3 Noised 1 reduce 0.6491228070175439\n",
      "Size 3 Noised 2 reduce 0.825\n",
      "Size 3 Noised 3 reduce 0.860125260960334\n",
      "Size 3 Noised 4 reduce 0.7681007345225603\n",
      "Size 3 Noised 5 reduce 0.6511395219566426\n",
      "Size 4 Noised 0 reduce 0.4166666666666667\n",
      "Size 4 Noised 1 reduce 0.6491228070175439\n",
      "Size 4 Noised 2 reduce 0.825\n",
      "Size 4 Noised 3 reduce 0.860125260960334\n",
      "Size 4 Noised 4 reduce 0.7681007345225603\n",
      "Size 4 Noised 5 reduce 0.6511395219566426\n",
      "Size 5 Noised 0 reduce 0.0165016501650165\n",
      "Size 5 Noised 1 reduce 0.10451977401129943\n",
      "Size 5 Noised 2 reduce 0.27906976744186046\n",
      "Size 5 Noised 3 reduce 0.4567627494456763\n",
      "Size 5 Noised 4 reduce 0.5086865879082696\n",
      "Size 5 Noised 5 reduce 0.5247267514782297\n"
     ]
    }
   ],
   "source": [
    "for i in range(opened_image_cross.shape[0]):\n",
    "    for j in range(opened_image_cross.shape[1]):\n",
    "        print('Size {} Noised {} reduce {}'.format(i + 3, j, noise_reduce(image, opened_image_cross[i, j], noised[j])))"
   ]
  },
  {
   "cell_type": "code",
   "execution_count": 60,
   "metadata": {},
   "outputs": [
    {
     "name": "stdout",
     "output_type": "stream",
     "text": [
      "Size 3 Noised 0 reduce 1.25\n",
      "Size 3 Noised 1 reduce 6.166666666666667\n",
      "Size 3 Noised 2 reduce 6.0\n",
      "Size 3 Noised 3 reduce 9.581395348837209\n",
      "Size 3 Noised 4 reduce 7.664921465968586\n",
      "Size 3 Noised 5 reduce 1.9707267833109017\n",
      "Size 4 Noised 0 reduce 1.25\n",
      "Size 4 Noised 1 reduce 6.166666666666667\n",
      "Size 4 Noised 2 reduce 6.0\n",
      "Size 4 Noised 3 reduce 9.581395348837209\n",
      "Size 4 Noised 4 reduce 7.664921465968586\n",
      "Size 4 Noised 5 reduce 1.9707267833109017\n",
      "Size 5 Noised 0 reduce 0.017543859649122806\n",
      "Size 5 Noised 1 reduce 0.1267123287671233\n",
      "Size 5 Noised 2 reduce 0.416403785488959\n",
      "Size 5 Noised 3 reduce 1.2046783625730995\n",
      "Size 5 Noised 4 reduce 3.0185567010309278\n",
      "Size 5 Noised 5 reduce 2.2640123695400076\n"
     ]
    }
   ],
   "source": [
    "for i in range(closed_image_cross.shape[0]):\n",
    "    for j in range(closed_image_cross.shape[1]):\n",
    "        print('Size {} Noised {} reduce {}'.format(i + 3, j, noise_reduce(image, closed_image_cross[i, j], noised[j])))"
   ]
  },
  {
   "cell_type": "code",
   "execution_count": 61,
   "metadata": {},
   "outputs": [
    {
     "name": "stdout",
     "output_type": "stream",
     "text": [
      "Size 3 Noised 0 reduce 2.0987504040094528e-05\n",
      "Size 3 Noised 1 reduce 0.0001553075298966995\n",
      "Size 3 Noised 2 reduce 0.0005540701066584956\n",
      "Size 3 Noised 3 reduce 0.001729370332903789\n",
      "Size 3 Noised 4 reduce 0.006145141182939678\n",
      "Size 3 Noised 5 reduce 14.216019417475728\n",
      "Size 4 Noised 0 reduce 2.0987504040094528e-05\n",
      "Size 4 Noised 1 reduce 0.0001553075298966995\n",
      "Size 4 Noised 2 reduce 0.0005540701066584956\n",
      "Size 4 Noised 3 reduce 0.001729370332903789\n",
      "Size 4 Noised 4 reduce 0.006145141182939678\n",
      "Size 4 Noised 5 reduce 4.0006830601092895\n",
      "Size 5 Noised 0 reduce 2.0987504040094528e-05\n",
      "Size 5 Noised 1 reduce 0.0001553075298966995\n",
      "Size 5 Noised 2 reduce 0.0005540701066584956\n",
      "Size 5 Noised 3 reduce 0.001729370332903789\n",
      "Size 5 Noised 4 reduce 0.006145141182939678\n",
      "Size 5 Noised 5 reduce 1.0\n"
     ]
    }
   ],
   "source": [
    "for i in range(filtered_image.shape[0]):\n",
    "    for j in range(filtered_image.shape[1]):\n",
    "        print('Size {} Noised {} reduce {}'.format(i + 3, j, noise_reduce(image, filtered_image[i, j], noised[j])))"
   ]
  },
  {
   "cell_type": "markdown",
   "metadata": {},
   "source": [
    "# 2. Выделение контуров на бинарных изображениях"
   ]
  },
  {
   "cell_type": "markdown",
   "metadata": {},
   "source": [
    "## 2.1. Создать или выбрать бинарное изображение, содержащее простой рисунок, состоящий из примитивных фигур (полосы, круги, квадраты)."
   ]
  },
  {
   "cell_type": "code",
   "execution_count": 62,
   "metadata": {},
   "outputs": [],
   "source": [
    "image = np.zeros((500, 500))\n",
    "image.fill(255)"
   ]
  },
  {
   "cell_type": "code",
   "execution_count": 63,
   "metadata": {},
   "outputs": [],
   "source": [
    "square(image, (10, 10), (50, 50))\n",
    "triangle(image, (100, 100), (100, 200), (200, 100))\n",
    "circle(image, (400, 400), 40)\n",
    "circle(image, (200, 250), 1)"
   ]
  },
  {
   "cell_type": "code",
   "execution_count": 64,
   "metadata": {},
   "outputs": [
    {
     "data": {
      "text/plain": [
       "True"
      ]
     },
     "execution_count": 64,
     "metadata": {},
     "output_type": "execute_result"
    }
   ],
   "source": [
    "cv2.imwrite('/home/qwerty/image.png', image)"
   ]
  },
  {
   "cell_type": "markdown",
   "metadata": {},
   "source": [
    "## 2.2. С помощью морфологических операций выделить контур объекта. Выяснить, когда контур получается внешним, внутренним, четырёхсвязным, восьмисвязным."
   ]
  },
  {
   "cell_type": "code",
   "execution_count": 29,
   "metadata": {},
   "outputs": [],
   "source": [
    "def border(image, mask_type):\n",
    "    assert mask_type == 'square' or mask_type == 'cross' or mask_type == 'vertline'\n",
    "    \n",
    "    result = image.copy()\n",
    "    erod_image = erod(image, 3, mask_type)\n",
    "    for i in range(result.shape[0]):\n",
    "        for j in range(result.shape[1]):\n",
    "            if image[i, j] - erod_image[i, j] != 0:\n",
    "                result[i, j] = 0\n",
    "            else:\n",
    "                result[i, j] = 255\n",
    "    return result"
   ]
  },
  {
   "cell_type": "code",
   "execution_count": 30,
   "metadata": {},
   "outputs": [
    {
     "data": {
      "text/plain": [
       "True"
      ]
     },
     "execution_count": 30,
     "metadata": {},
     "output_type": "execute_result"
    }
   ],
   "source": [
    "b = border(image, 'square')\n",
    "cv2.imwrite('/home/qwerty/b.png', b)"
   ]
  },
  {
   "cell_type": "code",
   "execution_count": 47,
   "metadata": {},
   "outputs": [],
   "source": [
    "def erod_vert_line(image, size):\n",
    "    result = image.copy()\n",
    "    status = True\n",
    "    for i in range(result.shape[0]):\n",
    "        for j in range(result.shape[1]):\n",
    "            for k in range(1, int((size + 1) / 2)):\n",
    "                status = (status and image[i, j - k] == 0 and image[i, j + k] == 0)\n",
    "                if not status:\n",
    "                    break\n",
    "            if not status:\n",
    "                result[i, j] = 255\n",
    "            status = True\n",
    "    return result"
   ]
  },
  {
   "cell_type": "code",
   "execution_count": 48,
   "metadata": {},
   "outputs": [
    {
     "data": {
      "text/plain": [
       "True"
      ]
     },
     "execution_count": 48,
     "metadata": {},
     "output_type": "execute_result"
    }
   ],
   "source": [
    "b = border(image, 'vertline')\n",
    "cv2.imwrite('/home/qwerty/b.png', b)"
   ]
  },
  {
   "cell_type": "code",
   "execution_count": 52,
   "metadata": {},
   "outputs": [],
   "source": [
    "def erod_horiz_line(image, size):\n",
    "    result = image.copy()\n",
    "    status = True\n",
    "    for i in range(result.shape[0]):\n",
    "        for j in range(result.shape[1]):\n",
    "            for k in range(1, int((size + 1) / 2)):\n",
    "                status = (status and image[i - 1, j] == 0 and image[i + 1, j] == 0)\n",
    "                if not status:\n",
    "                    break\n",
    "            if not status:\n",
    "                result[i, j] = 255\n",
    "            status = True\n",
    "    return result"
   ]
  },
  {
   "cell_type": "code",
   "execution_count": null,
   "metadata": {},
   "outputs": [],
   "source": []
  }
 ],
 "metadata": {
  "kernelspec": {
   "display_name": "Python 3",
   "language": "python",
   "name": "python3"
  },
  "language_info": {
   "codemirror_mode": {
    "name": "ipython",
    "version": 3
   },
   "file_extension": ".py",
   "mimetype": "text/x-python",
   "name": "python",
   "nbconvert_exporter": "python",
   "pygments_lexer": "ipython3",
   "version": "3.6.10"
  }
 },
 "nbformat": 4,
 "nbformat_minor": 4
}
