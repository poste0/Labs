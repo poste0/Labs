{
 "cells": [
  {
   "cell_type": "code",
   "execution_count": 5,
   "metadata": {},
   "outputs": [],
   "source": [
    "import cv2\n",
    "import numpy as np"
   ]
  },
  {
   "cell_type": "code",
   "execution_count": 6,
   "metadata": {},
   "outputs": [],
   "source": [
    "def make_noise(image, prob):\n",
    "    r, g, b = cv2.split(image)\n",
    "    def make_noise_channel(channel):\n",
    "        channel_prob = prob / image.shape[2]\n",
    "        result_channel = channel.copy()\n",
    "        for i in range(channel.shape[0]):\n",
    "            for j in range(channel.shape[1]):\n",
    "                rand = np.random.randint(0, 101)\n",
    "                if rand <= channel_prob:\n",
    "                    result_channel[i, j] += np.random.randint(0, 256) % 256\n",
    "        \n",
    "        return result_channel\n",
    "    \n",
    "    result_r = make_noise_channel(r)\n",
    "    result_g = make_noise_channel(g)\n",
    "    result_b = make_noise_channel(b)\n",
    "    \n",
    "    result = cv2.merge((result_r, result_g, result_b))\n",
    "    \n",
    "    return result\n",
    "\n",
    "def convol_image(image, mask):\n",
    "    offset_x = int(mask.shape[0] / 2)\n",
    "    offset_y = int(mask.shape[1] / 2)\n",
    "    def conv_elem(i, j):\n",
    "        result = 0\n",
    "        for k in range(mask.shape[0]):\n",
    "            for l in range(mask.shape[1]):\n",
    "                result += image[i - offset_x + k, j - offset_y + l] * mask[k, l]\n",
    "        return result\n",
    "    result = np.zeros(image.shape)\n",
    "    for i in range(offset_x, result.shape[0] - offset_x - 2):\n",
    "        for j in range(offset_y, result.shape[1] - offset_y - 2):\n",
    "            result[i + 2, j + 2] = conv_elem(i, j) \n",
    "    return (result * 255 / np.max(result)).astype('int32')\n",
    "\n",
    "def corr(A, B, k, l):\n",
    "    rows = A.shape[0]\n",
    "    cols = A.shape[1]\n",
    "    result = None\n",
    "    if k < 0 and l < 0:\n",
    "        return np.sum(np.sum(A[0:rows - abs(k), 0:cols - abs(l)] * B[abs(k):rows, abs(l):cols])) / (\n",
    "                (rows - 1) * (cols - 1))\n",
    "\n",
    "    elif k < 0 and l >= 0:\n",
    "        return np.sum(np.sum(A[0:rows - abs(k), l:cols] * B[abs(k):rows, 0:cols - l])) / ((rows - 1) * (cols - 1))\n",
    "\n",
    "    elif k >= 0 and l < 0:\n",
    "        return np.sum(np.sum(A[k:rows, 0:cols - abs(l)] * B[0:rows - k, abs(l):cols])) / ((rows - 1) * (cols - 1))\n",
    "\n",
    "    return np.sum(np.sum(A[k:rows, l:cols] * B[0:rows - k, 0:cols - l])) / ((rows - 1) * (cols - 1))\n",
    "\n",
    "def get_b(image, image_noise, D):\n",
    "    b = np.zeros(len(D) ** 2)\n",
    "    i = 0\n",
    "    \n",
    "    for k in D:\n",
    "        for l in D:\n",
    "            b[i] = corr(image, image_noise, -k, -l)\n",
    "            i += 1\n",
    "    return b\n",
    "\n",
    "def get_A(image, D):\n",
    "    size = len(D) ** 2\n",
    "    result = np.zeros((size, size))\n",
    "    \n",
    "    i = 0\n",
    "    j = 0\n",
    "    \n",
    "    for k in D:\n",
    "        for l in D:\n",
    "            for n in D:\n",
    "                for m in D:\n",
    "                    result[i, j] = corr(image, image, k - n, l - m)\n",
    "                    j += 1\n",
    "            i += 1\n",
    "            j = 0\n",
    "    return result\n",
    "\n",
    "def get_x(A, b):\n",
    "    return np.linalg.solve(A, b).reshape(int(np.sqrt(b.shape)), int(np.sqrt(b.shape)))\n",
    "\n",
    "def filter_image(image, image_noise, D, suffix):\n",
    "    r, g, b = cv2.split(image)\n",
    "\n",
    "    file = suffix\n",
    "    \n",
    "    image_noise_r, image_noise_g, image_noise_b = cv2.split(image_noise)\n",
    "    \n",
    "    cv2.imwrite(path + file + '_noise.jpg', image_noise)\n",
    "    cv2.imwrite(path + file + '_r.jpg', r)\n",
    "    cv2.imwrite(path + file + '_g.jpg', g)\n",
    "    cv2.imwrite(path + file + '_b.jpg', b)\n",
    "    cv2.imwrite(path + file + '_r_noise.jpg', image_noise_r)\n",
    "    cv2.imwrite(path + file + '_g_noise.jpg', image_noise_g)\n",
    "    cv2.imwrite(path + file + '_b_noise.jpg', image_noise_b)\n",
    "\n",
    "    A_r = get_A(image_noise_r, D)\n",
    "    A_g = get_A(image_noise_g, D)\n",
    "    A_b = get_A(image_noise_b, D)\n",
    "\n",
    "    b_r = get_b(r, image_noise_r, D)\n",
    "    b_g = get_b(g, image_noise_g, D)\n",
    "    b_b = get_b(b, image_noise_b, D)\n",
    "\n",
    "    x_r = get_x(A_r, b_r)\n",
    "    x_g = get_x(A_g, b_g)\n",
    "    x_b = get_x(A_b, b_b)\n",
    "    \n",
    "    print(x_r)\n",
    "    print(x_g)\n",
    "    print(x_b)\n",
    "\n",
    "    result_r = convol_image(r, np.abs(x_r))\n",
    "    result_g = convol_image(g, np.abs(x_g))\n",
    "    result_b = convol_image(b, np.abs(x_b))\n",
    "\n",
    "    cv2.imwrite(path + file + '_filter_r.jpg', result_r)\n",
    "    cv2.imwrite(path + file + '_filter_g.jpg', result_g)\n",
    "    cv2.imwrite(path + file + '_filter_b.jpg', result_b)\n",
    "\n",
    "    result = cv2.merge((result_r, result_g, result_b))\n",
    "    \n",
    "    print(np.min(result))\n",
    "    print(np.max(result))\n",
    "\n",
    "    cv2.imwrite(path + file + '_filter.jpg', result)\n",
    "    \n",
    "    return result\n",
    "\n",
    "def get_error(image, filtered_image):\n",
    "    image = image / 255\n",
    "    filtered_image = filtered_image / 255\n",
    "    difference = (image[5: - 5, 5: - 5] - filtered_image[5: - 5, 5: - 5]) ** 2\n",
    "    \n",
    "    return (np.sum(difference) / (image.shape[0] * image.shape[1] * image.shape[2])) ** 0.5"
   ]
  },
  {
   "cell_type": "code",
   "execution_count": 7,
   "metadata": {},
   "outputs": [],
   "source": [
    "path = './'\n",
    "D = [-3, -2, -1]"
   ]
  },
  {
   "cell_type": "markdown",
   "metadata": {},
   "source": [
    "# Протестировать фильтрацию на изображении из пункта 1, осуществив КИХ-фильтрацию с использованием маски, вычисленной на основе методики, описанной в пунктах 3-5."
   ]
  },
  {
   "cell_type": "code",
   "execution_count": 8,
   "metadata": {
    "scrolled": false
   },
   "outputs": [
    {
     "name": "stdout",
     "output_type": "stream",
     "text": [
      "[[0.11863352 0.08284789 0.11584643]\n",
      " [0.07833621 0.05012368 0.10213718]\n",
      " [0.11384784 0.10913036 0.23890542]]\n",
      "[[0.12896666 0.12239758 0.1182739 ]\n",
      " [0.11905088 0.10507063 0.10691083]\n",
      " [0.10714218 0.09409381 0.10307249]]\n",
      "[[0.13240097 0.1244476  0.12506688]\n",
      " [0.11713677 0.10044984 0.10530099]\n",
      " [0.10707015 0.09017542 0.10348895]]\n",
      "0\n",
      "255\n"
     ]
    }
   ],
   "source": [
    "obama_no_noise_image = cv2.imread(path + 'obama.jpg')\n",
    "\n",
    "obama_no_noise_filtered_image = filter_image(obama_no_noise_image, obama_no_noise_image, D, 'obama_no_noise')"
   ]
  },
  {
   "cell_type": "markdown",
   "metadata": {},
   "source": [
    "# Повторить пункт 6 для того же изображения, предварительно зашумив его с вероятностью искажения p."
   ]
  },
  {
   "cell_type": "code",
   "execution_count": 9,
   "metadata": {},
   "outputs": [
    {
     "name": "stdout",
     "output_type": "stream",
     "text": [
      "[[0.11478098 0.08755764 0.11374183]\n",
      " [0.0839219  0.06294147 0.10646236]\n",
      " [0.11165389 0.11087114 0.21568722]]\n",
      "[[0.12348847 0.11725393 0.11474506]\n",
      " [0.11600292 0.10697996 0.1053008 ]\n",
      " [0.10690632 0.09901274 0.10397793]]\n",
      "[[0.12341699 0.11787674 0.11886188]\n",
      " [0.11382314 0.1021486  0.10533703]\n",
      " [0.10684025 0.09669265 0.10426803]]\n",
      "0\n",
      "255\n"
     ]
    }
   ],
   "source": [
    "obama_noise_image = cv2.imread(path + 'obama.jpg')\n",
    "obama_noise_image_noise = make_noise(obama_noise_image, 9)\n",
    "\n",
    "obama_noise_filtered_image = filter_image(obama_noise_image, obama_noise_image_noise, D, 'obama_noise')\n"
   ]
  },
  {
   "cell_type": "markdown",
   "metadata": {},
   "source": [
    "# Осуществить зашумление тестовых изображений из пункта 2 с вероятностью искажения пикселя . Осуществить КИХ фильтрацию изображений"
   ]
  },
  {
   "cell_type": "code",
   "execution_count": 10,
   "metadata": {},
   "outputs": [
    {
     "name": "stdout",
     "output_type": "stream",
     "text": [
      "[[0.12258692 0.11712848 0.11293295]\n",
      " [0.11585926 0.12427104 0.11007193]\n",
      " [0.11091302 0.10410328 0.09612902]]\n",
      "[[0.1212687  0.12626292 0.11330266]\n",
      " [0.11357289 0.11587104 0.106039  ]\n",
      " [0.10984804 0.1092077  0.09873728]]\n",
      "[[0.12273075 0.11704819 0.11750103]\n",
      " [0.11155765 0.11401385 0.10856393]\n",
      " [0.11097588 0.11232757 0.10320001]]\n",
      "0\n",
      "255\n"
     ]
    }
   ],
   "source": [
    "lukashenko_image = cv2.imread(path + 'lukashenko.jpg')\n",
    "lukashenko_image_noise = make_noise(lukashenko_image, 9)\n",
    "\n",
    "lukashenko_filtered_image = filter_image(lukashenko_image, lukashenko_image_noise, D, 'lukashenko')"
   ]
  },
  {
   "cell_type": "code",
   "execution_count": 11,
   "metadata": {},
   "outputs": [
    {
     "name": "stdout",
     "output_type": "stream",
     "text": [
      "[[0.11730899 0.09170125 0.10682388]\n",
      " [0.10707838 0.08411114 0.10770638]\n",
      " [0.12882866 0.13102983 0.13969748]]\n",
      "[[0.13537641 0.12042027 0.09461387]\n",
      " [0.13250361 0.09596406 0.0701069 ]\n",
      " [0.14307941 0.12935443 0.09089149]]\n",
      "[[0.14460919 0.12345315 0.10129685]\n",
      " [0.1161394  0.10337048 0.09011701]\n",
      " [0.11132082 0.12153557 0.10238209]]\n",
      "0\n",
      "255\n"
     ]
    }
   ],
   "source": [
    "bicycle_image = cv2.imread(path + 'bicycle.jpg')\n",
    "bicycle_image_noise = make_noise(bicycle_image, 15)\n",
    "\n",
    "bicycle_filtered_image = filter_image(bicycle_image, bicycle_image_noise, D, 'bicycle')"
   ]
  },
  {
   "cell_type": "markdown",
   "metadata": {},
   "source": [
    "# Вычислить ошибку восстановления сигнала для всех трёх изображений"
   ]
  },
  {
   "cell_type": "code",
   "execution_count": 13,
   "metadata": {},
   "outputs": [
    {
     "name": "stdout",
     "output_type": "stream",
     "text": [
      "Error for obama no noise 0.024169563582783965\n"
     ]
    }
   ],
   "source": [
    "print('Error for obama no noise {}'.format(get_error(obama_no_noise_image, obama_no_noise_filtered_image)))"
   ]
  },
  {
   "cell_type": "code",
   "execution_count": 14,
   "metadata": {},
   "outputs": [
    {
     "name": "stdout",
     "output_type": "stream",
     "text": [
      "Error for obama noise 0.024170338542563737\n"
     ]
    }
   ],
   "source": [
    "print('Error for obama noise {}'.format(get_error(obama_noise_image, obama_noise_filtered_image)))"
   ]
  },
  {
   "cell_type": "code",
   "execution_count": 15,
   "metadata": {},
   "outputs": [
    {
     "name": "stdout",
     "output_type": "stream",
     "text": [
      "Error for lukashenko 0.03391025388102045\n"
     ]
    }
   ],
   "source": [
    "print('Error for lukashenko {}'.format(get_error(lukashenko_image, lukashenko_filtered_image)))"
   ]
  },
  {
   "cell_type": "code",
   "execution_count": 16,
   "metadata": {},
   "outputs": [
    {
     "name": "stdout",
     "output_type": "stream",
     "text": [
      "Error for bicycle 0.16281679325838702\n"
     ]
    }
   ],
   "source": [
    "print('Error for bicycle {}'.format(get_error(bicycle_image, bicycle_filtered_image)))"
   ]
  },
  {
   "cell_type": "code",
   "execution_count": 17,
   "metadata": {},
   "outputs": [
    {
     "name": "stdout",
     "output_type": "stream",
     "text": [
      "Error for bicycle 0.09213145370757438\n"
     ]
    }
   ],
   "source": [
    "print('Error for bicycle {}'.format(get_error(bicycle_image, bicycle_image_noise)))"
   ]
  },
  {
   "cell_type": "code",
   "execution_count": 1,
   "metadata": {},
   "outputs": [
    {
     "ename": "NameError",
     "evalue": "name 'get_error' is not defined",
     "output_type": "error",
     "traceback": [
      "\u001b[1;31m---------------------------------------------------------------------------\u001b[0m",
      "\u001b[1;31mNameError\u001b[0m                                 Traceback (most recent call last)",
      "\u001b[1;32m<ipython-input-1-f27caa54068c>\u001b[0m in \u001b[0;36m<module>\u001b[1;34m\u001b[0m\n\u001b[1;32m----> 1\u001b[1;33m \u001b[0mprint\u001b[0m\u001b[1;33m(\u001b[0m\u001b[1;34m'Error for lukashenko {}'\u001b[0m\u001b[1;33m.\u001b[0m\u001b[0mformat\u001b[0m\u001b[1;33m(\u001b[0m\u001b[0mget_error\u001b[0m\u001b[1;33m(\u001b[0m\u001b[0mlukashenko_image\u001b[0m\u001b[1;33m,\u001b[0m \u001b[0mlukashenko_image_noise\u001b[0m\u001b[1;33m)\u001b[0m\u001b[1;33m)\u001b[0m\u001b[1;33m)\u001b[0m\u001b[1;33m\u001b[0m\u001b[1;33m\u001b[0m\u001b[0m\n\u001b[0m",
      "\u001b[1;31mNameError\u001b[0m: name 'get_error' is not defined"
     ]
    }
   ],
   "source": [
    "print('Error for lukashenko {}'.format(get_error(lukashenko_image, lukashenko_image_noise)))"
   ]
  },
  {
   "cell_type": "code",
   "execution_count": null,
   "metadata": {},
   "outputs": [],
   "source": []
  }
 ],
 "metadata": {
  "kernelspec": {
   "display_name": "Python 3",
   "language": "python",
   "name": "python3"
  },
  "language_info": {
   "codemirror_mode": {
    "name": "ipython",
    "version": 3
   },
   "file_extension": ".py",
   "mimetype": "text/x-python",
   "name": "python",
   "nbconvert_exporter": "python",
   "pygments_lexer": "ipython3",
   "version": "3.7.6"
  }
 },
 "nbformat": 4,
 "nbformat_minor": 4
}
