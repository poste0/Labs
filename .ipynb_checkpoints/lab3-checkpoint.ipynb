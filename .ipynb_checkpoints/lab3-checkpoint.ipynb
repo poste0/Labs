{
 "cells": [
  {
   "cell_type": "code",
   "execution_count": 1,
   "metadata": {},
   "outputs": [
    {
     "ename": "FileNotFoundError",
     "evalue": "[Errno 2] No such file or directory: 'imageBW.jpg'",
     "output_type": "error",
     "traceback": [
      "\u001b[0;31m---------------------------------------------------------------------------\u001b[0m",
      "\u001b[0;31mFileNotFoundError\u001b[0m                         Traceback (most recent call last)",
      "\u001b[0;32m<ipython-input-1-6d3523db618e>\u001b[0m in \u001b[0;36m<module>\u001b[0;34m\u001b[0m\n\u001b[1;32m      2\u001b[0m \u001b[0;32mimport\u001b[0m \u001b[0mnumpy\u001b[0m \u001b[0;32mas\u001b[0m \u001b[0mnp\u001b[0m\u001b[0;34m\u001b[0m\u001b[0;34m\u001b[0m\u001b[0m\n\u001b[1;32m      3\u001b[0m \u001b[0;34m\u001b[0m\u001b[0m\n\u001b[0;32m----> 4\u001b[0;31m \u001b[0mim\u001b[0m \u001b[0;34m=\u001b[0m \u001b[0mImage\u001b[0m\u001b[0;34m.\u001b[0m\u001b[0mopen\u001b[0m\u001b[0;34m(\u001b[0m\u001b[0;34m'imageBW.jpg'\u001b[0m\u001b[0;34m)\u001b[0m\u001b[0;34m\u001b[0m\u001b[0;34m\u001b[0m\u001b[0m\n\u001b[0m\u001b[1;32m      5\u001b[0m \u001b[0;34m\u001b[0m\u001b[0m\n\u001b[1;32m      6\u001b[0m \u001b[0mim\u001b[0m \u001b[0;34m=\u001b[0m \u001b[0mim\u001b[0m\u001b[0;34m.\u001b[0m\u001b[0mconvert\u001b[0m\u001b[0;34m(\u001b[0m\u001b[0mmode\u001b[0m\u001b[0;34m=\u001b[0m\u001b[0;34m\"1\"\u001b[0m\u001b[0;34m)\u001b[0m\u001b[0;34m\u001b[0m\u001b[0;34m\u001b[0m\u001b[0m\n",
      "\u001b[0;32m/usr/lib/python3/dist-packages/PIL/Image.py\u001b[0m in \u001b[0;36mopen\u001b[0;34m(fp, mode)\u001b[0m\n\u001b[1;32m   2768\u001b[0m \u001b[0;34m\u001b[0m\u001b[0m\n\u001b[1;32m   2769\u001b[0m     \u001b[0;32mif\u001b[0m \u001b[0mfilename\u001b[0m\u001b[0;34m:\u001b[0m\u001b[0;34m\u001b[0m\u001b[0;34m\u001b[0m\u001b[0m\n\u001b[0;32m-> 2770\u001b[0;31m         \u001b[0mfp\u001b[0m \u001b[0;34m=\u001b[0m \u001b[0mbuiltins\u001b[0m\u001b[0;34m.\u001b[0m\u001b[0mopen\u001b[0m\u001b[0;34m(\u001b[0m\u001b[0mfilename\u001b[0m\u001b[0;34m,\u001b[0m \u001b[0;34m\"rb\"\u001b[0m\u001b[0;34m)\u001b[0m\u001b[0;34m\u001b[0m\u001b[0;34m\u001b[0m\u001b[0m\n\u001b[0m\u001b[1;32m   2771\u001b[0m         \u001b[0mexclusive_fp\u001b[0m \u001b[0;34m=\u001b[0m \u001b[0;32mTrue\u001b[0m\u001b[0;34m\u001b[0m\u001b[0;34m\u001b[0m\u001b[0m\n\u001b[1;32m   2772\u001b[0m \u001b[0;34m\u001b[0m\u001b[0m\n",
      "\u001b[0;31mFileNotFoundError\u001b[0m: [Errno 2] No such file or directory: 'imageBW.jpg'"
     ]
    }
   ],
   "source": [
    "from PIL import Image\n",
    "import numpy as np\n",
    "\n",
    "im = Image.open('imageBW.jpg')\n",
    "\n",
    "im = im.convert(mode=\"1\")\n",
    "arrIm = np.array(im)\n",
    "\n",
    "arrIm = np.invert(arrIm)\n",
    "im = Image.fromarray(arrIm)\n",
    "\n",
    "print(im.getcolors())\n",
    "im"
   ]
  },
  {
   "cell_type": "code",
   "execution_count": 38,
   "metadata": {},
   "outputs": [
    {
     "name": "stdout",
     "output_type": "stream",
     "text": [
      "[0.05150036]\n"
     ]
    },
    {
     "data": {
      "image/png": "[encoded data removed]",
      "text/plain": [
       "<PIL.Image.Image image mode=1 size=228x221 at 0x4616238>"
      ]
     },
     "execution_count": 38,
     "metadata": {},
     "output_type": "execute_result"
    }
   ],
   "source": [
    "def createNoise(im, percent):\n",
    "    arr = im.copy()\n",
    "    with np.nditer(arr, op_flags=['readwrite']) as it:\n",
    "        for item in it:\n",
    "            if np.random.uniform(0,1) < percent:\n",
    "                item[...] = not item\n",
    "    return arr\n",
    "\n",
    "def checkPercent(arr1, arr2):\n",
    "    if arrIm.shape != noiseArr.shape:\n",
    "        return\n",
    "    percent = np.unique(arr1 == arr2, return_counts=True)\n",
    "    return percent[1][np.where(percent[0] == False)]/np.sum(percent[1])\n",
    "\n",
    "noiseArr = createNoise(arrIm, 0.05)\n",
    "\n",
    "print(checkPercent(arrIm, noiseArr))\n",
    "\n",
    "mask = np.array([[False, True, False],[True, True, True],[False, True, False]])\n",
    "\n",
    "Image.fromarray(noiseArr)"
   ]
  },
  {
   "cell_type": "code",
   "execution_count": 39,
   "metadata": {},
   "outputs": [
    {
     "data": {
      "image/png": "[encoded data removed]",
      "text/plain": [
       "<PIL.Image.Image image mode=1 size=228x221 at 0x46164C0>"
      ]
     },
     "execution_count": 39,
     "metadata": {},
     "output_type": "execute_result"
    }
   ],
   "source": [
    "#black = false\n",
    "#white = true\n",
    "def erosion(im, kernel):\n",
    "    shape = im.shape\n",
    "    size = int((len(kernel)-1)/2)\n",
    "    arr = np.zeros((shape[0]+2*size,shape[1]+2*size))\n",
    "    arr.fill(False)\n",
    "    arr[size:shape[0]+size, size:shape[1]+size] = im.copy()\n",
    "    imCopy = im.copy()\n",
    "    for i in range(size, shape[0]+size):\n",
    "        for j in range(size, shape[1]+size):\n",
    "            imCopy[i-size, j-size] = bool(np.prod(arr[i-size:i+size+1, j-size:j+size+1], where=kernel))\n",
    "    return imCopy\n",
    "\n",
    "erosionResult = erosion(noiseArr, mask)\n",
    "Image.fromarray(erosionResult)"
   ]
  },
  {
   "cell_type": "code",
   "execution_count": 40,
   "metadata": {},
   "outputs": [
    {
     "data": {
      "image/png": "[encoded data removed]",
      "text/plain": [
       "<PIL.Image.Image image mode=1 size=228x221 at 0x4B11B38>"
      ]
     },
     "execution_count": 40,
     "metadata": {},
     "output_type": "execute_result"
    }
   ],
   "source": [
    "#black = false\n",
    "#white = true\n",
    "def dilatation(im, kernel):\n",
    "    shape = im.shape\n",
    "    size = int((len(kernel)-1)/2)\n",
    "    arr = np.zeros((shape[0]+2*size,shape[1]+2*size))\n",
    "    arr.fill(False)\n",
    "    arr[size:shape[0]+size, size:shape[1]+size] = im.copy()\n",
    "    imCopy = im.copy()\n",
    "    for i in range(size, shape[0]+size):\n",
    "        for j in range(size, shape[1]+size):\n",
    "            imCopy[i-size, j-size] = bool(np.sum(arr[i-size:i+size+1, j-size:j+size+1], where=kernel))\n",
    "    return imCopy\n",
    "\n",
    "dilatationResult = dilatation(noiseArr, mask)\n",
    "Image.fromarray(dilatationResult)"
   ]
  },
  {
   "cell_type": "code",
   "execution_count": 41,
   "metadata": {},
   "outputs": [
    {
     "name": "stdout",
     "output_type": "stream",
     "text": [
      "[0.01359451]\n"
     ]
    },
    {
     "data": {
      "image/png": "[encoded data removed]",
      "text/plain": [
       "<PIL.Image.Image image mode=1 size=228x221 at 0x3C92DA8>"
      ]
     },
     "execution_count": 41,
     "metadata": {},
     "output_type": "execute_result"
    }
   ],
   "source": [
    "def opening(im, kernel):\n",
    "    arr = erosion(im, kernel)\n",
    "    arr = dilatation(arr, kernel)\n",
    "    return arr\n",
    "\n",
    "openingResult = opening(noiseArr, mask)\n",
    "print(checkPercent(openingResult, arrIm))\n",
    "Image.fromarray(openingResult)"
   ]
  },
  {
   "cell_type": "code",
   "execution_count": 42,
   "metadata": {},
   "outputs": [
    {
     "name": "stdout",
     "output_type": "stream",
     "text": [
      "[0.04836469]\n"
     ]
    },
    {
     "data": {
      "image/png": "[encoded data removed]",
      "text/plain": [
       "<PIL.Image.Image image mode=1 size=228x221 at 0x4B11F70>"
      ]
     },
     "execution_count": 42,
     "metadata": {},
     "output_type": "execute_result"
    }
   ],
   "source": [
    "def closing(im, kernel):\n",
    "    arr = dilatation(im, kernel)\n",
    "    arr = erosion(arr, kernel)\n",
    "    return arr\n",
    "\n",
    "closingResult = closing(noiseArr, mask)\n",
    "print(checkPercent(closingResult, arrIm))\n",
    "Image.fromarray(closingResult)"
   ]
  },
  {
   "cell_type": "code",
   "execution_count": 43,
   "metadata": {},
   "outputs": [
    {
     "name": "stdout",
     "output_type": "stream",
     "text": [
      "[0.00690641]\n"
     ]
    },
    {
     "data": {
      "image/png": "[encoded data removed]",
      "text/plain": [
       "<PIL.Image.Image image mode=1 size=228x221 at 0x4616658>"
      ]
     },
     "execution_count": 43,
     "metadata": {},
     "output_type": "execute_result"
    }
   ],
   "source": [
    "closeopen = opening(closingResult, mask)\n",
    "print(checkPercent(closeopen,arrIm))\n",
    "Image.fromarray(closeopen)"
   ]
  },
  {
   "cell_type": "code",
   "execution_count": 44,
   "metadata": {},
   "outputs": [
    {
     "name": "stdout",
     "output_type": "stream",
     "text": [
      "[0.0061721]\n"
     ]
    },
    {
     "data": {
      "image/png": "[encoded data removed]",
      "text/plain": [
       "<PIL.Image.Image image mode=1 size=228x221 at 0x46166A0>"
      ]
     },
     "execution_count": 44,
     "metadata": {},
     "output_type": "execute_result"
    }
   ],
   "source": [
    "openclose = closing(openingResult, mask)\n",
    "print(checkPercent(openclose,arrIm))\n",
    "Image.fromarray(openclose)"
   ]
  },
  {
   "cell_type": "code",
   "execution_count": 45,
   "metadata": {},
   "outputs": [
    {
     "name": "stdout",
     "output_type": "stream",
     "text": [
      "[0.0113916]\n"
     ]
    },
    {
     "data": {
      "image/png": "[encoded data removed]",
      "text/plain": [
       "<PIL.Image.Image image mode=1 size=228x221 at 0x4616538>"
      ]
     },
     "execution_count": 45,
     "metadata": {},
     "output_type": "execute_result"
    }
   ],
   "source": [
    "#black = false\n",
    "#white = true\n",
    "def filterImage(im):\n",
    "    shape = im.shape\n",
    "    arr = np.zeros((shape[0]+2,shape[1]+2))\n",
    "    arr.fill(True)\n",
    "    arr[1:shape[0]+1, 1:shape[1]+1] = im.copy()\n",
    "    arr1 = im.copy()\n",
    "    for i in range(1, shape[0]+1):\n",
    "        for j in range(1, shape[1]+1):\n",
    "            if not arr[i, j] and arr[i-1, j] and arr[i+1, j] and arr[i, j-1] and arr[i, j+1]:\n",
    "                arr1[i-1, j-1] = True\n",
    "            elif arr[i, j] and not arr[i-1, j] and not arr[i+1, j] and not arr[i, j-1] and not arr[i, j+1]:\n",
    "                arr1[i-1, j-1] = False\n",
    "    return arr1\n",
    "\n",
    "filteredArr = filterImage(noiseArr)\n",
    "print(checkPercent(filteredArr, arrIm))\n",
    "Image.fromarray(filteredArr)"
   ]
  },
  {
   "cell_type": "markdown",
   "metadata": {},
   "source": [
    "# Выделение контуров"
   ]
  },
  {
   "cell_type": "code",
   "execution_count": 46,
   "metadata": {},
   "outputs": [
    {
     "data": {
      "image/png": "[encoded data removed]",
      "text/plain": [
       "<PIL.Image.Image image mode=1 size=228x221 at 0x4B11D18>"
      ]
     },
     "execution_count": 46,
     "metadata": {},
     "output_type": "execute_result"
    }
   ],
   "source": [
    "im"
   ]
  },
  {
   "cell_type": "code",
   "execution_count": 47,
   "metadata": {},
   "outputs": [
    {
     "data": {
      "image/png": "[encoded data removed]",
      "text/plain": [
       "<PIL.Image.Image image mode=1 size=228x221 at 0x4C1CC10>"
      ]
     },
     "execution_count": 47,
     "metadata": {},
     "output_type": "execute_result"
    }
   ],
   "source": [
    "Image.fromarray(erosion(arrIm, mask) == arrIm)"
   ]
  },
  {
   "cell_type": "code",
   "execution_count": 48,
   "metadata": {},
   "outputs": [
    {
     "data": {
      "image/png": "[encoded data removed]",
      "text/plain": [
       "<PIL.Image.Image image mode=1 size=228x221 at 0x3D12FA0>"
      ]
     },
     "execution_count": 48,
     "metadata": {},
     "output_type": "execute_result"
    }
   ],
   "source": [
    "Image.fromarray(dilatation(arrIm, mask) == arrIm)"
   ]
  },
  {
   "cell_type": "code",
   "execution_count": 49,
   "metadata": {},
   "outputs": [
    {
     "data": {
      "image/png": "[encoded data removed]",
      "text/plain": [
       "<PIL.Image.Image image mode=1 size=228x221 at 0x4C1C0B8>"
      ]
     },
     "execution_count": 49,
     "metadata": {},
     "output_type": "execute_result"
    }
   ],
   "source": [
    "Image.fromarray(erosion(arrIm, np.array([[False, False, False],[True, True, True],[False, False, False]])) == arrIm)"
   ]
  },
  {
   "cell_type": "code",
   "execution_count": 50,
   "metadata": {},
   "outputs": [
    {
     "data": {
      "image/png": "[encoded data removed]",
      "text/plain": [
       "<PIL.Image.Image image mode=1 size=228x221 at 0x4C1CBB0>"
      ]
     },
     "execution_count": 50,
     "metadata": {},
     "output_type": "execute_result"
    }
   ],
   "source": [
    "Image.fromarray(erosion(arrIm, np.array([[False, True, False],[False, True, False],[False, True, False]])) == arrIm)"
   ]
  },
  {
   "cell_type": "code",
   "execution_count": null,
   "metadata": {},
   "outputs": [],
   "source": []
  }
 ],
 "metadata": {
  "kernelspec": {
   "display_name": "Python 3",
   "language": "python",
   "name": "python3"
  },
  "language_info": {
   "codemirror_mode": {
    "name": "ipython",
    "version": 3
   },
   "file_extension": ".py",
   "mimetype": "text/x-python",
   "name": "python",
   "nbconvert_exporter": "python",
   "pygments_lexer": "ipython3",
   "version": "3.7.5"
  }
 },
 "nbformat": 4,
 "nbformat_minor": 4
}
